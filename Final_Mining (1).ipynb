{
 "cells": [
  {
   "cell_type": "markdown",
   "metadata": {
    "id": "SC0y67h3otoo"
   },
   "source": [
    "# Assignment for second attestation\n",
    "This assignment should be done by the group of 4-5 students. All students must be \n",
    "involved in programming. The maximum score for each task is 100. You must submit \n",
    "report (pdf) file containing your project and txt file with url to your GitHub repository. The \n",
    "defense is obligatory. During defense any team member maybe asked questions related to \n",
    "any part of the project and the topics. Student who refused to defend gets 0.\n",
    "Dataset Description:\n",
    "- types.csv - reference of transaction types\n",
    "- codes.csv - reference of transaction codes\n",
    "- transactions.csv - transactional data on banking operations\n",
    "- train_set.csv - training set with client gender marking (0/1 - client gender)\n",
    "- test_set.csv - no need to use.\n",
    "transactions.csv columns description:\n",
    "- client_id - client is id\n",
    "- datetime -transaction date (format - ordered day number hh:mm:ss - 421 06:33:15)\n",
    "- code - transaction code\n",
    "- type - transaction type\n",
    "- sum - sum of transaction\n",
    "TASKS: WARNING! Here is the written Minimum evaluation criteria.\n",
    "Assignment for second attestation (Unsupervised, 50%):\n",
    "\n",
    "I. Explore the dataset. Do the descriptive statistics.\n",
    "\n",
    "II. Explanatory data analysis. Exploring the features, visualizations etc. (https:// \n",
    "www.kaggle.com/learn/data-visualization, https://towardsdatascience.com/ \n",
    "exploratory-data-analysis-8fc1cb20fd15, https://www.mastersindatascience.org/ \n",
    "learning/what-is-exploratory-data-analysis/ )\n",
    "\n",
    "III. Feature engineering. Encodings, generating the features from date-time, sum and \n",
    "from other columns. (https://www.kaggle.com/learn/feature-engineering, https://\n",
    "www.kaggle.com/learn/data-cleaning )\n",
    "\n",
    "IV. Unsupervised learning. Do the Cluster analysis. Segment the customers. K-means, \n",
    "Hierarchical Clustering. With different metrics, linkages. Visualize the clusters etc. \n",
    "Look for the optimal number of the clusters\n",
    "\n",
    "V. Analyze models, Result comparison, ROC/AUC, precision and recall\n",
    "curves, deep analyzing.\n",
    "\n",
    "\n",
    "VI. Conclusion."
   ]
  },
  {
   "cell_type": "markdown",
   "metadata": {
    "id": "Ljlw07TMNDol"
   },
   "source": [
    "# Part 1 Explore the dataset. Do the descriptive statistics"
   ]
  },
  {
   "cell_type": "code",
   "execution_count": 1,
   "metadata": {
    "colab": {
     "base_uri": "https://localhost:8080/"
    },
    "id": "JvP4FnpVqa9b",
    "outputId": "041ad8b8-dd33-496d-c093-603cf7b19507"
   },
   "outputs": [
    {
     "name": "stderr",
     "output_type": "stream",
     "text": [
      "[nltk_data] Downloading package stopwords to\n",
      "[nltk_data]     C:\\Users\\user\\AppData\\Roaming\\nltk_data...\n",
      "[nltk_data]   Package stopwords is already up-to-date!\n"
     ]
    }
   ],
   "source": [
    "# Importing all necessary libraries\n",
    "\n",
    "from sklearn.ensemble import RandomForestClassifier\n",
    "from sklearn.datasets import load_breast_cancer\n",
    "from sklearn.model_selection import train_test_split\n",
    "import matplotlib.pyplot as plt\n",
    "import numpy as np\n",
    "import pandas as pd\n",
    "\n",
    "import math\n",
    "import statistics\n",
    "import scipy.stats\n",
    "%matplotlib inline\n",
    "\n",
    "import nltk, warnings\n",
    "from nltk.tokenize import sent_tokenize, word_tokenize\n",
    "from nltk.corpus import stopwords\n",
    "from nltk.stem import WordNetLemmatizer\n",
    "nltk.download('stopwords')\n",
    "\n",
    "from sklearn.feature_extraction.text import CountVectorizer, TfidfVectorizer\n",
    "from sklearn.decomposition import PCA, TruncatedSVD\n",
    "from sklearn.preprocessing import LabelEncoder, StandardScaler, Normalizer\n",
    "from sklearn.cluster import KMeans\n",
    "from sklearn.metrics import silhouette_samples, silhouette_score\n",
    "from sklearn.manifold import TSNE\n",
    "from sklearn import linear_model\n",
    "from sklearn.neighbors import KNeighborsClassifier\n",
    "from sklearn.tree import DecisionTreeClassifier\n",
    "from sklearn.model_selection import GridSearchCV\n",
    "from sklearn.linear_model import SGDClassifier \n",
    "from sklearn.linear_model import LogisticRegression\n"
   ]
  },
  {
   "cell_type": "code",
   "execution_count": 2,
   "metadata": {
    "colab": {
     "base_uri": "https://localhost:8080/",
     "height": 423
    },
    "id": "XV11LTm4rNAh",
    "outputId": "d398b710-a46b-4f93-cd80-bad77c46ef2d"
   },
   "outputs": [
    {
     "data": {
      "text/html": [
       "<div>\n",
       "<style scoped>\n",
       "    .dataframe tbody tr th:only-of-type {\n",
       "        vertical-align: middle;\n",
       "    }\n",
       "\n",
       "    .dataframe tbody tr th {\n",
       "        vertical-align: top;\n",
       "    }\n",
       "\n",
       "    .dataframe thead th {\n",
       "        text-align: right;\n",
       "    }\n",
       "</style>\n",
       "<table border=\"1\" class=\"dataframe\">\n",
       "  <thead>\n",
       "    <tr style=\"text-align: right;\">\n",
       "      <th></th>\n",
       "      <th>client_id</th>\n",
       "      <th>target</th>\n",
       "    </tr>\n",
       "  </thead>\n",
       "  <tbody>\n",
       "    <tr>\n",
       "      <th>0</th>\n",
       "      <td>75063019</td>\n",
       "      <td>0</td>\n",
       "    </tr>\n",
       "    <tr>\n",
       "      <th>1</th>\n",
       "      <td>86227647</td>\n",
       "      <td>1</td>\n",
       "    </tr>\n",
       "    <tr>\n",
       "      <th>2</th>\n",
       "      <td>6506523</td>\n",
       "      <td>0</td>\n",
       "    </tr>\n",
       "    <tr>\n",
       "      <th>3</th>\n",
       "      <td>50615998</td>\n",
       "      <td>0</td>\n",
       "    </tr>\n",
       "    <tr>\n",
       "      <th>4</th>\n",
       "      <td>95213230</td>\n",
       "      <td>0</td>\n",
       "    </tr>\n",
       "    <tr>\n",
       "      <th>...</th>\n",
       "      <td>...</td>\n",
       "      <td>...</td>\n",
       "    </tr>\n",
       "    <tr>\n",
       "      <th>5995</th>\n",
       "      <td>71577803</td>\n",
       "      <td>0</td>\n",
       "    </tr>\n",
       "    <tr>\n",
       "      <th>5996</th>\n",
       "      <td>8128547</td>\n",
       "      <td>1</td>\n",
       "    </tr>\n",
       "    <tr>\n",
       "      <th>5997</th>\n",
       "      <td>26055781</td>\n",
       "      <td>0</td>\n",
       "    </tr>\n",
       "    <tr>\n",
       "      <th>5998</th>\n",
       "      <td>73504380</td>\n",
       "      <td>1</td>\n",
       "    </tr>\n",
       "    <tr>\n",
       "      <th>5999</th>\n",
       "      <td>1846496</td>\n",
       "      <td>0</td>\n",
       "    </tr>\n",
       "  </tbody>\n",
       "</table>\n",
       "<p>6000 rows × 2 columns</p>\n",
       "</div>"
      ],
      "text/plain": [
       "      client_id  target\n",
       "0      75063019       0\n",
       "1      86227647       1\n",
       "2       6506523       0\n",
       "3      50615998       0\n",
       "4      95213230       0\n",
       "...         ...     ...\n",
       "5995   71577803       0\n",
       "5996    8128547       1\n",
       "5997   26055781       0\n",
       "5998   73504380       1\n",
       "5999    1846496       0\n",
       "\n",
       "[6000 rows x 2 columns]"
      ]
     },
     "execution_count": 2,
     "metadata": {},
     "output_type": "execute_result"
    }
   ],
   "source": [
    "train = pd.read_csv('train_set.csv', sep=';')\n",
    "train"
   ]
  },
  {
   "cell_type": "code",
   "execution_count": 3,
   "metadata": {
    "colab": {
     "base_uri": "https://localhost:8080/",
     "height": 423
    },
    "id": "3DxKlqK8GteM",
    "outputId": "6699cdf2-aff5-47ce-afce-423299d382e9"
   },
   "outputs": [
    {
     "data": {
      "text/html": [
       "<div>\n",
       "<style scoped>\n",
       "    .dataframe tbody tr th:only-of-type {\n",
       "        vertical-align: middle;\n",
       "    }\n",
       "\n",
       "    .dataframe tbody tr th {\n",
       "        vertical-align: top;\n",
       "    }\n",
       "\n",
       "    .dataframe thead th {\n",
       "        text-align: right;\n",
       "    }\n",
       "</style>\n",
       "<table border=\"1\" class=\"dataframe\">\n",
       "  <thead>\n",
       "    <tr style=\"text-align: right;\">\n",
       "      <th></th>\n",
       "      <th>client_id</th>\n",
       "      <th>datetime</th>\n",
       "      <th>code</th>\n",
       "      <th>type</th>\n",
       "      <th>sum</th>\n",
       "    </tr>\n",
       "  </thead>\n",
       "  <tbody>\n",
       "    <tr>\n",
       "      <th>0</th>\n",
       "      <td>96372458</td>\n",
       "      <td>421 06:33:15</td>\n",
       "      <td>6011</td>\n",
       "      <td>2010</td>\n",
       "      <td>-561478.94</td>\n",
       "    </tr>\n",
       "    <tr>\n",
       "      <th>1</th>\n",
       "      <td>24567813</td>\n",
       "      <td>377 17:20:40</td>\n",
       "      <td>6011</td>\n",
       "      <td>7010</td>\n",
       "      <td>67377.47</td>\n",
       "    </tr>\n",
       "    <tr>\n",
       "      <th>2</th>\n",
       "      <td>21717441</td>\n",
       "      <td>55 13:38:47</td>\n",
       "      <td>6011</td>\n",
       "      <td>2010</td>\n",
       "      <td>-44918.32</td>\n",
       "    </tr>\n",
       "    <tr>\n",
       "      <th>3</th>\n",
       "      <td>14331004</td>\n",
       "      <td>263 12:57:08</td>\n",
       "      <td>6011</td>\n",
       "      <td>2010</td>\n",
       "      <td>-3368873.66</td>\n",
       "    </tr>\n",
       "    <tr>\n",
       "      <th>4</th>\n",
       "      <td>85302434</td>\n",
       "      <td>151 10:34:12</td>\n",
       "      <td>4814</td>\n",
       "      <td>1030</td>\n",
       "      <td>-3368.87</td>\n",
       "    </tr>\n",
       "    <tr>\n",
       "      <th>...</th>\n",
       "      <td>...</td>\n",
       "      <td>...</td>\n",
       "      <td>...</td>\n",
       "      <td>...</td>\n",
       "      <td>...</td>\n",
       "    </tr>\n",
       "    <tr>\n",
       "      <th>130034</th>\n",
       "      <td>15836839</td>\n",
       "      <td>147 11:50:53</td>\n",
       "      <td>5411</td>\n",
       "      <td>1010</td>\n",
       "      <td>-26344.59</td>\n",
       "    </tr>\n",
       "    <tr>\n",
       "      <th>130035</th>\n",
       "      <td>28369355</td>\n",
       "      <td>305 11:59:34</td>\n",
       "      <td>4829</td>\n",
       "      <td>2330</td>\n",
       "      <td>-24705.07</td>\n",
       "    </tr>\n",
       "    <tr>\n",
       "      <th>130036</th>\n",
       "      <td>40949707</td>\n",
       "      <td>398 21:13:58</td>\n",
       "      <td>5411</td>\n",
       "      <td>1110</td>\n",
       "      <td>-40353.72</td>\n",
       "    </tr>\n",
       "    <tr>\n",
       "      <th>130037</th>\n",
       "      <td>7174462</td>\n",
       "      <td>409 13:58:14</td>\n",
       "      <td>5411</td>\n",
       "      <td>1010</td>\n",
       "      <td>-25536.06</td>\n",
       "    </tr>\n",
       "    <tr>\n",
       "      <th>130038</th>\n",
       "      <td>92197764</td>\n",
       "      <td>319 00:00:00</td>\n",
       "      <td>5533</td>\n",
       "      <td>1110</td>\n",
       "      <td>-12127.95</td>\n",
       "    </tr>\n",
       "  </tbody>\n",
       "</table>\n",
       "<p>130039 rows × 5 columns</p>\n",
       "</div>"
      ],
      "text/plain": [
       "        client_id      datetime  code  type         sum\n",
       "0        96372458  421 06:33:15  6011  2010  -561478.94\n",
       "1        24567813  377 17:20:40  6011  7010    67377.47\n",
       "2        21717441   55 13:38:47  6011  2010   -44918.32\n",
       "3        14331004  263 12:57:08  6011  2010 -3368873.66\n",
       "4        85302434  151 10:34:12  4814  1030    -3368.87\n",
       "...           ...           ...   ...   ...         ...\n",
       "130034   15836839  147 11:50:53  5411  1010   -26344.59\n",
       "130035   28369355  305 11:59:34  4829  2330   -24705.07\n",
       "130036   40949707  398 21:13:58  5411  1110   -40353.72\n",
       "130037    7174462  409 13:58:14  5411  1010   -25536.06\n",
       "130038   92197764  319 00:00:00  5533  1110   -12127.95\n",
       "\n",
       "[130039 rows x 5 columns]"
      ]
     },
     "execution_count": 3,
     "metadata": {},
     "output_type": "execute_result"
    }
   ],
   "source": [
    "transaction = pd.read_csv('transactions.csv', sep=';')\n",
    "transaction"
   ]
  },
  {
   "cell_type": "code",
   "execution_count": 4,
   "metadata": {
    "colab": {
     "base_uri": "https://localhost:8080/",
     "height": 423
    },
    "id": "sw-0T7IeGxVW",
    "outputId": "a81e0873-1261-4c74-fc0b-67a40e2ee014"
   },
   "outputs": [
    {
     "data": {
      "text/html": [
       "<div>\n",
       "<style scoped>\n",
       "    .dataframe tbody tr th:only-of-type {\n",
       "        vertical-align: middle;\n",
       "    }\n",
       "\n",
       "    .dataframe tbody tr th {\n",
       "        vertical-align: top;\n",
       "    }\n",
       "\n",
       "    .dataframe thead th {\n",
       "        text-align: right;\n",
       "    }\n",
       "</style>\n",
       "<table border=\"1\" class=\"dataframe\">\n",
       "  <thead>\n",
       "    <tr style=\"text-align: right;\">\n",
       "      <th></th>\n",
       "      <th>type</th>\n",
       "      <th>type_description</th>\n",
       "    </tr>\n",
       "  </thead>\n",
       "  <tbody>\n",
       "    <tr>\n",
       "      <th>0</th>\n",
       "      <td>8001</td>\n",
       "      <td>Установление расх. лимита по карте</td>\n",
       "    </tr>\n",
       "    <tr>\n",
       "      <th>1</th>\n",
       "      <td>2411</td>\n",
       "      <td>Перевод с карты на счет др.лица в одном тер. б...</td>\n",
       "    </tr>\n",
       "    <tr>\n",
       "      <th>2</th>\n",
       "      <td>4035</td>\n",
       "      <td>н/д(нет данных)</td>\n",
       "    </tr>\n",
       "    <tr>\n",
       "      <th>3</th>\n",
       "      <td>3001</td>\n",
       "      <td>Комиссия за обслуживание ссудного счета</td>\n",
       "    </tr>\n",
       "    <tr>\n",
       "      <th>4</th>\n",
       "      <td>2420</td>\n",
       "      <td>Перевод с карты на счет физ.лица в другом тер....</td>\n",
       "    </tr>\n",
       "    <tr>\n",
       "      <th>...</th>\n",
       "      <td>...</td>\n",
       "      <td>...</td>\n",
       "    </tr>\n",
       "    <tr>\n",
       "      <th>150</th>\n",
       "      <td>4110</td>\n",
       "      <td>Плата за получение наличных в АТМ.</td>\n",
       "    </tr>\n",
       "    <tr>\n",
       "      <th>151</th>\n",
       "      <td>2320</td>\n",
       "      <td>Безналичный перевод денежных средств через POS</td>\n",
       "    </tr>\n",
       "    <tr>\n",
       "      <th>152</th>\n",
       "      <td>7040</td>\n",
       "      <td>Перевод на карту (с карты) через POS (в предел...</td>\n",
       "    </tr>\n",
       "    <tr>\n",
       "      <th>153</th>\n",
       "      <td>2433</td>\n",
       "      <td>Перевод с карты на счет физ.лица в другом банк...</td>\n",
       "    </tr>\n",
       "    <tr>\n",
       "      <th>154</th>\n",
       "      <td>2431</td>\n",
       "      <td>Перевод с карты на счет физ.лица в другом банк...</td>\n",
       "    </tr>\n",
       "  </tbody>\n",
       "</table>\n",
       "<p>155 rows × 2 columns</p>\n",
       "</div>"
      ],
      "text/plain": [
       "     type                                   type_description\n",
       "0    8001                 Установление расх. лимита по карте\n",
       "1    2411  Перевод с карты на счет др.лица в одном тер. б...\n",
       "2    4035                                    н/д(нет данных)\n",
       "3    3001            Комиссия за обслуживание ссудного счета\n",
       "4    2420  Перевод с карты на счет физ.лица в другом тер....\n",
       "..    ...                                                ...\n",
       "150  4110                 Плата за получение наличных в АТМ.\n",
       "151  2320     Безналичный перевод денежных средств через POS\n",
       "152  7040  Перевод на карту (с карты) через POS (в предел...\n",
       "153  2433  Перевод с карты на счет физ.лица в другом банк...\n",
       "154  2431  Перевод с карты на счет физ.лица в другом банк...\n",
       "\n",
       "[155 rows x 2 columns]"
      ]
     },
     "execution_count": 4,
     "metadata": {},
     "output_type": "execute_result"
    }
   ],
   "source": [
    "types = pd.read_csv('types.csv', sep=';')\n",
    "types"
   ]
  },
  {
   "cell_type": "code",
   "execution_count": 5,
   "metadata": {
    "colab": {
     "base_uri": "https://localhost:8080/",
     "height": 423
    },
    "id": "y-y_MuCkYeYS",
    "outputId": "b7260082-a4fe-4b68-ce17-f5ce0d4a2c97"
   },
   "outputs": [
    {
     "data": {
      "text/html": [
       "<div>\n",
       "<style scoped>\n",
       "    .dataframe tbody tr th:only-of-type {\n",
       "        vertical-align: middle;\n",
       "    }\n",
       "\n",
       "    .dataframe tbody tr th {\n",
       "        vertical-align: top;\n",
       "    }\n",
       "\n",
       "    .dataframe thead th {\n",
       "        text-align: right;\n",
       "    }\n",
       "</style>\n",
       "<table border=\"1\" class=\"dataframe\">\n",
       "  <thead>\n",
       "    <tr style=\"text-align: right;\">\n",
       "      <th></th>\n",
       "      <th>code</th>\n",
       "      <th>code_description</th>\n",
       "    </tr>\n",
       "  </thead>\n",
       "  <tbody>\n",
       "    <tr>\n",
       "      <th>0</th>\n",
       "      <td>5944</td>\n",
       "      <td>Магазины по продаже часов, ювелирных изделий и...</td>\n",
       "    </tr>\n",
       "    <tr>\n",
       "      <th>1</th>\n",
       "      <td>5621</td>\n",
       "      <td>Готовые сумочные изделия</td>\n",
       "    </tr>\n",
       "    <tr>\n",
       "      <th>2</th>\n",
       "      <td>5697</td>\n",
       "      <td>Услуги по переделке, починке и пошиву одежды</td>\n",
       "    </tr>\n",
       "    <tr>\n",
       "      <th>3</th>\n",
       "      <td>7995</td>\n",
       "      <td>Транзакции по азартным играм</td>\n",
       "    </tr>\n",
       "    <tr>\n",
       "      <th>4</th>\n",
       "      <td>5137</td>\n",
       "      <td>Мужская, женская и детская спец-одежда</td>\n",
       "    </tr>\n",
       "    <tr>\n",
       "      <th>...</th>\n",
       "      <td>...</td>\n",
       "      <td>...</td>\n",
       "    </tr>\n",
       "    <tr>\n",
       "      <th>179</th>\n",
       "      <td>5044</td>\n",
       "      <td>Офисное, фотографическое, фотокопировальное, и...</td>\n",
       "    </tr>\n",
       "    <tr>\n",
       "      <th>180</th>\n",
       "      <td>5983</td>\n",
       "      <td>Горючее топливо — уголь, нефть, разжиженный бе...</td>\n",
       "    </tr>\n",
       "    <tr>\n",
       "      <th>181</th>\n",
       "      <td>5994</td>\n",
       "      <td>Дилеры по продаже печатной продукции</td>\n",
       "    </tr>\n",
       "    <tr>\n",
       "      <th>182</th>\n",
       "      <td>5192</td>\n",
       "      <td>Книги, периодические издания и газеты</td>\n",
       "    </tr>\n",
       "    <tr>\n",
       "      <th>183</th>\n",
       "      <td>7922</td>\n",
       "      <td>Театральные продюсерские агентства</td>\n",
       "    </tr>\n",
       "  </tbody>\n",
       "</table>\n",
       "<p>184 rows × 2 columns</p>\n",
       "</div>"
      ],
      "text/plain": [
       "     code                                   code_description\n",
       "0    5944  Магазины по продаже часов, ювелирных изделий и...\n",
       "1    5621                           Готовые сумочные изделия\n",
       "2    5697       Услуги по переделке, починке и пошиву одежды\n",
       "3    7995                       Транзакции по азартным играм\n",
       "4    5137             Мужская, женская и детская спец-одежда\n",
       "..    ...                                                ...\n",
       "179  5044  Офисное, фотографическое, фотокопировальное, и...\n",
       "180  5983  Горючее топливо — уголь, нефть, разжиженный бе...\n",
       "181  5994               Дилеры по продаже печатной продукции\n",
       "182  5192              Книги, периодические издания и газеты\n",
       "183  7922                 Театральные продюсерские агентства\n",
       "\n",
       "[184 rows x 2 columns]"
      ]
     },
     "execution_count": 5,
     "metadata": {},
     "output_type": "execute_result"
    }
   ],
   "source": [
    "codes = pd.read_csv('codes.csv', sep=';')\n",
    "codes"
   ]
  },
  {
   "cell_type": "code",
   "execution_count": 6,
   "metadata": {
    "colab": {
     "base_uri": "https://localhost:8080/",
     "height": 300
    },
    "id": "z2n3q72AG6Ma",
    "outputId": "d0b2a357-a4a4-4f85-cdae-7d80e27a43db"
   },
   "outputs": [
    {
     "data": {
      "text/html": [
       "<div>\n",
       "<style scoped>\n",
       "    .dataframe tbody tr th:only-of-type {\n",
       "        vertical-align: middle;\n",
       "    }\n",
       "\n",
       "    .dataframe tbody tr th {\n",
       "        vertical-align: top;\n",
       "    }\n",
       "\n",
       "    .dataframe thead th {\n",
       "        text-align: right;\n",
       "    }\n",
       "</style>\n",
       "<table border=\"1\" class=\"dataframe\">\n",
       "  <thead>\n",
       "    <tr style=\"text-align: right;\">\n",
       "      <th></th>\n",
       "      <th>client_id</th>\n",
       "      <th>target</th>\n",
       "    </tr>\n",
       "  </thead>\n",
       "  <tbody>\n",
       "    <tr>\n",
       "      <th>count</th>\n",
       "      <td>6.000000e+03</td>\n",
       "      <td>6000.000000</td>\n",
       "    </tr>\n",
       "    <tr>\n",
       "      <th>mean</th>\n",
       "      <td>5.102984e+07</td>\n",
       "      <td>0.443333</td>\n",
       "    </tr>\n",
       "    <tr>\n",
       "      <th>std</th>\n",
       "      <td>2.881391e+07</td>\n",
       "      <td>0.496820</td>\n",
       "    </tr>\n",
       "    <tr>\n",
       "      <th>min</th>\n",
       "      <td>2.289900e+04</td>\n",
       "      <td>0.000000</td>\n",
       "    </tr>\n",
       "    <tr>\n",
       "      <th>25%</th>\n",
       "      <td>2.612906e+07</td>\n",
       "      <td>0.000000</td>\n",
       "    </tr>\n",
       "    <tr>\n",
       "      <th>50%</th>\n",
       "      <td>5.164080e+07</td>\n",
       "      <td>0.000000</td>\n",
       "    </tr>\n",
       "    <tr>\n",
       "      <th>75%</th>\n",
       "      <td>7.590927e+07</td>\n",
       "      <td>1.000000</td>\n",
       "    </tr>\n",
       "    <tr>\n",
       "      <th>max</th>\n",
       "      <td>9.999124e+07</td>\n",
       "      <td>1.000000</td>\n",
       "    </tr>\n",
       "  </tbody>\n",
       "</table>\n",
       "</div>"
      ],
      "text/plain": [
       "          client_id       target\n",
       "count  6.000000e+03  6000.000000\n",
       "mean   5.102984e+07     0.443333\n",
       "std    2.881391e+07     0.496820\n",
       "min    2.289900e+04     0.000000\n",
       "25%    2.612906e+07     0.000000\n",
       "50%    5.164080e+07     0.000000\n",
       "75%    7.590927e+07     1.000000\n",
       "max    9.999124e+07     1.000000"
      ]
     },
     "execution_count": 6,
     "metadata": {},
     "output_type": "execute_result"
    }
   ],
   "source": [
    "train.describe(include='all')"
   ]
  },
  {
   "cell_type": "code",
   "execution_count": 7,
   "metadata": {
    "colab": {
     "base_uri": "https://localhost:8080/",
     "height": 394
    },
    "id": "BBqBjbQ9M6l6",
    "outputId": "5a9f2e82-a9c4-4868-81af-84b3e28df9f8"
   },
   "outputs": [
    {
     "data": {
      "text/html": [
       "<div>\n",
       "<style scoped>\n",
       "    .dataframe tbody tr th:only-of-type {\n",
       "        vertical-align: middle;\n",
       "    }\n",
       "\n",
       "    .dataframe tbody tr th {\n",
       "        vertical-align: top;\n",
       "    }\n",
       "\n",
       "    .dataframe thead th {\n",
       "        text-align: right;\n",
       "    }\n",
       "</style>\n",
       "<table border=\"1\" class=\"dataframe\">\n",
       "  <thead>\n",
       "    <tr style=\"text-align: right;\">\n",
       "      <th></th>\n",
       "      <th>client_id</th>\n",
       "      <th>datetime</th>\n",
       "      <th>code</th>\n",
       "      <th>type</th>\n",
       "      <th>sum</th>\n",
       "    </tr>\n",
       "  </thead>\n",
       "  <tbody>\n",
       "    <tr>\n",
       "      <th>count</th>\n",
       "      <td>1.300390e+05</td>\n",
       "      <td>130039</td>\n",
       "      <td>130039.000000</td>\n",
       "      <td>130039.000000</td>\n",
       "      <td>1.300390e+05</td>\n",
       "    </tr>\n",
       "    <tr>\n",
       "      <th>unique</th>\n",
       "      <td>NaN</td>\n",
       "      <td>114770</td>\n",
       "      <td>NaN</td>\n",
       "      <td>NaN</td>\n",
       "      <td>NaN</td>\n",
       "    </tr>\n",
       "    <tr>\n",
       "      <th>top</th>\n",
       "      <td>NaN</td>\n",
       "      <td>456 00:00:00</td>\n",
       "      <td>NaN</td>\n",
       "      <td>NaN</td>\n",
       "      <td>NaN</td>\n",
       "    </tr>\n",
       "    <tr>\n",
       "      <th>freq</th>\n",
       "      <td>NaN</td>\n",
       "      <td>60</td>\n",
       "      <td>NaN</td>\n",
       "      <td>NaN</td>\n",
       "      <td>NaN</td>\n",
       "    </tr>\n",
       "    <tr>\n",
       "      <th>mean</th>\n",
       "      <td>5.086859e+07</td>\n",
       "      <td>NaN</td>\n",
       "      <td>5594.629996</td>\n",
       "      <td>2489.372135</td>\n",
       "      <td>-1.812909e+04</td>\n",
       "    </tr>\n",
       "    <tr>\n",
       "      <th>std</th>\n",
       "      <td>2.872854e+07</td>\n",
       "      <td>NaN</td>\n",
       "      <td>606.087084</td>\n",
       "      <td>2253.296578</td>\n",
       "      <td>5.584445e+05</td>\n",
       "    </tr>\n",
       "    <tr>\n",
       "      <th>min</th>\n",
       "      <td>2.289900e+04</td>\n",
       "      <td>NaN</td>\n",
       "      <td>742.000000</td>\n",
       "      <td>1000.000000</td>\n",
       "      <td>-4.150030e+07</td>\n",
       "    </tr>\n",
       "    <tr>\n",
       "      <th>25%</th>\n",
       "      <td>2.577174e+07</td>\n",
       "      <td>NaN</td>\n",
       "      <td>5211.000000</td>\n",
       "      <td>1030.000000</td>\n",
       "      <td>-2.244916e+04</td>\n",
       "    </tr>\n",
       "    <tr>\n",
       "      <th>50%</th>\n",
       "      <td>5.235837e+07</td>\n",
       "      <td>NaN</td>\n",
       "      <td>5641.000000</td>\n",
       "      <td>1110.000000</td>\n",
       "      <td>-5.502490e+03</td>\n",
       "    </tr>\n",
       "    <tr>\n",
       "      <th>75%</th>\n",
       "      <td>7.506302e+07</td>\n",
       "      <td>NaN</td>\n",
       "      <td>6010.000000</td>\n",
       "      <td>2370.000000</td>\n",
       "      <td>-1.122960e+03</td>\n",
       "    </tr>\n",
       "    <tr>\n",
       "      <th>max</th>\n",
       "      <td>9.999968e+07</td>\n",
       "      <td>NaN</td>\n",
       "      <td>9402.000000</td>\n",
       "      <td>8145.000000</td>\n",
       "      <td>6.737747e+07</td>\n",
       "    </tr>\n",
       "  </tbody>\n",
       "</table>\n",
       "</div>"
      ],
      "text/plain": [
       "           client_id      datetime           code           type           sum\n",
       "count   1.300390e+05        130039  130039.000000  130039.000000  1.300390e+05\n",
       "unique           NaN        114770            NaN            NaN           NaN\n",
       "top              NaN  456 00:00:00            NaN            NaN           NaN\n",
       "freq             NaN            60            NaN            NaN           NaN\n",
       "mean    5.086859e+07           NaN    5594.629996    2489.372135 -1.812909e+04\n",
       "std     2.872854e+07           NaN     606.087084    2253.296578  5.584445e+05\n",
       "min     2.289900e+04           NaN     742.000000    1000.000000 -4.150030e+07\n",
       "25%     2.577174e+07           NaN    5211.000000    1030.000000 -2.244916e+04\n",
       "50%     5.235837e+07           NaN    5641.000000    1110.000000 -5.502490e+03\n",
       "75%     7.506302e+07           NaN    6010.000000    2370.000000 -1.122960e+03\n",
       "max     9.999968e+07           NaN    9402.000000    8145.000000  6.737747e+07"
      ]
     },
     "execution_count": 7,
     "metadata": {},
     "output_type": "execute_result"
    }
   ],
   "source": [
    "transaction.describe(include='all')"
   ]
  },
  {
   "cell_type": "code",
   "execution_count": 8,
   "metadata": {
    "colab": {
     "base_uri": "https://localhost:8080/",
     "height": 394
    },
    "id": "RGsBzpi_M7Zd",
    "outputId": "38a067d1-24ca-4bd8-9800-fe07e8a24725"
   },
   "outputs": [
    {
     "data": {
      "text/html": [
       "<div>\n",
       "<style scoped>\n",
       "    .dataframe tbody tr th:only-of-type {\n",
       "        vertical-align: middle;\n",
       "    }\n",
       "\n",
       "    .dataframe tbody tr th {\n",
       "        vertical-align: top;\n",
       "    }\n",
       "\n",
       "    .dataframe thead th {\n",
       "        text-align: right;\n",
       "    }\n",
       "</style>\n",
       "<table border=\"1\" class=\"dataframe\">\n",
       "  <thead>\n",
       "    <tr style=\"text-align: right;\">\n",
       "      <th></th>\n",
       "      <th>type</th>\n",
       "      <th>type_description</th>\n",
       "    </tr>\n",
       "  </thead>\n",
       "  <tbody>\n",
       "    <tr>\n",
       "      <th>count</th>\n",
       "      <td>155.000000</td>\n",
       "      <td>155</td>\n",
       "    </tr>\n",
       "    <tr>\n",
       "      <th>unique</th>\n",
       "      <td>NaN</td>\n",
       "      <td>139</td>\n",
       "    </tr>\n",
       "    <tr>\n",
       "      <th>top</th>\n",
       "      <td>NaN</td>\n",
       "      <td>н/д</td>\n",
       "    </tr>\n",
       "    <tr>\n",
       "      <th>freq</th>\n",
       "      <td>NaN</td>\n",
       "      <td>13</td>\n",
       "    </tr>\n",
       "    <tr>\n",
       "      <th>mean</th>\n",
       "      <td>10819.045161</td>\n",
       "      <td>NaN</td>\n",
       "    </tr>\n",
       "    <tr>\n",
       "      <th>std</th>\n",
       "      <td>80000.258847</td>\n",
       "      <td>NaN</td>\n",
       "    </tr>\n",
       "    <tr>\n",
       "      <th>min</th>\n",
       "      <td>1000.000000</td>\n",
       "      <td>NaN</td>\n",
       "    </tr>\n",
       "    <tr>\n",
       "      <th>25%</th>\n",
       "      <td>2385.500000</td>\n",
       "      <td>NaN</td>\n",
       "    </tr>\n",
       "    <tr>\n",
       "      <th>50%</th>\n",
       "      <td>4040.000000</td>\n",
       "      <td>NaN</td>\n",
       "    </tr>\n",
       "    <tr>\n",
       "      <th>75%</th>\n",
       "      <td>7027.500000</td>\n",
       "      <td>NaN</td>\n",
       "    </tr>\n",
       "    <tr>\n",
       "      <th>max</th>\n",
       "      <td>999999.000000</td>\n",
       "      <td>NaN</td>\n",
       "    </tr>\n",
       "  </tbody>\n",
       "</table>\n",
       "</div>"
      ],
      "text/plain": [
       "                 type type_description\n",
       "count      155.000000              155\n",
       "unique            NaN              139\n",
       "top               NaN              н/д\n",
       "freq              NaN               13\n",
       "mean     10819.045161              NaN\n",
       "std      80000.258847              NaN\n",
       "min       1000.000000              NaN\n",
       "25%       2385.500000              NaN\n",
       "50%       4040.000000              NaN\n",
       "75%       7027.500000              NaN\n",
       "max     999999.000000              NaN"
      ]
     },
     "execution_count": 8,
     "metadata": {},
     "output_type": "execute_result"
    }
   ],
   "source": [
    "types.describe(include='all')"
   ]
  },
  {
   "cell_type": "code",
   "execution_count": 9,
   "metadata": {
    "colab": {
     "base_uri": "https://localhost:8080/",
     "height": 394
    },
    "id": "X6dXiagOPdqM",
    "outputId": "4eeb4bf0-7ee8-47e6-8c69-cdea1f8c5453"
   },
   "outputs": [
    {
     "data": {
      "text/html": [
       "<div>\n",
       "<style scoped>\n",
       "    .dataframe tbody tr th:only-of-type {\n",
       "        vertical-align: middle;\n",
       "    }\n",
       "\n",
       "    .dataframe tbody tr th {\n",
       "        vertical-align: top;\n",
       "    }\n",
       "\n",
       "    .dataframe thead th {\n",
       "        text-align: right;\n",
       "    }\n",
       "</style>\n",
       "<table border=\"1\" class=\"dataframe\">\n",
       "  <thead>\n",
       "    <tr style=\"text-align: right;\">\n",
       "      <th></th>\n",
       "      <th>code</th>\n",
       "      <th>code_description</th>\n",
       "    </tr>\n",
       "  </thead>\n",
       "  <tbody>\n",
       "    <tr>\n",
       "      <th>count</th>\n",
       "      <td>184.000000</td>\n",
       "      <td>184</td>\n",
       "    </tr>\n",
       "    <tr>\n",
       "      <th>unique</th>\n",
       "      <td>NaN</td>\n",
       "      <td>184</td>\n",
       "    </tr>\n",
       "    <tr>\n",
       "      <th>top</th>\n",
       "      <td>NaN</td>\n",
       "      <td>Магазины по продаже часов, ювелирных изделий и...</td>\n",
       "    </tr>\n",
       "    <tr>\n",
       "      <th>freq</th>\n",
       "      <td>NaN</td>\n",
       "      <td>1</td>\n",
       "    </tr>\n",
       "    <tr>\n",
       "      <th>mean</th>\n",
       "      <td>6046.793478</td>\n",
       "      <td>NaN</td>\n",
       "    </tr>\n",
       "    <tr>\n",
       "      <th>std</th>\n",
       "      <td>1470.328104</td>\n",
       "      <td>NaN</td>\n",
       "    </tr>\n",
       "    <tr>\n",
       "      <th>min</th>\n",
       "      <td>742.000000</td>\n",
       "      <td>NaN</td>\n",
       "    </tr>\n",
       "    <tr>\n",
       "      <th>25%</th>\n",
       "      <td>5208.250000</td>\n",
       "      <td>NaN</td>\n",
       "    </tr>\n",
       "    <tr>\n",
       "      <th>50%</th>\n",
       "      <td>5813.500000</td>\n",
       "      <td>NaN</td>\n",
       "    </tr>\n",
       "    <tr>\n",
       "      <th>75%</th>\n",
       "      <td>7283.000000</td>\n",
       "      <td>NaN</td>\n",
       "    </tr>\n",
       "    <tr>\n",
       "      <th>max</th>\n",
       "      <td>9402.000000</td>\n",
       "      <td>NaN</td>\n",
       "    </tr>\n",
       "  </tbody>\n",
       "</table>\n",
       "</div>"
      ],
      "text/plain": [
       "               code                                   code_description\n",
       "count    184.000000                                                184\n",
       "unique          NaN                                                184\n",
       "top             NaN  Магазины по продаже часов, ювелирных изделий и...\n",
       "freq            NaN                                                  1\n",
       "mean    6046.793478                                                NaN\n",
       "std     1470.328104                                                NaN\n",
       "min      742.000000                                                NaN\n",
       "25%     5208.250000                                                NaN\n",
       "50%     5813.500000                                                NaN\n",
       "75%     7283.000000                                                NaN\n",
       "max     9402.000000                                                NaN"
      ]
     },
     "execution_count": 9,
     "metadata": {},
     "output_type": "execute_result"
    }
   ],
   "source": [
    "codes.describe(include='all')"
   ]
  },
  {
   "cell_type": "markdown",
   "metadata": {
    "id": "dv040t3RM_My"
   },
   "source": [
    "# Part 2 Explanatory data analysis. Exploring the features, visualizations etc"
   ]
  },
  {
   "cell_type": "code",
   "execution_count": 10,
   "metadata": {
    "colab": {
     "base_uri": "https://localhost:8080/"
    },
    "id": "6st-lr7uNCfa",
    "outputId": "3cc46ed7-a5bd-45b3-c6df-dc3c9d3f2afc"
   },
   "outputs": [
    {
     "name": "stdout",
     "output_type": "stream",
     "text": [
      "<class 'pandas.core.frame.DataFrame'>\n",
      "RangeIndex: 6000 entries, 0 to 5999\n",
      "Data columns (total 2 columns):\n",
      " #   Column     Non-Null Count  Dtype\n",
      "---  ------     --------------  -----\n",
      " 0   client_id  6000 non-null   int64\n",
      " 1   target     6000 non-null   int64\n",
      "dtypes: int64(2)\n",
      "memory usage: 93.9 KB\n",
      "None\n"
     ]
    }
   ],
   "source": [
    "print(train.info())"
   ]
  },
  {
   "cell_type": "code",
   "execution_count": 11,
   "metadata": {
    "colab": {
     "base_uri": "https://localhost:8080/"
    },
    "id": "iJQ2qdqsNNm7",
    "outputId": "04796925-dbb3-4741-80bf-7c27c771d1b9"
   },
   "outputs": [
    {
     "name": "stdout",
     "output_type": "stream",
     "text": [
      "<class 'pandas.core.frame.DataFrame'>\n",
      "RangeIndex: 130039 entries, 0 to 130038\n",
      "Data columns (total 5 columns):\n",
      " #   Column     Non-Null Count   Dtype  \n",
      "---  ------     --------------   -----  \n",
      " 0   client_id  130039 non-null  int64  \n",
      " 1   datetime   130039 non-null  object \n",
      " 2   code       130039 non-null  int64  \n",
      " 3   type       130039 non-null  int64  \n",
      " 4   sum        130039 non-null  float64\n",
      "dtypes: float64(1), int64(3), object(1)\n",
      "memory usage: 5.0+ MB\n",
      "None\n"
     ]
    }
   ],
   "source": [
    "print(transaction.info())"
   ]
  },
  {
   "cell_type": "code",
   "execution_count": 12,
   "metadata": {
    "colab": {
     "base_uri": "https://localhost:8080/"
    },
    "id": "G6HxO8GUNO9K",
    "outputId": "97b97baf-36db-4a05-e7ea-1ad2f64469da"
   },
   "outputs": [
    {
     "name": "stdout",
     "output_type": "stream",
     "text": [
      "<class 'pandas.core.frame.DataFrame'>\n",
      "RangeIndex: 155 entries, 0 to 154\n",
      "Data columns (total 2 columns):\n",
      " #   Column            Non-Null Count  Dtype \n",
      "---  ------            --------------  ----- \n",
      " 0   type              155 non-null    int64 \n",
      " 1   type_description  155 non-null    object\n",
      "dtypes: int64(1), object(1)\n",
      "memory usage: 2.5+ KB\n",
      "None\n"
     ]
    }
   ],
   "source": [
    "print(types.info())"
   ]
  },
  {
   "cell_type": "code",
   "execution_count": 13,
   "metadata": {
    "colab": {
     "base_uri": "https://localhost:8080/"
    },
    "id": "5S7G7Pm8P_Ba",
    "outputId": "57095efc-2955-4281-f4e2-ea0c7904dd7e"
   },
   "outputs": [
    {
     "name": "stdout",
     "output_type": "stream",
     "text": [
      "<class 'pandas.core.frame.DataFrame'>\n",
      "RangeIndex: 184 entries, 0 to 183\n",
      "Data columns (total 2 columns):\n",
      " #   Column            Non-Null Count  Dtype \n",
      "---  ------            --------------  ----- \n",
      " 0   code              184 non-null    int64 \n",
      " 1   code_description  184 non-null    object\n",
      "dtypes: int64(1), object(1)\n",
      "memory usage: 3.0+ KB\n",
      "None\n"
     ]
    }
   ],
   "source": [
    "print(codes.info())"
   ]
  },
  {
   "cell_type": "code",
   "execution_count": 14,
   "metadata": {
    "colab": {
     "base_uri": "https://localhost:8080/"
    },
    "id": "623GwzmPNP-u",
    "outputId": "3512067a-4834-4016-d0ba-9f6e2e542928"
   },
   "outputs": [
    {
     "data": {
      "text/plain": [
       "client_id    0\n",
       "target       0\n",
       "dtype: int64"
      ]
     },
     "execution_count": 14,
     "metadata": {},
     "output_type": "execute_result"
    }
   ],
   "source": [
    "train.isnull().sum()"
   ]
  },
  {
   "cell_type": "code",
   "execution_count": 15,
   "metadata": {
    "colab": {
     "base_uri": "https://localhost:8080/"
    },
    "id": "v5tajO3BNRC5",
    "outputId": "2bb4a8ce-1c56-44f3-9f1f-bf8ac1144c68"
   },
   "outputs": [
    {
     "data": {
      "text/plain": [
       "client_id    0\n",
       "datetime     0\n",
       "code         0\n",
       "type         0\n",
       "sum          0\n",
       "dtype: int64"
      ]
     },
     "execution_count": 15,
     "metadata": {},
     "output_type": "execute_result"
    }
   ],
   "source": [
    "transaction.isnull().sum()"
   ]
  },
  {
   "cell_type": "code",
   "execution_count": 16,
   "metadata": {
    "colab": {
     "base_uri": "https://localhost:8080/"
    },
    "id": "tAQLBP_iNSCm",
    "outputId": "3fc0f90e-d8cb-4954-e2c8-d27c6ecd0986"
   },
   "outputs": [
    {
     "data": {
      "text/plain": [
       "type                0\n",
       "type_description    0\n",
       "dtype: int64"
      ]
     },
     "execution_count": 16,
     "metadata": {},
     "output_type": "execute_result"
    }
   ],
   "source": [
    "types.isnull().sum()"
   ]
  },
  {
   "cell_type": "code",
   "execution_count": 17,
   "metadata": {
    "colab": {
     "base_uri": "https://localhost:8080/"
    },
    "id": "TAOulUnDQJ09",
    "outputId": "093f5316-2950-4062-fa7e-8f521f310fcc"
   },
   "outputs": [
    {
     "data": {
      "text/plain": [
       "code                0\n",
       "code_description    0\n",
       "dtype: int64"
      ]
     },
     "execution_count": 17,
     "metadata": {},
     "output_type": "execute_result"
    }
   ],
   "source": [
    "codes.isnull().sum()"
   ]
  },
  {
   "cell_type": "code",
   "execution_count": 18,
   "metadata": {
    "colab": {
     "base_uri": "https://localhost:8080/"
    },
    "id": "sEpL_HcVNS7F",
    "outputId": "e413c9e9-d92c-4baa-bb6b-114f78b6f7d5"
   },
   "outputs": [
    {
     "data": {
      "text/plain": [
       "0"
      ]
     },
     "execution_count": 18,
     "metadata": {},
     "output_type": "execute_result"
    }
   ],
   "source": [
    "train.duplicated().sum()"
   ]
  },
  {
   "cell_type": "markdown",
   "metadata": {
    "id": "eh96ZEtNPGcL"
   },
   "source": [
    "Duplicates in dataframe"
   ]
  },
  {
   "cell_type": "code",
   "execution_count": 19,
   "metadata": {
    "colab": {
     "base_uri": "https://localhost:8080/",
     "height": 959
    },
    "id": "x9QCkjhvNT_3",
    "outputId": "1dfe2c8e-5cee-432e-8f4c-f019a7fcf7a6"
   },
   "outputs": [
    {
     "data": {
      "text/html": [
       "<div>\n",
       "<style scoped>\n",
       "    .dataframe tbody tr th:only-of-type {\n",
       "        vertical-align: middle;\n",
       "    }\n",
       "\n",
       "    .dataframe tbody tr th {\n",
       "        vertical-align: top;\n",
       "    }\n",
       "\n",
       "    .dataframe thead th {\n",
       "        text-align: right;\n",
       "    }\n",
       "</style>\n",
       "<table border=\"1\" class=\"dataframe\">\n",
       "  <thead>\n",
       "    <tr style=\"text-align: right;\">\n",
       "      <th></th>\n",
       "      <th>client_id</th>\n",
       "      <th>datetime</th>\n",
       "      <th>code</th>\n",
       "      <th>type</th>\n",
       "      <th>sum</th>\n",
       "    </tr>\n",
       "  </thead>\n",
       "  <tbody>\n",
       "    <tr>\n",
       "      <th>19523</th>\n",
       "      <td>63109769</td>\n",
       "      <td>242 00:00:00</td>\n",
       "      <td>5735</td>\n",
       "      <td>1200</td>\n",
       "      <td>-6715.29</td>\n",
       "    </tr>\n",
       "    <tr>\n",
       "      <th>45246</th>\n",
       "      <td>48214869</td>\n",
       "      <td>9 00:00:00</td>\n",
       "      <td>7399</td>\n",
       "      <td>8100</td>\n",
       "      <td>7389.06</td>\n",
       "    </tr>\n",
       "    <tr>\n",
       "      <th>46196</th>\n",
       "      <td>27868636</td>\n",
       "      <td>16 00:00:00</td>\n",
       "      <td>5814</td>\n",
       "      <td>1110</td>\n",
       "      <td>-35148.58</td>\n",
       "    </tr>\n",
       "    <tr>\n",
       "      <th>51995</th>\n",
       "      <td>53748811</td>\n",
       "      <td>114 00:00:00</td>\n",
       "      <td>7311</td>\n",
       "      <td>1100</td>\n",
       "      <td>-314.43</td>\n",
       "    </tr>\n",
       "    <tr>\n",
       "      <th>55931</th>\n",
       "      <td>29129514</td>\n",
       "      <td>275 00:00:00</td>\n",
       "      <td>7994</td>\n",
       "      <td>1200</td>\n",
       "      <td>-3368.87</td>\n",
       "    </tr>\n",
       "    <tr>\n",
       "      <th>59170</th>\n",
       "      <td>77773677</td>\n",
       "      <td>452 00:00:00</td>\n",
       "      <td>7995</td>\n",
       "      <td>1200</td>\n",
       "      <td>-11229.58</td>\n",
       "    </tr>\n",
       "    <tr>\n",
       "      <th>60367</th>\n",
       "      <td>58798619</td>\n",
       "      <td>353 00:00:00</td>\n",
       "      <td>6011</td>\n",
       "      <td>2110</td>\n",
       "      <td>-2245.92</td>\n",
       "    </tr>\n",
       "    <tr>\n",
       "      <th>63314</th>\n",
       "      <td>61799579</td>\n",
       "      <td>234 00:00:00</td>\n",
       "      <td>4814</td>\n",
       "      <td>1100</td>\n",
       "      <td>-2245.92</td>\n",
       "    </tr>\n",
       "    <tr>\n",
       "      <th>64229</th>\n",
       "      <td>38714155</td>\n",
       "      <td>167 00:00:00</td>\n",
       "      <td>7995</td>\n",
       "      <td>1200</td>\n",
       "      <td>-5614.79</td>\n",
       "    </tr>\n",
       "    <tr>\n",
       "      <th>64245</th>\n",
       "      <td>46523355</td>\n",
       "      <td>69 00:00:00</td>\n",
       "      <td>4112</td>\n",
       "      <td>1110</td>\n",
       "      <td>-74411.68</td>\n",
       "    </tr>\n",
       "    <tr>\n",
       "      <th>69038</th>\n",
       "      <td>56917053</td>\n",
       "      <td>437 00:00:00</td>\n",
       "      <td>4112</td>\n",
       "      <td>1100</td>\n",
       "      <td>-4828.72</td>\n",
       "    </tr>\n",
       "    <tr>\n",
       "      <th>70641</th>\n",
       "      <td>48214869</td>\n",
       "      <td>9 00:00:00</td>\n",
       "      <td>7399</td>\n",
       "      <td>8100</td>\n",
       "      <td>7389.06</td>\n",
       "    </tr>\n",
       "    <tr>\n",
       "      <th>72208</th>\n",
       "      <td>70486266</td>\n",
       "      <td>335 00:00:00</td>\n",
       "      <td>5735</td>\n",
       "      <td>1200</td>\n",
       "      <td>-6266.11</td>\n",
       "    </tr>\n",
       "    <tr>\n",
       "      <th>83613</th>\n",
       "      <td>48214869</td>\n",
       "      <td>8 00:00:00</td>\n",
       "      <td>7399</td>\n",
       "      <td>8100</td>\n",
       "      <td>7389.06</td>\n",
       "    </tr>\n",
       "    <tr>\n",
       "      <th>83903</th>\n",
       "      <td>9106768</td>\n",
       "      <td>89 00:00:00</td>\n",
       "      <td>6011</td>\n",
       "      <td>2210</td>\n",
       "      <td>-486567.32</td>\n",
       "    </tr>\n",
       "    <tr>\n",
       "      <th>89425</th>\n",
       "      <td>63109769</td>\n",
       "      <td>347 00:00:00</td>\n",
       "      <td>5735</td>\n",
       "      <td>1200</td>\n",
       "      <td>-7838.25</td>\n",
       "    </tr>\n",
       "    <tr>\n",
       "      <th>91668</th>\n",
       "      <td>53748811</td>\n",
       "      <td>212 00:00:00</td>\n",
       "      <td>7311</td>\n",
       "      <td>1100</td>\n",
       "      <td>-1572.14</td>\n",
       "    </tr>\n",
       "    <tr>\n",
       "      <th>96028</th>\n",
       "      <td>63109769</td>\n",
       "      <td>242 00:00:00</td>\n",
       "      <td>5735</td>\n",
       "      <td>1200</td>\n",
       "      <td>-6715.29</td>\n",
       "    </tr>\n",
       "    <tr>\n",
       "      <th>96100</th>\n",
       "      <td>53397421</td>\n",
       "      <td>137 00:00:00</td>\n",
       "      <td>7995</td>\n",
       "      <td>1100</td>\n",
       "      <td>-673.77</td>\n",
       "    </tr>\n",
       "    <tr>\n",
       "      <th>97961</th>\n",
       "      <td>9819899</td>\n",
       "      <td>413 00:00:00</td>\n",
       "      <td>7995</td>\n",
       "      <td>1200</td>\n",
       "      <td>-3368.87</td>\n",
       "    </tr>\n",
       "    <tr>\n",
       "      <th>104599</th>\n",
       "      <td>27868636</td>\n",
       "      <td>96 00:00:00</td>\n",
       "      <td>5912</td>\n",
       "      <td>1110</td>\n",
       "      <td>-9484.50</td>\n",
       "    </tr>\n",
       "    <tr>\n",
       "      <th>108982</th>\n",
       "      <td>67976637</td>\n",
       "      <td>268 00:00:00</td>\n",
       "      <td>4814</td>\n",
       "      <td>1100</td>\n",
       "      <td>-2245.92</td>\n",
       "    </tr>\n",
       "    <tr>\n",
       "      <th>109214</th>\n",
       "      <td>68222821</td>\n",
       "      <td>132 00:00:00</td>\n",
       "      <td>7311</td>\n",
       "      <td>1100</td>\n",
       "      <td>-1796.73</td>\n",
       "    </tr>\n",
       "    <tr>\n",
       "      <th>115099</th>\n",
       "      <td>53397421</td>\n",
       "      <td>125 00:00:00</td>\n",
       "      <td>7995</td>\n",
       "      <td>1100</td>\n",
       "      <td>-673.77</td>\n",
       "    </tr>\n",
       "    <tr>\n",
       "      <th>116823</th>\n",
       "      <td>53397421</td>\n",
       "      <td>125 00:00:00</td>\n",
       "      <td>7995</td>\n",
       "      <td>1100</td>\n",
       "      <td>-673.77</td>\n",
       "    </tr>\n",
       "    <tr>\n",
       "      <th>121212</th>\n",
       "      <td>9819899</td>\n",
       "      <td>120 00:00:00</td>\n",
       "      <td>7995</td>\n",
       "      <td>1200</td>\n",
       "      <td>-2919.69</td>\n",
       "    </tr>\n",
       "    <tr>\n",
       "      <th>121335</th>\n",
       "      <td>1747627</td>\n",
       "      <td>265 00:00:00</td>\n",
       "      <td>4112</td>\n",
       "      <td>1100</td>\n",
       "      <td>-5165.61</td>\n",
       "    </tr>\n",
       "    <tr>\n",
       "      <th>121724</th>\n",
       "      <td>9106768</td>\n",
       "      <td>136 00:00:00</td>\n",
       "      <td>6011</td>\n",
       "      <td>2210</td>\n",
       "      <td>-746230.44</td>\n",
       "    </tr>\n",
       "    <tr>\n",
       "      <th>124702</th>\n",
       "      <td>1567291</td>\n",
       "      <td>374 00:00:00</td>\n",
       "      <td>6012</td>\n",
       "      <td>6110</td>\n",
       "      <td>336887.37</td>\n",
       "    </tr>\n",
       "  </tbody>\n",
       "</table>\n",
       "</div>"
      ],
      "text/plain": [
       "        client_id      datetime  code  type        sum\n",
       "19523    63109769  242 00:00:00  5735  1200   -6715.29\n",
       "45246    48214869    9 00:00:00  7399  8100    7389.06\n",
       "46196    27868636   16 00:00:00  5814  1110  -35148.58\n",
       "51995    53748811  114 00:00:00  7311  1100    -314.43\n",
       "55931    29129514  275 00:00:00  7994  1200   -3368.87\n",
       "59170    77773677  452 00:00:00  7995  1200  -11229.58\n",
       "60367    58798619  353 00:00:00  6011  2110   -2245.92\n",
       "63314    61799579  234 00:00:00  4814  1100   -2245.92\n",
       "64229    38714155  167 00:00:00  7995  1200   -5614.79\n",
       "64245    46523355   69 00:00:00  4112  1110  -74411.68\n",
       "69038    56917053  437 00:00:00  4112  1100   -4828.72\n",
       "70641    48214869    9 00:00:00  7399  8100    7389.06\n",
       "72208    70486266  335 00:00:00  5735  1200   -6266.11\n",
       "83613    48214869    8 00:00:00  7399  8100    7389.06\n",
       "83903     9106768   89 00:00:00  6011  2210 -486567.32\n",
       "89425    63109769  347 00:00:00  5735  1200   -7838.25\n",
       "91668    53748811  212 00:00:00  7311  1100   -1572.14\n",
       "96028    63109769  242 00:00:00  5735  1200   -6715.29\n",
       "96100    53397421  137 00:00:00  7995  1100    -673.77\n",
       "97961     9819899  413 00:00:00  7995  1200   -3368.87\n",
       "104599   27868636   96 00:00:00  5912  1110   -9484.50\n",
       "108982   67976637  268 00:00:00  4814  1100   -2245.92\n",
       "109214   68222821  132 00:00:00  7311  1100   -1796.73\n",
       "115099   53397421  125 00:00:00  7995  1100    -673.77\n",
       "116823   53397421  125 00:00:00  7995  1100    -673.77\n",
       "121212    9819899  120 00:00:00  7995  1200   -2919.69\n",
       "121335    1747627  265 00:00:00  4112  1100   -5165.61\n",
       "121724    9106768  136 00:00:00  6011  2210 -746230.44\n",
       "124702    1567291  374 00:00:00  6012  6110  336887.37"
      ]
     },
     "execution_count": 19,
     "metadata": {},
     "output_type": "execute_result"
    }
   ],
   "source": [
    "duplicate = transaction.duplicated()\n",
    "transaction[duplicate]"
   ]
  },
  {
   "cell_type": "code",
   "execution_count": 20,
   "metadata": {
    "colab": {
     "base_uri": "https://localhost:8080/"
    },
    "id": "vo2psPY0NU34",
    "outputId": "4161141b-4c6d-4091-8790-4600f08964f7"
   },
   "outputs": [
    {
     "data": {
      "text/plain": [
       "0"
      ]
     },
     "execution_count": 20,
     "metadata": {},
     "output_type": "execute_result"
    }
   ],
   "source": [
    "transaction.drop_duplicates(inplace=True)\n",
    "transaction.duplicated().sum()"
   ]
  },
  {
   "cell_type": "code",
   "execution_count": 21,
   "metadata": {
    "colab": {
     "base_uri": "https://localhost:8080/"
    },
    "id": "Kg1YdhunNV7U",
    "outputId": "614a7cac-00a2-498f-dee9-45b8a4122856"
   },
   "outputs": [
    {
     "data": {
      "text/plain": [
       "0"
      ]
     },
     "execution_count": 21,
     "metadata": {},
     "output_type": "execute_result"
    }
   ],
   "source": [
    "types.duplicated().sum()"
   ]
  },
  {
   "cell_type": "code",
   "execution_count": 22,
   "metadata": {
    "colab": {
     "base_uri": "https://localhost:8080/"
    },
    "id": "ZvYG9Xf0QWSJ",
    "outputId": "d60f0c5e-ac6d-41cd-bd4f-8f9616beaf9d"
   },
   "outputs": [
    {
     "data": {
      "text/plain": [
       "0"
      ]
     },
     "execution_count": 22,
     "metadata": {},
     "output_type": "execute_result"
    }
   ],
   "source": [
    "codes.duplicated().sum()"
   ]
  },
  {
   "cell_type": "markdown",
   "metadata": {
    "id": "opuqx-KEPOnx"
   },
   "source": [
    "Check for outlier in our sum column"
   ]
  },
  {
   "cell_type": "code",
   "execution_count": 23,
   "metadata": {
    "colab": {
     "base_uri": "https://localhost:8080/",
     "height": 276
    },
    "id": "7b6z2CqANWzv",
    "outputId": "22b7fd33-146a-4db0-ae47-17baa9d2dd2d"
   },
   "outputs": [
    {
     "data": {
      "image/png": "[encoded data removed]",
      "text/plain": [
       "<Figure size 432x288 with 1 Axes>"
      ]
     },
     "metadata": {
      "needs_background": "light"
     },
     "output_type": "display_data"
    }
   ],
   "source": [
    "transaction.boxplot(column=['sum'])\n",
    "plt.show()"
   ]
  },
  {
   "cell_type": "markdown",
   "metadata": {
    "id": "lU4qvqThNiwU"
   },
   "source": [
    "Check for balance of our target value"
   ]
  },
  {
   "cell_type": "code",
   "execution_count": 24,
   "metadata": {
    "colab": {
     "base_uri": "https://localhost:8080/",
     "height": 295
    },
    "id": "gGgqkTzAHklp",
    "outputId": "15e44c58-dfc4-418e-9a4e-b0006f0d3a00"
   },
   "outputs": [
    {
     "data": {
      "text/plain": [
       "Text(0.5, 1.0, 'Count of target variables')"
      ]
     },
     "execution_count": 24,
     "metadata": {},
     "output_type": "execute_result"
    },
    {
     "data": {
      "image/png": "[encoded data removed]",
      "text/plain": [
       "<Figure size 432x288 with 1 Axes>"
      ]
     },
     "metadata": {
      "needs_background": "light"
     },
     "output_type": "display_data"
    }
   ],
   "source": [
    "train.target.value_counts().plot(kind = 'bar')\n",
    "plt.title(\"Count of target variables\")"
   ]
  },
  {
   "cell_type": "markdown",
   "metadata": {
    "id": "6LJKwhBDNqh7"
   },
   "source": [
    "Distribution of out client's sum"
   ]
  },
  {
   "cell_type": "code",
   "execution_count": 25,
   "metadata": {
    "colab": {
     "base_uri": "https://localhost:8080/",
     "height": 313
    },
    "id": "YP4Yv7DoHkwV",
    "outputId": "309bea34-b19f-4fc1-cb31-95fad1cf465a"
   },
   "outputs": [
    {
     "data": {
      "text/plain": [
       "Text(0.5, 1.0, 'Transaction sum of clients')"
      ]
     },
     "execution_count": 25,
     "metadata": {},
     "output_type": "execute_result"
    },
    {
     "data": {
      "image/png": "[encoded data removed]",
      "text/plain": [
       "<Figure size 432x288 with 1 Axes>"
      ]
     },
     "metadata": {
      "needs_background": "light"
     },
     "output_type": "display_data"
    }
   ],
   "source": [
    "transaction.groupby(\"client_id\")['sum'].agg(sum).plot()\n",
    "plt.title(\"Transaction sum of clients\")"
   ]
  },
  {
   "cell_type": "markdown",
   "metadata": {
    "id": "SkF5x2HENxu0"
   },
   "source": [
    "Merge dataframe into one"
   ]
  },
  {
   "cell_type": "code",
   "execution_count": 26,
   "metadata": {
    "colab": {
     "base_uri": "https://localhost:8080/",
     "height": 641
    },
    "id": "9AgaT2DvN21g",
    "outputId": "f159152f-3243-42cd-e2e8-2bccd8710c4e"
   },
   "outputs": [
    {
     "data": {
      "text/html": [
       "<div>\n",
       "<style scoped>\n",
       "    .dataframe tbody tr th:only-of-type {\n",
       "        vertical-align: middle;\n",
       "    }\n",
       "\n",
       "    .dataframe tbody tr th {\n",
       "        vertical-align: top;\n",
       "    }\n",
       "\n",
       "    .dataframe thead th {\n",
       "        text-align: right;\n",
       "    }\n",
       "</style>\n",
       "<table border=\"1\" class=\"dataframe\">\n",
       "  <thead>\n",
       "    <tr style=\"text-align: right;\">\n",
       "      <th></th>\n",
       "      <th>client_id</th>\n",
       "      <th>target</th>\n",
       "      <th>datetime</th>\n",
       "      <th>code</th>\n",
       "      <th>type</th>\n",
       "      <th>sum</th>\n",
       "      <th>type_description</th>\n",
       "      <th>code_description</th>\n",
       "    </tr>\n",
       "  </thead>\n",
       "  <tbody>\n",
       "    <tr>\n",
       "      <th>0</th>\n",
       "      <td>75063019</td>\n",
       "      <td>0</td>\n",
       "      <td>397 20:05:07</td>\n",
       "      <td>4814</td>\n",
       "      <td>1030</td>\n",
       "      <td>-4491.83</td>\n",
       "      <td>Оплата услуги. Банкоматы</td>\n",
       "      <td>Звонки с использованием телефонов, считывающих...</td>\n",
       "    </tr>\n",
       "    <tr>\n",
       "      <th>1</th>\n",
       "      <td>75063019</td>\n",
       "      <td>0</td>\n",
       "      <td>86 20:29:50</td>\n",
       "      <td>6010</td>\n",
       "      <td>7070</td>\n",
       "      <td>4491.83</td>\n",
       "      <td>Перевод на карту (с карты) через Мобильный бан...</td>\n",
       "      <td>Финансовые институты — снятие наличности вручную</td>\n",
       "    </tr>\n",
       "    <tr>\n",
       "      <th>2</th>\n",
       "      <td>75063019</td>\n",
       "      <td>0</td>\n",
       "      <td>375 16:00:33</td>\n",
       "      <td>4814</td>\n",
       "      <td>1030</td>\n",
       "      <td>-3144.28</td>\n",
       "      <td>Оплата услуги. Банкоматы</td>\n",
       "      <td>Звонки с использованием телефонов, считывающих...</td>\n",
       "    </tr>\n",
       "    <tr>\n",
       "      <th>3</th>\n",
       "      <td>75063019</td>\n",
       "      <td>0</td>\n",
       "      <td>136 17:10:60</td>\n",
       "      <td>5411</td>\n",
       "      <td>1010</td>\n",
       "      <td>-3930.35</td>\n",
       "      <td>Покупка. POS</td>\n",
       "      <td>Бакалейные магазины, супермаркеты</td>\n",
       "    </tr>\n",
       "    <tr>\n",
       "      <th>4</th>\n",
       "      <td>75063019</td>\n",
       "      <td>0</td>\n",
       "      <td>378 13:01:51</td>\n",
       "      <td>6011</td>\n",
       "      <td>2010</td>\n",
       "      <td>-4491.83</td>\n",
       "      <td>Выдача наличных в АТМ</td>\n",
       "      <td>Финансовые институты — снятие наличности автом...</td>\n",
       "    </tr>\n",
       "    <tr>\n",
       "      <th>...</th>\n",
       "      <td>...</td>\n",
       "      <td>...</td>\n",
       "      <td>...</td>\n",
       "      <td>...</td>\n",
       "      <td>...</td>\n",
       "      <td>...</td>\n",
       "      <td>...</td>\n",
       "      <td>...</td>\n",
       "    </tr>\n",
       "    <tr>\n",
       "      <th>91802</th>\n",
       "      <td>1846496</td>\n",
       "      <td>0</td>\n",
       "      <td>452 00:00:00</td>\n",
       "      <td>5999</td>\n",
       "      <td>1100</td>\n",
       "      <td>-2243.45</td>\n",
       "      <td>Покупка.</td>\n",
       "      <td>Плавательные бассейны — распродажа</td>\n",
       "    </tr>\n",
       "    <tr>\n",
       "      <th>91803</th>\n",
       "      <td>1846496</td>\n",
       "      <td>0</td>\n",
       "      <td>196 13:59:07</td>\n",
       "      <td>5411</td>\n",
       "      <td>1010</td>\n",
       "      <td>-4783.80</td>\n",
       "      <td>Покупка. POS</td>\n",
       "      <td>Бакалейные магазины, супермаркеты</td>\n",
       "    </tr>\n",
       "    <tr>\n",
       "      <th>91804</th>\n",
       "      <td>1846496</td>\n",
       "      <td>0</td>\n",
       "      <td>186 13:38:15</td>\n",
       "      <td>5732</td>\n",
       "      <td>1010</td>\n",
       "      <td>-112273.33</td>\n",
       "      <td>Покупка. POS</td>\n",
       "      <td>Продажа электронного оборудования</td>\n",
       "    </tr>\n",
       "    <tr>\n",
       "      <th>91805</th>\n",
       "      <td>1846496</td>\n",
       "      <td>0</td>\n",
       "      <td>440 16:02:57</td>\n",
       "      <td>6010</td>\n",
       "      <td>7030</td>\n",
       "      <td>168443.68</td>\n",
       "      <td>Перевод на карту (с карты) через АТМ (в предел...</td>\n",
       "      <td>Финансовые институты — снятие наличности вручную</td>\n",
       "    </tr>\n",
       "    <tr>\n",
       "      <th>91806</th>\n",
       "      <td>1846496</td>\n",
       "      <td>0</td>\n",
       "      <td>148 15:56:18</td>\n",
       "      <td>5411</td>\n",
       "      <td>1010</td>\n",
       "      <td>-23634.89</td>\n",
       "      <td>Покупка. POS</td>\n",
       "      <td>Бакалейные магазины, супермаркеты</td>\n",
       "    </tr>\n",
       "  </tbody>\n",
       "</table>\n",
       "<p>91807 rows × 8 columns</p>\n",
       "</div>"
      ],
      "text/plain": [
       "       client_id  target      datetime  code  type        sum  \\\n",
       "0       75063019       0  397 20:05:07  4814  1030   -4491.83   \n",
       "1       75063019       0   86 20:29:50  6010  7070    4491.83   \n",
       "2       75063019       0  375 16:00:33  4814  1030   -3144.28   \n",
       "3       75063019       0  136 17:10:60  5411  1010   -3930.35   \n",
       "4       75063019       0  378 13:01:51  6011  2010   -4491.83   \n",
       "...          ...     ...           ...   ...   ...        ...   \n",
       "91802    1846496       0  452 00:00:00  5999  1100   -2243.45   \n",
       "91803    1846496       0  196 13:59:07  5411  1010   -4783.80   \n",
       "91804    1846496       0  186 13:38:15  5732  1010 -112273.33   \n",
       "91805    1846496       0  440 16:02:57  6010  7030  168443.68   \n",
       "91806    1846496       0  148 15:56:18  5411  1010  -23634.89   \n",
       "\n",
       "                                        type_description  \\\n",
       "0                               Оплата услуги. Банкоматы   \n",
       "1      Перевод на карту (с карты) через Мобильный бан...   \n",
       "2                               Оплата услуги. Банкоматы   \n",
       "3                                          Покупка. POS    \n",
       "4                                  Выдача наличных в АТМ   \n",
       "...                                                  ...   \n",
       "91802                                           Покупка.   \n",
       "91803                                      Покупка. POS    \n",
       "91804                                      Покупка. POS    \n",
       "91805  Перевод на карту (с карты) через АТМ (в предел...   \n",
       "91806                                      Покупка. POS    \n",
       "\n",
       "                                        code_description  \n",
       "0      Звонки с использованием телефонов, считывающих...  \n",
       "1       Финансовые институты — снятие наличности вручную  \n",
       "2      Звонки с использованием телефонов, считывающих...  \n",
       "3                      Бакалейные магазины, супермаркеты  \n",
       "4      Финансовые институты — снятие наличности автом...  \n",
       "...                                                  ...  \n",
       "91802                 Плавательные бассейны — распродажа  \n",
       "91803                  Бакалейные магазины, супермаркеты  \n",
       "91804                  Продажа электронного оборудования  \n",
       "91805   Финансовые институты — снятие наличности вручную  \n",
       "91806                  Бакалейные магазины, супермаркеты  \n",
       "\n",
       "[91807 rows x 8 columns]"
      ]
     },
     "execution_count": 26,
     "metadata": {},
     "output_type": "execute_result"
    }
   ],
   "source": [
    "df_merged = pd.merge(train, transaction, on='client_id', how='left')\n",
    "df_merged = pd.merge(df_merged,types , how='left', on='type')\n",
    "df_merged = pd.merge(df_merged,codes,how='left', on='code' )\n",
    "df_merged"
   ]
  },
  {
   "cell_type": "markdown",
   "metadata": {
    "id": "RTjX7fOjORIs"
   },
   "source": [
    "Get info about our merged dataframe"
   ]
  },
  {
   "cell_type": "code",
   "execution_count": 27,
   "metadata": {
    "colab": {
     "base_uri": "https://localhost:8080/"
    },
    "id": "qGTy1FNeOTCU",
    "outputId": "4bbb1a75-443b-4ef6-f002-a9f005281973"
   },
   "outputs": [
    {
     "name": "stdout",
     "output_type": "stream",
     "text": [
      "<class 'pandas.core.frame.DataFrame'>\n",
      "Int64Index: 91807 entries, 0 to 91806\n",
      "Data columns (total 8 columns):\n",
      " #   Column            Non-Null Count  Dtype  \n",
      "---  ------            --------------  -----  \n",
      " 0   client_id         91807 non-null  int64  \n",
      " 1   target            91807 non-null  int64  \n",
      " 2   datetime          91807 non-null  object \n",
      " 3   code              91807 non-null  int64  \n",
      " 4   type              91807 non-null  int64  \n",
      " 5   sum               91807 non-null  float64\n",
      " 6   type_description  91781 non-null  object \n",
      " 7   code_description  91807 non-null  object \n",
      "dtypes: float64(1), int64(4), object(3)\n",
      "memory usage: 6.3+ MB\n"
     ]
    }
   ],
   "source": [
    "df_merged.info()"
   ]
  },
  {
   "cell_type": "markdown",
   "metadata": {
    "id": "CQBibwEPOYQw"
   },
   "source": [
    "All description types"
   ]
  },
  {
   "cell_type": "code",
   "execution_count": 28,
   "metadata": {
    "colab": {
     "base_uri": "https://localhost:8080/"
    },
    "id": "PLYfv_UaOcum",
    "outputId": "5be27842-d7f7-4bbf-c5f3-e933e58f30df"
   },
   "outputs": [
    {
     "data": {
      "text/plain": [
       "type_description\n",
       "Безналичный перевод денежных средств через POS                                                              68\n",
       "Взнос наличных через POS                                                                                   328\n",
       "Взнос наличных через POS (в своем ТБ) по счету в овердрафте                                                  2\n",
       "Взнос наличных через АТМ                                                                                   176\n",
       "Взнос наличных через АТМ (в других ТБ) по счету в овердрафте                                                 3\n",
       "Взнос наличных через АТМ (в своем ТБ) по счету в овердрафте                                                 24\n",
       "Взнос наличных через АТМ (в своем тер.банке)                                                              3529\n",
       "Возврат  покупки.                                                                                           26\n",
       "Возврат  покупки. POS                                                                                       25\n",
       "Возврат  покупки. Зарубеж.                                                                                  62\n",
       "Возврат покупки. POS                                                                                       279\n",
       "Возврат покупки.POS Зарубеж.                                                                                12\n",
       "Выдача наличных в АТМ                                                                                    14135\n",
       "Выдача наличных в АТМ банка (в других ТБ)                                                                  782\n",
       "Выдача наличных через POS банка                                                                            146\n",
       "Выдача наличных через POS банка (в других ТБ)                                                                4\n",
       "Зачисление до завершения претензионной работы                                                                1\n",
       "Наличные.   АТМ                                                                                            103\n",
       "Наличные.  АТМ Зарубеж. банк                                                                                41\n",
       "Оплата услуги. Банкоматы                                                                                 12848\n",
       "Перевод на карту (с карты) через POS (в пределах одного тер.банка)                                           1\n",
       "Перевод на карту (с карты) через POS (из одного ТБ в другой ТБ)                                              1\n",
       "Перевод на карту (с карты) через АТМ (в пределах одного тер.банка)                                        2092\n",
       "Перевод на карту (с карты) через АТМ (из одного ТБ в другой ТБ)                                            404\n",
       "Перевод на карту (с карты) через Мобильный банк (без взимания комиссии с отправителя)                     9808\n",
       "Перевод на карту (с карты) через Мобильный банк (с взиманием комиссии с отправителя)                      1236\n",
       "Перевод на карту/ с карты через АТМ (без взимания комиссии с отправителя) по счету в овердрафте              9\n",
       "Перевод на карту/ с карты через АТМ (со взиманием комиссии с отправителя) по счету в овердрафте              1\n",
       "Перевод с карты на карту в овердрафте через Мобильный банк (без взимания комиссии)                          23\n",
       "Перевод с карты на карту в овердрафте через Мобильный банк (со взиманием комиссии)                          13\n",
       "Плата за взнос наличных через POS (в другом тер.банке)                                                      15\n",
       "Плата за взнос наличных через АТМ (в другом тер.банке)                                                       6\n",
       "Плата за перевод на карту (с карты) через POS                                                                1\n",
       "Плата за перевод на карту (с карты) через АТМ (из одного ТБ в другой ТБ)                                   275\n",
       "Плата за перевод на карту (с карты) через Мобильный банк                                                   887\n",
       "Плата за получение наличных в АТМ банка                                                                    416\n",
       "Плата за получение наличных в АТМ банка (в других ТБ)                                                      160\n",
       "Плата за получение наличных в АТМ.                                                                         123\n",
       "Плата за получение наличных в АТМ. Зарубеж.                                                                 39\n",
       "Плата за получение наличных через POS в банке                                                                3\n",
       "Плата за получение наличных. Зарубеж.                                                                        1\n",
       "Плата за превыш.лимита                                                                                       5\n",
       "Покупка.                                                                                                  1488\n",
       "Покупка. POS                                                                                             33700\n",
       "Покупка. POS  Зарубеж.                                                                                     237\n",
       "Покупка. Зарубеж.                                                                                         1243\n",
       "Списание после проведения претензионной работы                                                               4\n",
       "Списание с карты на карту по операции <перевода с карты на карту> через Мобильный банк (без комиссии)     4788\n",
       "Списание с карты на карту по операции <перевода с карты на карту> через Мобильный банк (с комиссией)       908\n",
       "Списание с карты по операции “перевода с карты на карту” через POS (в пределах одного тер.банка)             3\n",
       "Списание с карты по операции “перевода с карты на карту” через АТМ (в пределах одного тер.банка)           943\n",
       "Списание с карты по операции “перевода с карты на карту” через АТМ (из одного ТБ в другой ТБ)              279\n",
       "н/д                                                                                                         75\n",
       "dtype: int64"
      ]
     },
     "execution_count": 28,
     "metadata": {},
     "output_type": "execute_result"
    }
   ],
   "source": [
    "df_merged.groupby(\"type_description\").size()"
   ]
  },
  {
   "cell_type": "code",
   "execution_count": 29,
   "metadata": {
    "colab": {
     "base_uri": "https://localhost:8080/"
    },
    "id": "NzkYHCbbOo6f",
    "outputId": "e7a81fb2-6617-44d3-a55e-37725cc7d9b0"
   },
   "outputs": [
    {
     "data": {
      "text/plain": [
       "173"
      ]
     },
     "execution_count": 29,
     "metadata": {},
     "output_type": "execute_result"
    }
   ],
   "source": [
    "df_merged.code.nunique()"
   ]
  },
  {
   "cell_type": "markdown",
   "metadata": {
    "id": "AQlVwQbtRTDC"
   },
   "source": [
    "# Part 3. Feature engineering. Encodings, generating the features from date-time, sum and from other columns."
   ]
  },
  {
   "cell_type": "markdown",
   "metadata": {
    "id": "ewYUOqSORoI2"
   },
   "source": [
    "\n",
    "**Mutual information** describes relationships in terms of uncertainty. The mutual information (MI) between two quantities is a measure of the extent to which knowledge of one quantity reduces uncertainty about the other. In probability theory and information theory, the mutual information (MI) of two random variables is a measure of the mutual dependence between the two variables. More specifically, it quantifies the \"amount of information\"  obtained about one random variable by observing the other random variable."
   ]
  },
  {
   "cell_type": "code",
   "execution_count": 30,
   "metadata": {
    "colab": {
     "base_uri": "https://localhost:8080/"
    },
    "id": "2kEPPhgloto_",
    "outputId": "43520862-7a48-4428-877f-e6d36b12d310"
   },
   "outputs": [
    {
     "data": {
      "text/plain": [
       "(91807, 8)"
      ]
     },
     "execution_count": 30,
     "metadata": {},
     "output_type": "execute_result"
    }
   ],
   "source": [
    "df_merged.shape"
   ]
  },
  {
   "cell_type": "code",
   "execution_count": 31,
   "metadata": {
    "colab": {
     "base_uri": "https://localhost:8080/"
    },
    "id": "vO41Dbrioto_",
    "outputId": "81a20bde-b4b5-42da-edea-b52a7ab81a27"
   },
   "outputs": [
    {
     "data": {
      "text/plain": [
       "(91732, 8)"
      ]
     },
     "execution_count": 31,
     "metadata": {},
     "output_type": "execute_result"
    }
   ],
   "source": [
    "df_merged.drop(df_merged[df_merged.type_description == 'н/д'].index, inplace=True) # drop nan rows from type_description column\n",
    "df_merged.shape"
   ]
  },
  {
   "cell_type": "code",
   "execution_count": 32,
   "metadata": {
    "id": "F0KiafgMotpA"
   },
   "outputs": [],
   "source": [
    "for col in df_merged.columns:  # for every column \n",
    "    if len(df_merged[col].unique()) == 1:   # check unique rows\n",
    "        df_merged.drop(col,inplace=True,axis=1) # drop other columns"
   ]
  },
  {
   "cell_type": "code",
   "execution_count": 33,
   "metadata": {
    "colab": {
     "base_uri": "https://localhost:8080/"
    },
    "id": "Y4LMfTd_otpA",
    "outputId": "754fb20e-89c7-4759-df9c-debf68d0199d"
   },
   "outputs": [
    {
     "data": {
      "text/plain": [
       "(91732, 8)"
      ]
     },
     "execution_count": 33,
     "metadata": {},
     "output_type": "execute_result"
    }
   ],
   "source": [
    "df_merged.shape"
   ]
  },
  {
   "cell_type": "code",
   "execution_count": 34,
   "metadata": {
    "id": "tpZB97MhRrEW"
   },
   "outputs": [],
   "source": [
    "X = df_merged.copy()\n",
    "y = X.pop(\"code\") \n",
    "\n",
    "# Label encoding for categoricals\n",
    "for colname in X.select_dtypes(\"object\"):\n",
    "    X[colname], _ = X[colname].factorize()\n",
    "\n",
    "# All discrete features should now have integer dtypes\n",
    "discrete_features = X.dtypes == int"
   ]
  },
  {
   "cell_type": "code",
   "execution_count": 35,
   "metadata": {
    "colab": {
     "base_uri": "https://localhost:8080/"
    },
    "id": "Q2ZBweiLRqPe",
    "outputId": "538f3e35-df98-4fe1-fd1e-2c2515e73ea3"
   },
   "outputs": [
    {
     "data": {
      "text/plain": [
       "code_description    2.653607\n",
       "sum                 0.980312\n",
       "target              0.011863\n",
       "Name: MI Scores, dtype: float64"
      ]
     },
     "execution_count": 35,
     "metadata": {},
     "output_type": "execute_result"
    }
   ],
   "source": [
    "from sklearn.feature_selection import mutual_info_regression\n",
    "\n",
    "def make_mi_scores(X, y, discrete_features): # mutual information scores\n",
    "    mi_scores = mutual_info_regression(X, y, discrete_features=discrete_features) # regression\n",
    "    mi_scores = pd.Series(mi_scores, name=\"MI Scores\", index=X.columns)\n",
    "    mi_scores = mi_scores.sort_values(ascending=False)\n",
    "    return mi_scores\n",
    "\n",
    "mi_scores = make_mi_scores(X, y, discrete_features)\n",
    "mi_scores[::3]  # show a few features with their MI scores"
   ]
  },
  {
   "cell_type": "code",
   "execution_count": 36,
   "metadata": {
    "colab": {
     "base_uri": "https://localhost:8080/",
     "height": 460
    },
    "id": "Zn1bHQLER9Bi",
    "outputId": "278826bd-1f4f-4f95-8d20-c5b17460621f"
   },
   "outputs": [
    {
     "data": {
      "image/png": "[encoded data removed]",
      "text/plain": [
       "<Figure size 800x500 with 1 Axes>"
      ]
     },
     "metadata": {
      "needs_background": "light"
     },
     "output_type": "display_data"
    }
   ],
   "source": [
    "def plot_mi_scores(scores):\n",
    "    scores = scores.sort_values(ascending=True) # scores sorting\n",
    "    width = np.arange(len(scores))  # length of the scores\n",
    "    ticks = list(scores.index)  # indexes of scores\n",
    "    plt.barh(width, scores)   # width of graph\n",
    "    plt.yticks(width, ticks) # ticks of graph\n",
    "    plt.title(\"Mutual Information Scores\")\n",
    "\n",
    "\n",
    "plt.figure(dpi=100, figsize=(8, 5))\n",
    "plot_mi_scores(mi_scores)"
   ]
  },
  {
   "cell_type": "code",
   "execution_count": 37,
   "metadata": {
    "colab": {
     "base_uri": "https://localhost:8080/"
    },
    "id": "4L6Xh57pRgzF",
    "outputId": "a6049d64-5c30-4d4b-f3fc-a5238344fb3d"
   },
   "outputs": [
    {
     "data": {
      "text/plain": [
       "client_id            0\n",
       "target               0\n",
       "datetime             0\n",
       "code                 0\n",
       "type                 0\n",
       "sum                  0\n",
       "type_description    26\n",
       "code_description     0\n",
       "dtype: int64"
      ]
     },
     "execution_count": 37,
     "metadata": {},
     "output_type": "execute_result"
    }
   ],
   "source": [
    "missing_values_count = df_merged.isnull().sum()\n",
    "\n",
    "# check the amount of missing points in the first ten columns\n",
    "missing_values_count[0:10]"
   ]
  },
  {
   "cell_type": "code",
   "execution_count": 38,
   "metadata": {
    "id": "kBMaEv5NotpB"
   },
   "outputs": [],
   "source": [
    "# fill NaN values in the target column\n",
    "# first we sort the column, then we fill in the nulls with the values of the previous row\n",
    "df_merged.target = df_merged.sort_values(by='client_id').target.fillna(method='ffill')"
   ]
  },
  {
   "cell_type": "code",
   "execution_count": 39,
   "metadata": {
    "colab": {
     "base_uri": "https://localhost:8080/",
     "height": 641
    },
    "id": "uwQ-u2E2S7KU",
    "outputId": "506a2131-8cdf-487f-e712-7353ee197032"
   },
   "outputs": [
    {
     "data": {
      "text/html": [
       "<div>\n",
       "<style scoped>\n",
       "    .dataframe tbody tr th:only-of-type {\n",
       "        vertical-align: middle;\n",
       "    }\n",
       "\n",
       "    .dataframe tbody tr th {\n",
       "        vertical-align: top;\n",
       "    }\n",
       "\n",
       "    .dataframe thead th {\n",
       "        text-align: right;\n",
       "    }\n",
       "</style>\n",
       "<table border=\"1\" class=\"dataframe\">\n",
       "  <thead>\n",
       "    <tr style=\"text-align: right;\">\n",
       "      <th></th>\n",
       "      <th>client_id</th>\n",
       "      <th>target</th>\n",
       "      <th>datetime</th>\n",
       "      <th>code</th>\n",
       "      <th>type</th>\n",
       "      <th>sum</th>\n",
       "      <th>type_description</th>\n",
       "      <th>code_description</th>\n",
       "    </tr>\n",
       "  </thead>\n",
       "  <tbody>\n",
       "    <tr>\n",
       "      <th>0</th>\n",
       "      <td>75063019</td>\n",
       "      <td>0</td>\n",
       "      <td>397 20:05:07</td>\n",
       "      <td>4814</td>\n",
       "      <td>1030</td>\n",
       "      <td>-4491.83</td>\n",
       "      <td>Оплата услуги. Банкоматы</td>\n",
       "      <td>Звонки с использованием телефонов, считывающих...</td>\n",
       "    </tr>\n",
       "    <tr>\n",
       "      <th>1</th>\n",
       "      <td>75063019</td>\n",
       "      <td>0</td>\n",
       "      <td>86 20:29:50</td>\n",
       "      <td>6010</td>\n",
       "      <td>7070</td>\n",
       "      <td>4491.83</td>\n",
       "      <td>Перевод на карту (с карты) через Мобильный бан...</td>\n",
       "      <td>Финансовые институты — снятие наличности вручную</td>\n",
       "    </tr>\n",
       "    <tr>\n",
       "      <th>2</th>\n",
       "      <td>75063019</td>\n",
       "      <td>0</td>\n",
       "      <td>375 16:00:33</td>\n",
       "      <td>4814</td>\n",
       "      <td>1030</td>\n",
       "      <td>-3144.28</td>\n",
       "      <td>Оплата услуги. Банкоматы</td>\n",
       "      <td>Звонки с использованием телефонов, считывающих...</td>\n",
       "    </tr>\n",
       "    <tr>\n",
       "      <th>3</th>\n",
       "      <td>75063019</td>\n",
       "      <td>0</td>\n",
       "      <td>136 17:10:60</td>\n",
       "      <td>5411</td>\n",
       "      <td>1010</td>\n",
       "      <td>-3930.35</td>\n",
       "      <td>Покупка. POS</td>\n",
       "      <td>Бакалейные магазины, супермаркеты</td>\n",
       "    </tr>\n",
       "    <tr>\n",
       "      <th>4</th>\n",
       "      <td>75063019</td>\n",
       "      <td>0</td>\n",
       "      <td>378 13:01:51</td>\n",
       "      <td>6011</td>\n",
       "      <td>2010</td>\n",
       "      <td>-4491.83</td>\n",
       "      <td>Выдача наличных в АТМ</td>\n",
       "      <td>Финансовые институты — снятие наличности автом...</td>\n",
       "    </tr>\n",
       "    <tr>\n",
       "      <th>...</th>\n",
       "      <td>...</td>\n",
       "      <td>...</td>\n",
       "      <td>...</td>\n",
       "      <td>...</td>\n",
       "      <td>...</td>\n",
       "      <td>...</td>\n",
       "      <td>...</td>\n",
       "      <td>...</td>\n",
       "    </tr>\n",
       "    <tr>\n",
       "      <th>91802</th>\n",
       "      <td>1846496</td>\n",
       "      <td>0</td>\n",
       "      <td>452 00:00:00</td>\n",
       "      <td>5999</td>\n",
       "      <td>1100</td>\n",
       "      <td>-2243.45</td>\n",
       "      <td>Покупка.</td>\n",
       "      <td>Плавательные бассейны — распродажа</td>\n",
       "    </tr>\n",
       "    <tr>\n",
       "      <th>91803</th>\n",
       "      <td>1846496</td>\n",
       "      <td>0</td>\n",
       "      <td>196 13:59:07</td>\n",
       "      <td>5411</td>\n",
       "      <td>1010</td>\n",
       "      <td>-4783.80</td>\n",
       "      <td>Покупка. POS</td>\n",
       "      <td>Бакалейные магазины, супермаркеты</td>\n",
       "    </tr>\n",
       "    <tr>\n",
       "      <th>91804</th>\n",
       "      <td>1846496</td>\n",
       "      <td>0</td>\n",
       "      <td>186 13:38:15</td>\n",
       "      <td>5732</td>\n",
       "      <td>1010</td>\n",
       "      <td>-112273.33</td>\n",
       "      <td>Покупка. POS</td>\n",
       "      <td>Продажа электронного оборудования</td>\n",
       "    </tr>\n",
       "    <tr>\n",
       "      <th>91805</th>\n",
       "      <td>1846496</td>\n",
       "      <td>0</td>\n",
       "      <td>440 16:02:57</td>\n",
       "      <td>6010</td>\n",
       "      <td>7030</td>\n",
       "      <td>168443.68</td>\n",
       "      <td>Перевод на карту (с карты) через АТМ (в предел...</td>\n",
       "      <td>Финансовые институты — снятие наличности вручную</td>\n",
       "    </tr>\n",
       "    <tr>\n",
       "      <th>91806</th>\n",
       "      <td>1846496</td>\n",
       "      <td>0</td>\n",
       "      <td>148 15:56:18</td>\n",
       "      <td>5411</td>\n",
       "      <td>1010</td>\n",
       "      <td>-23634.89</td>\n",
       "      <td>Покупка. POS</td>\n",
       "      <td>Бакалейные магазины, супермаркеты</td>\n",
       "    </tr>\n",
       "  </tbody>\n",
       "</table>\n",
       "<p>91732 rows × 8 columns</p>\n",
       "</div>"
      ],
      "text/plain": [
       "       client_id  target      datetime  code  type        sum  \\\n",
       "0       75063019       0  397 20:05:07  4814  1030   -4491.83   \n",
       "1       75063019       0   86 20:29:50  6010  7070    4491.83   \n",
       "2       75063019       0  375 16:00:33  4814  1030   -3144.28   \n",
       "3       75063019       0  136 17:10:60  5411  1010   -3930.35   \n",
       "4       75063019       0  378 13:01:51  6011  2010   -4491.83   \n",
       "...          ...     ...           ...   ...   ...        ...   \n",
       "91802    1846496       0  452 00:00:00  5999  1100   -2243.45   \n",
       "91803    1846496       0  196 13:59:07  5411  1010   -4783.80   \n",
       "91804    1846496       0  186 13:38:15  5732  1010 -112273.33   \n",
       "91805    1846496       0  440 16:02:57  6010  7030  168443.68   \n",
       "91806    1846496       0  148 15:56:18  5411  1010  -23634.89   \n",
       "\n",
       "                                        type_description  \\\n",
       "0                               Оплата услуги. Банкоматы   \n",
       "1      Перевод на карту (с карты) через Мобильный бан...   \n",
       "2                               Оплата услуги. Банкоматы   \n",
       "3                                          Покупка. POS    \n",
       "4                                  Выдача наличных в АТМ   \n",
       "...                                                  ...   \n",
       "91802                                           Покупка.   \n",
       "91803                                      Покупка. POS    \n",
       "91804                                      Покупка. POS    \n",
       "91805  Перевод на карту (с карты) через АТМ (в предел...   \n",
       "91806                                      Покупка. POS    \n",
       "\n",
       "                                        code_description  \n",
       "0      Звонки с использованием телефонов, считывающих...  \n",
       "1       Финансовые институты — снятие наличности вручную  \n",
       "2      Звонки с использованием телефонов, считывающих...  \n",
       "3                      Бакалейные магазины, супермаркеты  \n",
       "4      Финансовые институты — снятие наличности автом...  \n",
       "...                                                  ...  \n",
       "91802                 Плавательные бассейны — распродажа  \n",
       "91803                  Бакалейные магазины, супермаркеты  \n",
       "91804                  Продажа электронного оборудования  \n",
       "91805   Финансовые институты — снятие наличности вручную  \n",
       "91806                  Бакалейные магазины, супермаркеты  \n",
       "\n",
       "[91732 rows x 8 columns]"
      ]
     },
     "execution_count": 39,
     "metadata": {},
     "output_type": "execute_result"
    }
   ],
   "source": [
    "df_merged"
   ]
  },
  {
   "cell_type": "markdown",
   "metadata": {
    "id": "OKrAEsnXTVtk"
   },
   "source": [
    "Parsing dates"
   ]
  },
  {
   "cell_type": "code",
   "execution_count": 40,
   "metadata": {
    "colab": {
     "base_uri": "https://localhost:8080/"
    },
    "id": "6xNh_c74TTBM",
    "outputId": "e391be79-acd4-41de-d534-f8742f52813e"
   },
   "outputs": [
    {
     "data": {
      "text/plain": [
       "91732"
      ]
     },
     "execution_count": 40,
     "metadata": {},
     "output_type": "execute_result"
    }
   ],
   "source": [
    "days_hour = [i for i in df_merged.datetime.str.split(' ')]  # list of days\n",
    "days = [days_hour[i][0] for i in range(len(days_hour))]  # for every column in range of days_hour length\n",
    "days = [int(i) for i in days]  \n",
    "len(days)"
   ]
  },
  {
   "cell_type": "code",
   "execution_count": 41,
   "metadata": {
    "colab": {
     "base_uri": "https://localhost:8080/",
     "height": 641
    },
    "id": "65Q1y418TeoQ",
    "outputId": "38b2ecfd-ef25-4454-bba3-96d5812948eb"
   },
   "outputs": [
    {
     "data": {
      "text/html": [
       "<div>\n",
       "<style scoped>\n",
       "    .dataframe tbody tr th:only-of-type {\n",
       "        vertical-align: middle;\n",
       "    }\n",
       "\n",
       "    .dataframe tbody tr th {\n",
       "        vertical-align: top;\n",
       "    }\n",
       "\n",
       "    .dataframe thead th {\n",
       "        text-align: right;\n",
       "    }\n",
       "</style>\n",
       "<table border=\"1\" class=\"dataframe\">\n",
       "  <thead>\n",
       "    <tr style=\"text-align: right;\">\n",
       "      <th></th>\n",
       "      <th>client_id</th>\n",
       "      <th>target</th>\n",
       "      <th>datetime</th>\n",
       "      <th>code</th>\n",
       "      <th>type</th>\n",
       "      <th>sum</th>\n",
       "      <th>type_description</th>\n",
       "      <th>code_description</th>\n",
       "      <th>Time</th>\n",
       "    </tr>\n",
       "  </thead>\n",
       "  <tbody>\n",
       "    <tr>\n",
       "      <th>0</th>\n",
       "      <td>75063019</td>\n",
       "      <td>0</td>\n",
       "      <td>397 20:05:07</td>\n",
       "      <td>4814</td>\n",
       "      <td>1030</td>\n",
       "      <td>-4491.83</td>\n",
       "      <td>Оплата услуги. Банкоматы</td>\n",
       "      <td>Звонки с использованием телефонов, считывающих...</td>\n",
       "      <td>2020-11-03</td>\n",
       "    </tr>\n",
       "    <tr>\n",
       "      <th>1</th>\n",
       "      <td>75063019</td>\n",
       "      <td>0</td>\n",
       "      <td>86 20:29:50</td>\n",
       "      <td>6010</td>\n",
       "      <td>7070</td>\n",
       "      <td>4491.83</td>\n",
       "      <td>Перевод на карту (с карты) через Мобильный бан...</td>\n",
       "      <td>Финансовые институты — снятие наличности вручную</td>\n",
       "      <td>2019-12-28</td>\n",
       "    </tr>\n",
       "    <tr>\n",
       "      <th>2</th>\n",
       "      <td>75063019</td>\n",
       "      <td>0</td>\n",
       "      <td>375 16:00:33</td>\n",
       "      <td>4814</td>\n",
       "      <td>1030</td>\n",
       "      <td>-3144.28</td>\n",
       "      <td>Оплата услуги. Банкоматы</td>\n",
       "      <td>Звонки с использованием телефонов, считывающих...</td>\n",
       "      <td>2020-10-12</td>\n",
       "    </tr>\n",
       "    <tr>\n",
       "      <th>3</th>\n",
       "      <td>75063019</td>\n",
       "      <td>0</td>\n",
       "      <td>136 17:10:60</td>\n",
       "      <td>5411</td>\n",
       "      <td>1010</td>\n",
       "      <td>-3930.35</td>\n",
       "      <td>Покупка. POS</td>\n",
       "      <td>Бакалейные магазины, супермаркеты</td>\n",
       "      <td>2020-02-16</td>\n",
       "    </tr>\n",
       "    <tr>\n",
       "      <th>4</th>\n",
       "      <td>75063019</td>\n",
       "      <td>0</td>\n",
       "      <td>378 13:01:51</td>\n",
       "      <td>6011</td>\n",
       "      <td>2010</td>\n",
       "      <td>-4491.83</td>\n",
       "      <td>Выдача наличных в АТМ</td>\n",
       "      <td>Финансовые институты — снятие наличности автом...</td>\n",
       "      <td>2020-10-15</td>\n",
       "    </tr>\n",
       "    <tr>\n",
       "      <th>...</th>\n",
       "      <td>...</td>\n",
       "      <td>...</td>\n",
       "      <td>...</td>\n",
       "      <td>...</td>\n",
       "      <td>...</td>\n",
       "      <td>...</td>\n",
       "      <td>...</td>\n",
       "      <td>...</td>\n",
       "      <td>...</td>\n",
       "    </tr>\n",
       "    <tr>\n",
       "      <th>91802</th>\n",
       "      <td>1846496</td>\n",
       "      <td>0</td>\n",
       "      <td>452 00:00:00</td>\n",
       "      <td>5999</td>\n",
       "      <td>1100</td>\n",
       "      <td>-2243.45</td>\n",
       "      <td>Покупка.</td>\n",
       "      <td>Плавательные бассейны — распродажа</td>\n",
       "      <td>2020-12-28</td>\n",
       "    </tr>\n",
       "    <tr>\n",
       "      <th>91803</th>\n",
       "      <td>1846496</td>\n",
       "      <td>0</td>\n",
       "      <td>196 13:59:07</td>\n",
       "      <td>5411</td>\n",
       "      <td>1010</td>\n",
       "      <td>-4783.80</td>\n",
       "      <td>Покупка. POS</td>\n",
       "      <td>Бакалейные магазины, супермаркеты</td>\n",
       "      <td>2020-04-16</td>\n",
       "    </tr>\n",
       "    <tr>\n",
       "      <th>91804</th>\n",
       "      <td>1846496</td>\n",
       "      <td>0</td>\n",
       "      <td>186 13:38:15</td>\n",
       "      <td>5732</td>\n",
       "      <td>1010</td>\n",
       "      <td>-112273.33</td>\n",
       "      <td>Покупка. POS</td>\n",
       "      <td>Продажа электронного оборудования</td>\n",
       "      <td>2020-04-06</td>\n",
       "    </tr>\n",
       "    <tr>\n",
       "      <th>91805</th>\n",
       "      <td>1846496</td>\n",
       "      <td>0</td>\n",
       "      <td>440 16:02:57</td>\n",
       "      <td>6010</td>\n",
       "      <td>7030</td>\n",
       "      <td>168443.68</td>\n",
       "      <td>Перевод на карту (с карты) через АТМ (в предел...</td>\n",
       "      <td>Финансовые институты — снятие наличности вручную</td>\n",
       "      <td>2020-12-16</td>\n",
       "    </tr>\n",
       "    <tr>\n",
       "      <th>91806</th>\n",
       "      <td>1846496</td>\n",
       "      <td>0</td>\n",
       "      <td>148 15:56:18</td>\n",
       "      <td>5411</td>\n",
       "      <td>1010</td>\n",
       "      <td>-23634.89</td>\n",
       "      <td>Покупка. POS</td>\n",
       "      <td>Бакалейные магазины, супермаркеты</td>\n",
       "      <td>2020-02-28</td>\n",
       "    </tr>\n",
       "  </tbody>\n",
       "</table>\n",
       "<p>91732 rows × 9 columns</p>\n",
       "</div>"
      ],
      "text/plain": [
       "       client_id  target      datetime  code  type        sum  \\\n",
       "0       75063019       0  397 20:05:07  4814  1030   -4491.83   \n",
       "1       75063019       0   86 20:29:50  6010  7070    4491.83   \n",
       "2       75063019       0  375 16:00:33  4814  1030   -3144.28   \n",
       "3       75063019       0  136 17:10:60  5411  1010   -3930.35   \n",
       "4       75063019       0  378 13:01:51  6011  2010   -4491.83   \n",
       "...          ...     ...           ...   ...   ...        ...   \n",
       "91802    1846496       0  452 00:00:00  5999  1100   -2243.45   \n",
       "91803    1846496       0  196 13:59:07  5411  1010   -4783.80   \n",
       "91804    1846496       0  186 13:38:15  5732  1010 -112273.33   \n",
       "91805    1846496       0  440 16:02:57  6010  7030  168443.68   \n",
       "91806    1846496       0  148 15:56:18  5411  1010  -23634.89   \n",
       "\n",
       "                                        type_description  \\\n",
       "0                               Оплата услуги. Банкоматы   \n",
       "1      Перевод на карту (с карты) через Мобильный бан...   \n",
       "2                               Оплата услуги. Банкоматы   \n",
       "3                                          Покупка. POS    \n",
       "4                                  Выдача наличных в АТМ   \n",
       "...                                                  ...   \n",
       "91802                                           Покупка.   \n",
       "91803                                      Покупка. POS    \n",
       "91804                                      Покупка. POS    \n",
       "91805  Перевод на карту (с карты) через АТМ (в предел...   \n",
       "91806                                      Покупка. POS    \n",
       "\n",
       "                                        code_description       Time  \n",
       "0      Звонки с использованием телефонов, считывающих... 2020-11-03  \n",
       "1       Финансовые институты — снятие наличности вручную 2019-12-28  \n",
       "2      Звонки с использованием телефонов, считывающих... 2020-10-12  \n",
       "3                      Бакалейные магазины, супермаркеты 2020-02-16  \n",
       "4      Финансовые институты — снятие наличности автом... 2020-10-15  \n",
       "...                                                  ...        ...  \n",
       "91802                 Плавательные бассейны — распродажа 2020-12-28  \n",
       "91803                  Бакалейные магазины, супермаркеты 2020-04-16  \n",
       "91804                  Продажа электронного оборудования 2020-04-06  \n",
       "91805   Финансовые институты — снятие наличности вручную 2020-12-16  \n",
       "91806                  Бакалейные магазины, супермаркеты 2020-02-28  \n",
       "\n",
       "[91732 rows x 9 columns]"
      ]
     },
     "execution_count": 41,
     "metadata": {},
     "output_type": "execute_result"
    }
   ],
   "source": [
    "year_w_d = pd.date_range(end = \"2021-01-01\", periods = max(days)+1).tolist() # create list with different days\n",
    "year = []   # create list\n",
    "for i in range(len(days)): \n",
    "    for j in range(457):\n",
    "        if days[i] == j:\n",
    "            year.append(year_w_d[j]) # appending date to 'year' list\n",
    "df_merged['Time'] = year  # new column with date\n",
    "df_merged"
   ]
  },
  {
   "cell_type": "code",
   "execution_count": 42,
   "metadata": {
    "id": "UBpBm7xSotpC"
   },
   "outputs": [],
   "source": [
    "df_merged['income'] = df_merged['sum'].where(df_merged['sum'] > 0) \n",
    "df_merged['spending'] = df_merged['sum'].where(df_merged['sum'] <= 0)\n",
    "df_merged = df_merged.replace(np.nan, 0)\n",
    "income = df_merged[df_merged.income > 0].income\n",
    "spending = df_merged[df_merged.spending < 0].spending"
   ]
  },
  {
   "cell_type": "code",
   "execution_count": 43,
   "metadata": {
    "colab": {
     "base_uri": "https://localhost:8080/"
    },
    "id": "juHM5xPsotpC",
    "outputId": "b164d6d6-d6f0-4934-ae49-9d99556293db"
   },
   "outputs": [
    {
     "name": "stdout",
     "output_type": "stream",
     "text": [
      "Average income of clients:  164463.58\n",
      "Average spendings of clients:  -61137.22\n",
      "Income mode:  0    22459.16\n",
      "dtype: float64\n",
      "Spending mode:  0   -2245.92\n",
      "dtype: float64\n",
      "Median of income:  22459.16\n",
      "Median of spending:  -8983.66\n",
      "Variance of income set is 1442827663402.668\n",
      "Variance of spending set is 119884897669.1505\n",
      "Standard deviation of income of clients:  1201144.41\n",
      "Standard deviation of spendings of clients:  346241.63\n"
     ]
    }
   ],
   "source": [
    "print('Average income of clients: ', round(np.mean(income), 2))\n",
    "print('Average spendings of clients: ', round(np.mean(spending), 2))\n",
    "print('Income mode: ', income.mode())\n",
    "print('Spending mode: ', spending.mode())\n",
    "print('Median of income: ', round(np.median(income), 2))\n",
    "print('Median of spending: ', round(np.median(spending), 2))\n",
    "print(\"Variance of income set is % s\"\n",
    "      %(statistics.variance(income)))\n",
    "print(\"Variance of spending set is % s\"\n",
    "      %(statistics.variance(spending)))\n",
    "print('Standard deviation of income of clients: ', round(np.std(income), 2))\n",
    "print('Standard deviation of spendings of clients: ', round(np.std(spending), 2))\n"
   ]
  },
  {
   "cell_type": "markdown",
   "metadata": {
    "id": "GuK5pwkSotpC"
   },
   "source": [
    "# Outliers defining"
   ]
  },
  {
   "cell_type": "code",
   "execution_count": 44,
   "metadata": {
    "colab": {
     "base_uri": "https://localhost:8080/"
    },
    "id": "PSjrIGvUotpD",
    "outputId": "aaa379b7-43c4-4170-d2f2-837841a64e1a"
   },
   "outputs": [
    {
     "name": "stdout",
     "output_type": "stream",
     "text": [
      "There are 2450 outlier incomes.\n",
      "upper limit of income: 213642.73\n",
      "lower limit of income: -116506.87000000001\n",
      "upper limit of spending: 33424.454999999994\n",
      "lower limit of spending: -63666.94499999999\n",
      "There are 11419 outlier spendings.\n"
     ]
    }
   ],
   "source": [
    "Q1 = income.quantile(0.25)\n",
    "Q3 = income.quantile(0.75)\n",
    "IQR = Q3 - Q1\n",
    "\n",
    "low_lim = Q1 - 1.5 * IQR\n",
    "up_lim = Q3 + 1.5 * IQR\n",
    "\n",
    "outlier =[]\n",
    "for x in income:\n",
    "    if ((x> up_lim) or (x<low_lim)):\n",
    "         outlier.append(x)\n",
    "print('There are', len(outlier), 'outlier incomes.')\n",
    "Q1 = spending.quantile(0.25)\n",
    "Q3 = spending.quantile(0.75)\n",
    "IQR = Q3 - Q1\n",
    "print('upper limit of income:' , up_lim)\n",
    "print('lower limit of income:' , low_lim)\n",
    "low_lim = Q1 - 1.5 * IQR\n",
    "up_lim = Q3 + 1.5 * IQR\n",
    "\n",
    "outlier =[]\n",
    "for x in spending:\n",
    "    if ((x> up_lim) or (x<low_lim)):\n",
    "         outlier.append(x)\n",
    "print('upper limit of spending:' , up_lim)\n",
    "print('lower limit of spending:' , low_lim)\n",
    "print('There are', len(outlier), 'outlier spendings.')"
   ]
  },
  {
   "cell_type": "markdown",
   "metadata": {
    "id": "4cGkvDxmotpD"
   },
   "source": [
    "# RFM analysis"
   ]
  },
  {
   "cell_type": "markdown",
   "metadata": {
    "id": "BXFKHtSvotpD"
   },
   "source": [
    "The “RFM” in RFM analysis stands for recency, frequency and monetary value. RFM analysis is a way to use data based on existing customer behavior to predict how a new customer is likely to act in the future. An RFM model is built using three key factors:\n",
    "\n",
    "1) how recently a customer has transacted with a brand\n",
    "\n",
    "2) how frequently they’ve engaged with a brand\n",
    "\n",
    "3) how much money they’ve spent on a brand’s products and services"
   ]
  },
  {
   "cell_type": "code",
   "execution_count": 45,
   "metadata": {
    "colab": {
     "base_uri": "https://localhost:8080/",
     "height": 206
    },
    "id": "NSWDV22ootpD",
    "outputId": "071207b7-c119-448b-f67e-580f23d88e3b"
   },
   "outputs": [
    {
     "data": {
      "text/html": [
       "<div>\n",
       "<style scoped>\n",
       "    .dataframe tbody tr th:only-of-type {\n",
       "        vertical-align: middle;\n",
       "    }\n",
       "\n",
       "    .dataframe tbody tr th {\n",
       "        vertical-align: top;\n",
       "    }\n",
       "\n",
       "    .dataframe thead th {\n",
       "        text-align: right;\n",
       "    }\n",
       "</style>\n",
       "<table border=\"1\" class=\"dataframe\">\n",
       "  <thead>\n",
       "    <tr style=\"text-align: right;\">\n",
       "      <th></th>\n",
       "      <th>Client_id</th>\n",
       "      <th>LastOperationDate</th>\n",
       "      <th>Recency</th>\n",
       "    </tr>\n",
       "  </thead>\n",
       "  <tbody>\n",
       "    <tr>\n",
       "      <th>0</th>\n",
       "      <td>22899</td>\n",
       "      <td>2020-12-17</td>\n",
       "      <td>15</td>\n",
       "    </tr>\n",
       "    <tr>\n",
       "      <th>1</th>\n",
       "      <td>27914</td>\n",
       "      <td>2020-07-21</td>\n",
       "      <td>164</td>\n",
       "    </tr>\n",
       "    <tr>\n",
       "      <th>2</th>\n",
       "      <td>28753</td>\n",
       "      <td>2020-12-09</td>\n",
       "      <td>23</td>\n",
       "    </tr>\n",
       "    <tr>\n",
       "      <th>3</th>\n",
       "      <td>38084</td>\n",
       "      <td>2020-12-05</td>\n",
       "      <td>27</td>\n",
       "    </tr>\n",
       "    <tr>\n",
       "      <th>4</th>\n",
       "      <td>49793</td>\n",
       "      <td>2020-12-15</td>\n",
       "      <td>17</td>\n",
       "    </tr>\n",
       "  </tbody>\n",
       "</table>\n",
       "</div>"
      ],
      "text/plain": [
       "   Client_id LastOperationDate  Recency\n",
       "0      22899        2020-12-17       15\n",
       "1      27914        2020-07-21      164\n",
       "2      28753        2020-12-09       23\n",
       "3      38084        2020-12-05       27\n",
       "4      49793        2020-12-15       17"
      ]
     },
     "execution_count": 45,
     "metadata": {},
     "output_type": "execute_result"
    }
   ],
   "source": [
    "df_recency = df_merged.groupby(by='client_id', # grouping by client_id\n",
    "                        as_index=False)['Time'].max()  # take max date\n",
    "df_recency.columns = ['Client_id', 'LastOperationDate'] # columns of recency datafrance\n",
    "recent_date = df_recency['LastOperationDate'].max()  \n",
    "df_recency['Recency'] = df_recency['LastOperationDate'].apply(  # calculate recency\n",
    "    lambda x: (recent_date - x).days)\n",
    "df_recency.head()"
   ]
  },
  {
   "cell_type": "code",
   "execution_count": 46,
   "metadata": {
    "colab": {
     "base_uri": "https://localhost:8080/",
     "height": 206
    },
    "id": "W00pZUlVotpD",
    "outputId": "3b109bc6-d009-410c-948c-742ec57765e7"
   },
   "outputs": [
    {
     "data": {
      "text/html": [
       "<div>\n",
       "<style scoped>\n",
       "    .dataframe tbody tr th:only-of-type {\n",
       "        vertical-align: middle;\n",
       "    }\n",
       "\n",
       "    .dataframe tbody tr th {\n",
       "        vertical-align: top;\n",
       "    }\n",
       "\n",
       "    .dataframe thead th {\n",
       "        text-align: right;\n",
       "    }\n",
       "</style>\n",
       "<table border=\"1\" class=\"dataframe\">\n",
       "  <thead>\n",
       "    <tr style=\"text-align: right;\">\n",
       "      <th></th>\n",
       "      <th>Client_id</th>\n",
       "      <th>Frequency</th>\n",
       "    </tr>\n",
       "  </thead>\n",
       "  <tbody>\n",
       "    <tr>\n",
       "      <th>0</th>\n",
       "      <td>22899</td>\n",
       "      <td>9</td>\n",
       "    </tr>\n",
       "    <tr>\n",
       "      <th>1</th>\n",
       "      <td>27914</td>\n",
       "      <td>4</td>\n",
       "    </tr>\n",
       "    <tr>\n",
       "      <th>2</th>\n",
       "      <td>28753</td>\n",
       "      <td>13</td>\n",
       "    </tr>\n",
       "    <tr>\n",
       "      <th>3</th>\n",
       "      <td>38084</td>\n",
       "      <td>26</td>\n",
       "    </tr>\n",
       "    <tr>\n",
       "      <th>4</th>\n",
       "      <td>49793</td>\n",
       "      <td>21</td>\n",
       "    </tr>\n",
       "  </tbody>\n",
       "</table>\n",
       "</div>"
      ],
      "text/plain": [
       "   Client_id  Frequency\n",
       "0      22899          9\n",
       "1      27914          4\n",
       "2      28753         13\n",
       "3      38084         26\n",
       "4      49793         21"
      ]
     },
     "execution_count": 46,
     "metadata": {},
     "output_type": "execute_result"
    }
   ],
   "source": [
    "frequency_df = df_merged.drop_duplicates().groupby( # new frequency dataframe that grouped by client_id \n",
    "    by=['client_id'], as_index=False)['Time'].count() # and count of days that client made operations\n",
    "frequency_df.columns = ['Client_id', 'Frequency'] # columns of frequency dataframe\n",
    "frequency_df.head()"
   ]
  },
  {
   "cell_type": "code",
   "execution_count": 47,
   "metadata": {
    "colab": {
     "base_uri": "https://localhost:8080/",
     "height": 206
    },
    "id": "H3-uqqPPotpE",
    "outputId": "97ab18ec-426b-4d3d-f879-71a7cdd0f1ce"
   },
   "outputs": [
    {
     "data": {
      "text/html": [
       "<div>\n",
       "<style scoped>\n",
       "    .dataframe tbody tr th:only-of-type {\n",
       "        vertical-align: middle;\n",
       "    }\n",
       "\n",
       "    .dataframe tbody tr th {\n",
       "        vertical-align: top;\n",
       "    }\n",
       "\n",
       "    .dataframe thead th {\n",
       "        text-align: right;\n",
       "    }\n",
       "</style>\n",
       "<table border=\"1\" class=\"dataframe\">\n",
       "  <thead>\n",
       "    <tr style=\"text-align: right;\">\n",
       "      <th></th>\n",
       "      <th>Client_id</th>\n",
       "      <th>Monetary</th>\n",
       "    </tr>\n",
       "  </thead>\n",
       "  <tbody>\n",
       "    <tr>\n",
       "      <th>0</th>\n",
       "      <td>22899</td>\n",
       "      <td>50847.54</td>\n",
       "    </tr>\n",
       "    <tr>\n",
       "      <th>1</th>\n",
       "      <td>27914</td>\n",
       "      <td>74115.21</td>\n",
       "    </tr>\n",
       "    <tr>\n",
       "      <th>2</th>\n",
       "      <td>28753</td>\n",
       "      <td>-2589800.29</td>\n",
       "    </tr>\n",
       "    <tr>\n",
       "      <th>3</th>\n",
       "      <td>38084</td>\n",
       "      <td>693495.66</td>\n",
       "    </tr>\n",
       "    <tr>\n",
       "      <th>4</th>\n",
       "      <td>49793</td>\n",
       "      <td>-1382413.97</td>\n",
       "    </tr>\n",
       "  </tbody>\n",
       "</table>\n",
       "</div>"
      ],
      "text/plain": [
       "   Client_id    Monetary\n",
       "0      22899    50847.54\n",
       "1      27914    74115.21\n",
       "2      28753 -2589800.29\n",
       "3      38084   693495.66\n",
       "4      49793 -1382413.97"
      ]
     },
     "execution_count": 47,
     "metadata": {},
     "output_type": "execute_result"
    }
   ],
   "source": [
    "# Here we are calculating the monetary value of customer spend on using bank operations.\n",
    "monetary_df = df_merged.groupby(by='client_id', as_index=False)['sum'].sum()\n",
    "monetary_df.columns = ['Client_id', 'Monetary']\n",
    "monetary_df.head()"
   ]
  },
  {
   "cell_type": "code",
   "execution_count": 48,
   "metadata": {
    "colab": {
     "base_uri": "https://localhost:8080/",
     "height": 206
    },
    "id": "0OIxb36lotpE",
    "outputId": "1375ff9a-6f27-46c7-d8cd-b95d70a08ba2"
   },
   "outputs": [
    {
     "data": {
      "text/html": [
       "<div>\n",
       "<style scoped>\n",
       "    .dataframe tbody tr th:only-of-type {\n",
       "        vertical-align: middle;\n",
       "    }\n",
       "\n",
       "    .dataframe tbody tr th {\n",
       "        vertical-align: top;\n",
       "    }\n",
       "\n",
       "    .dataframe thead th {\n",
       "        text-align: right;\n",
       "    }\n",
       "</style>\n",
       "<table border=\"1\" class=\"dataframe\">\n",
       "  <thead>\n",
       "    <tr style=\"text-align: right;\">\n",
       "      <th></th>\n",
       "      <th>Client_id</th>\n",
       "      <th>Recency</th>\n",
       "      <th>Frequency</th>\n",
       "      <th>Monetary</th>\n",
       "    </tr>\n",
       "  </thead>\n",
       "  <tbody>\n",
       "    <tr>\n",
       "      <th>0</th>\n",
       "      <td>22899</td>\n",
       "      <td>15</td>\n",
       "      <td>9</td>\n",
       "      <td>50847.54</td>\n",
       "    </tr>\n",
       "    <tr>\n",
       "      <th>1</th>\n",
       "      <td>27914</td>\n",
       "      <td>164</td>\n",
       "      <td>4</td>\n",
       "      <td>74115.21</td>\n",
       "    </tr>\n",
       "    <tr>\n",
       "      <th>2</th>\n",
       "      <td>28753</td>\n",
       "      <td>23</td>\n",
       "      <td>13</td>\n",
       "      <td>-2589800.29</td>\n",
       "    </tr>\n",
       "    <tr>\n",
       "      <th>3</th>\n",
       "      <td>38084</td>\n",
       "      <td>27</td>\n",
       "      <td>26</td>\n",
       "      <td>693495.66</td>\n",
       "    </tr>\n",
       "    <tr>\n",
       "      <th>4</th>\n",
       "      <td>49793</td>\n",
       "      <td>17</td>\n",
       "      <td>21</td>\n",
       "      <td>-1382413.97</td>\n",
       "    </tr>\n",
       "  </tbody>\n",
       "</table>\n",
       "</div>"
      ],
      "text/plain": [
       "   Client_id  Recency  Frequency    Monetary\n",
       "0      22899       15          9    50847.54\n",
       "1      27914      164          4    74115.21\n",
       "2      28753       23         13 -2589800.29\n",
       "3      38084       27         26   693495.66\n",
       "4      49793       17         21 -1382413.97"
      ]
     },
     "execution_count": 48,
     "metadata": {},
     "output_type": "execute_result"
    }
   ],
   "source": [
    "rf_df = df_recency.merge(frequency_df, on='Client_id')  # merge recency, frequency and monetary datasets into one\n",
    "rfm_df = rf_df.merge(monetary_df, on='Client_id').drop(columns='LastOperationDate') # drop LastOperationDate column\n",
    "rfm_df.head()"
   ]
  },
  {
   "cell_type": "code",
   "execution_count": 49,
   "metadata": {
    "colab": {
     "base_uri": "https://localhost:8080/",
     "height": 206
    },
    "id": "er_LjcwpotpE",
    "outputId": "79a96188-2052-4188-e70f-7a1ad5207cf9"
   },
   "outputs": [
    {
     "data": {
      "text/html": [
       "<div>\n",
       "<style scoped>\n",
       "    .dataframe tbody tr th:only-of-type {\n",
       "        vertical-align: middle;\n",
       "    }\n",
       "\n",
       "    .dataframe tbody tr th {\n",
       "        vertical-align: top;\n",
       "    }\n",
       "\n",
       "    .dataframe thead th {\n",
       "        text-align: right;\n",
       "    }\n",
       "</style>\n",
       "<table border=\"1\" class=\"dataframe\">\n",
       "  <thead>\n",
       "    <tr style=\"text-align: right;\">\n",
       "      <th></th>\n",
       "      <th>Client_id</th>\n",
       "      <th>Recency</th>\n",
       "      <th>Frequency</th>\n",
       "      <th>Monetary</th>\n",
       "      <th>R_rank_norm</th>\n",
       "      <th>F_rank_norm</th>\n",
       "      <th>M_rank_norm</th>\n",
       "    </tr>\n",
       "  </thead>\n",
       "  <tbody>\n",
       "    <tr>\n",
       "      <th>0</th>\n",
       "      <td>22899</td>\n",
       "      <td>15</td>\n",
       "      <td>9</td>\n",
       "      <td>50847.54</td>\n",
       "      <td>64.814030</td>\n",
       "      <td>42.991667</td>\n",
       "      <td>42.991667</td>\n",
       "    </tr>\n",
       "    <tr>\n",
       "      <th>1</th>\n",
       "      <td>27914</td>\n",
       "      <td>164</td>\n",
       "      <td>4</td>\n",
       "      <td>74115.21</td>\n",
       "      <td>8.480895</td>\n",
       "      <td>18.625000</td>\n",
       "      <td>18.625000</td>\n",
       "    </tr>\n",
       "    <tr>\n",
       "      <th>2</th>\n",
       "      <td>28753</td>\n",
       "      <td>23</td>\n",
       "      <td>13</td>\n",
       "      <td>-2589800.29</td>\n",
       "      <td>53.494874</td>\n",
       "      <td>58.675000</td>\n",
       "      <td>58.675000</td>\n",
       "    </tr>\n",
       "    <tr>\n",
       "      <th>3</th>\n",
       "      <td>38084</td>\n",
       "      <td>27</td>\n",
       "      <td>26</td>\n",
       "      <td>693495.66</td>\n",
       "      <td>49.072270</td>\n",
       "      <td>86.850000</td>\n",
       "      <td>86.850000</td>\n",
       "    </tr>\n",
       "    <tr>\n",
       "      <th>4</th>\n",
       "      <td>49793</td>\n",
       "      <td>17</td>\n",
       "      <td>21</td>\n",
       "      <td>-1382413.97</td>\n",
       "      <td>61.526730</td>\n",
       "      <td>79.450000</td>\n",
       "      <td>79.450000</td>\n",
       "    </tr>\n",
       "  </tbody>\n",
       "</table>\n",
       "</div>"
      ],
      "text/plain": [
       "   Client_id  Recency  Frequency    Monetary  R_rank_norm  F_rank_norm  \\\n",
       "0      22899       15          9    50847.54    64.814030    42.991667   \n",
       "1      27914      164          4    74115.21     8.480895    18.625000   \n",
       "2      28753       23         13 -2589800.29    53.494874    58.675000   \n",
       "3      38084       27         26   693495.66    49.072270    86.850000   \n",
       "4      49793       17         21 -1382413.97    61.526730    79.450000   \n",
       "\n",
       "   M_rank_norm  \n",
       "0    42.991667  \n",
       "1    18.625000  \n",
       "2    58.675000  \n",
       "3    86.850000  \n",
       "4    79.450000  "
      ]
     },
     "execution_count": 49,
     "metadata": {},
     "output_type": "execute_result"
    }
   ],
   "source": [
    "rfm_df['R_rank'] = rfm_df['Recency'].rank(ascending=False)  # give rank to every column\n",
    "rfm_df['F_rank'] = rfm_df['Frequency'].rank(ascending=True)\n",
    "rfm_df['M_rank'] = rfm_df['Monetary'].rank(ascending=True)\n",
    " \n",
    "# normalizing the rank of the customers\n",
    "rfm_df['R_rank_norm'] = (rfm_df['R_rank']/rfm_df['R_rank'].max())*100  # normalizing and adding a columns\n",
    "rfm_df['F_rank_norm'] = (rfm_df['F_rank']/rfm_df['F_rank'].max())*100\n",
    "rfm_df['M_rank_norm'] = (rfm_df['F_rank']/rfm_df['M_rank'].max())*100\n",
    " \n",
    "rfm_df.drop(columns=['R_rank', 'F_rank', 'M_rank'], inplace=True) # drop unnecessary columns\n",
    " \n",
    "rfm_df.head()"
   ]
  },
  {
   "cell_type": "code",
   "execution_count": 50,
   "metadata": {
    "colab": {
     "base_uri": "https://localhost:8080/",
     "height": 269
    },
    "id": "TJGOmcGHotpE",
    "outputId": "bbf8ea16-d602-4840-cbc7-f1dc6315542c"
   },
   "outputs": [
    {
     "data": {
      "text/html": [
       "<div>\n",
       "<style scoped>\n",
       "    .dataframe tbody tr th:only-of-type {\n",
       "        vertical-align: middle;\n",
       "    }\n",
       "\n",
       "    .dataframe tbody tr th {\n",
       "        vertical-align: top;\n",
       "    }\n",
       "\n",
       "    .dataframe thead th {\n",
       "        text-align: right;\n",
       "    }\n",
       "</style>\n",
       "<table border=\"1\" class=\"dataframe\">\n",
       "  <thead>\n",
       "    <tr style=\"text-align: right;\">\n",
       "      <th></th>\n",
       "      <th>Client_id</th>\n",
       "      <th>RFM_Score</th>\n",
       "    </tr>\n",
       "  </thead>\n",
       "  <tbody>\n",
       "    <tr>\n",
       "      <th>0</th>\n",
       "      <td>22899</td>\n",
       "      <td>2.31</td>\n",
       "    </tr>\n",
       "    <tr>\n",
       "      <th>1</th>\n",
       "      <td>27914</td>\n",
       "      <td>0.86</td>\n",
       "    </tr>\n",
       "    <tr>\n",
       "      <th>2</th>\n",
       "      <td>28753</td>\n",
       "      <td>2.89</td>\n",
       "    </tr>\n",
       "    <tr>\n",
       "      <th>3</th>\n",
       "      <td>38084</td>\n",
       "      <td>4.06</td>\n",
       "    </tr>\n",
       "    <tr>\n",
       "      <th>4</th>\n",
       "      <td>49793</td>\n",
       "      <td>3.84</td>\n",
       "    </tr>\n",
       "    <tr>\n",
       "      <th>5</th>\n",
       "      <td>50940</td>\n",
       "      <td>1.02</td>\n",
       "    </tr>\n",
       "    <tr>\n",
       "      <th>6</th>\n",
       "      <td>52926</td>\n",
       "      <td>3.40</td>\n",
       "    </tr>\n",
       "  </tbody>\n",
       "</table>\n",
       "</div>"
      ],
      "text/plain": [
       "   Client_id  RFM_Score\n",
       "0      22899       2.31\n",
       "1      27914       0.86\n",
       "2      28753       2.89\n",
       "3      38084       4.06\n",
       "4      49793       3.84\n",
       "5      50940       1.02\n",
       "6      52926       3.40"
      ]
     },
     "execution_count": 50,
     "metadata": {},
     "output_type": "execute_result"
    }
   ],
   "source": [
    "rfm_df['RFM_Score'] = 0.15*rfm_df['R_rank_norm']+0.28 *rfm_df['F_rank_norm']+0.57*rfm_df['M_rank_norm']\n",
    "rfm_df['RFM_Score'] *= 0.05\n",
    "rfm_df = rfm_df.round(2)\n",
    "rfm_df[['Client_id', 'RFM_Score']].head(7)"
   ]
  },
  {
   "cell_type": "code",
   "execution_count": 51,
   "metadata": {
    "colab": {
     "base_uri": "https://localhost:8080/",
     "height": 676
    },
    "id": "jw6fEAd2otpE",
    "outputId": "a91c2e10-c7fd-4b97-b6bd-b77d48e8e0ff"
   },
   "outputs": [
    {
     "data": {
      "text/html": [
       "<div>\n",
       "<style scoped>\n",
       "    .dataframe tbody tr th:only-of-type {\n",
       "        vertical-align: middle;\n",
       "    }\n",
       "\n",
       "    .dataframe tbody tr th {\n",
       "        vertical-align: top;\n",
       "    }\n",
       "\n",
       "    .dataframe thead th {\n",
       "        text-align: right;\n",
       "    }\n",
       "</style>\n",
       "<table border=\"1\" class=\"dataframe\">\n",
       "  <thead>\n",
       "    <tr style=\"text-align: right;\">\n",
       "      <th></th>\n",
       "      <th>Client_id</th>\n",
       "      <th>RFM_Score</th>\n",
       "      <th>Customer_segment</th>\n",
       "    </tr>\n",
       "  </thead>\n",
       "  <tbody>\n",
       "    <tr>\n",
       "      <th>0</th>\n",
       "      <td>22899</td>\n",
       "      <td>2.31</td>\n",
       "      <td>High value Customer</td>\n",
       "    </tr>\n",
       "    <tr>\n",
       "      <th>1</th>\n",
       "      <td>27914</td>\n",
       "      <td>0.86</td>\n",
       "      <td>Low Value Customers</td>\n",
       "    </tr>\n",
       "    <tr>\n",
       "      <th>2</th>\n",
       "      <td>28753</td>\n",
       "      <td>2.89</td>\n",
       "      <td>High value Customer</td>\n",
       "    </tr>\n",
       "    <tr>\n",
       "      <th>3</th>\n",
       "      <td>38084</td>\n",
       "      <td>4.06</td>\n",
       "      <td>Top Customers</td>\n",
       "    </tr>\n",
       "    <tr>\n",
       "      <th>4</th>\n",
       "      <td>49793</td>\n",
       "      <td>3.84</td>\n",
       "      <td>Top Customers</td>\n",
       "    </tr>\n",
       "    <tr>\n",
       "      <th>5</th>\n",
       "      <td>50940</td>\n",
       "      <td>1.02</td>\n",
       "      <td>Medium Value Customer</td>\n",
       "    </tr>\n",
       "    <tr>\n",
       "      <th>6</th>\n",
       "      <td>52926</td>\n",
       "      <td>3.40</td>\n",
       "      <td>Top Customers</td>\n",
       "    </tr>\n",
       "    <tr>\n",
       "      <th>7</th>\n",
       "      <td>53395</td>\n",
       "      <td>0.68</td>\n",
       "      <td>Low Value Customers</td>\n",
       "    </tr>\n",
       "    <tr>\n",
       "      <th>8</th>\n",
       "      <td>70680</td>\n",
       "      <td>2.40</td>\n",
       "      <td>High value Customer</td>\n",
       "    </tr>\n",
       "    <tr>\n",
       "      <th>9</th>\n",
       "      <td>81626</td>\n",
       "      <td>1.34</td>\n",
       "      <td>Medium Value Customer</td>\n",
       "    </tr>\n",
       "    <tr>\n",
       "      <th>10</th>\n",
       "      <td>85327</td>\n",
       "      <td>0.20</td>\n",
       "      <td>Lost Customers</td>\n",
       "    </tr>\n",
       "    <tr>\n",
       "      <th>11</th>\n",
       "      <td>104032</td>\n",
       "      <td>0.34</td>\n",
       "      <td>Lost Customers</td>\n",
       "    </tr>\n",
       "    <tr>\n",
       "      <th>12</th>\n",
       "      <td>117556</td>\n",
       "      <td>4.15</td>\n",
       "      <td>Top Customers</td>\n",
       "    </tr>\n",
       "    <tr>\n",
       "      <th>13</th>\n",
       "      <td>126081</td>\n",
       "      <td>4.09</td>\n",
       "      <td>Top Customers</td>\n",
       "    </tr>\n",
       "    <tr>\n",
       "      <th>14</th>\n",
       "      <td>126935</td>\n",
       "      <td>4.11</td>\n",
       "      <td>Top Customers</td>\n",
       "    </tr>\n",
       "    <tr>\n",
       "      <th>15</th>\n",
       "      <td>168767</td>\n",
       "      <td>3.62</td>\n",
       "      <td>Top Customers</td>\n",
       "    </tr>\n",
       "    <tr>\n",
       "      <th>16</th>\n",
       "      <td>172390</td>\n",
       "      <td>2.66</td>\n",
       "      <td>High value Customer</td>\n",
       "    </tr>\n",
       "    <tr>\n",
       "      <th>17</th>\n",
       "      <td>186730</td>\n",
       "      <td>2.13</td>\n",
       "      <td>High value Customer</td>\n",
       "    </tr>\n",
       "    <tr>\n",
       "      <th>18</th>\n",
       "      <td>199565</td>\n",
       "      <td>0.94</td>\n",
       "      <td>Low Value Customers</td>\n",
       "    </tr>\n",
       "    <tr>\n",
       "      <th>19</th>\n",
       "      <td>218079</td>\n",
       "      <td>3.29</td>\n",
       "      <td>Top Customers</td>\n",
       "    </tr>\n",
       "  </tbody>\n",
       "</table>\n",
       "</div>"
      ],
      "text/plain": [
       "    Client_id  RFM_Score       Customer_segment\n",
       "0       22899       2.31    High value Customer\n",
       "1       27914       0.86    Low Value Customers\n",
       "2       28753       2.89    High value Customer\n",
       "3       38084       4.06          Top Customers\n",
       "4       49793       3.84          Top Customers\n",
       "5       50940       1.02  Medium Value Customer\n",
       "6       52926       3.40          Top Customers\n",
       "7       53395       0.68    Low Value Customers\n",
       "8       70680       2.40    High value Customer\n",
       "9       81626       1.34  Medium Value Customer\n",
       "10      85327       0.20         Lost Customers\n",
       "11     104032       0.34         Lost Customers\n",
       "12     117556       4.15          Top Customers\n",
       "13     126081       4.09          Top Customers\n",
       "14     126935       4.11          Top Customers\n",
       "15     168767       3.62          Top Customers\n",
       "16     172390       2.66    High value Customer\n",
       "17     186730       2.13    High value Customer\n",
       "18     199565       0.94    Low Value Customers\n",
       "19     218079       3.29          Top Customers"
      ]
     },
     "execution_count": 51,
     "metadata": {},
     "output_type": "execute_result"
    }
   ],
   "source": [
    "rfm_df[\"Customer_segment\"] = np.where(rfm_df['RFM_Score'] >  # giving a status for every client\n",
    "                                      3, \"Top Customers\",\n",
    "                                      (np.where(\n",
    "                                        rfm_df['RFM_Score'] > 2,\n",
    "                                        \"High value Customer\",\n",
    "                                        (np.where(\n",
    "    rfm_df['RFM_Score'] > 1,\n",
    "                             \"Medium Value Customer\",\n",
    "                             np.where(rfm_df['RFM_Score'] > 0.5,\n",
    "                            'Low Value Customers', 'Lost Customers'))))))\n",
    "rfm_df[['Client_id', 'RFM_Score', 'Customer_segment']].head(20)"
   ]
  },
  {
   "cell_type": "code",
   "execution_count": 52,
   "metadata": {
    "colab": {
     "base_uri": "https://localhost:8080/",
     "height": 522
    },
    "id": "cjRtGml2otpE",
    "outputId": "eb401757-c0b0-44ed-a0e6-7aab8bdc96e6"
   },
   "outputs": [
    {
     "data": {
      "image/png": "[encoded data removed]",
      "text/plain": [
       "<Figure size 720x576 with 1 Axes>"
      ]
     },
     "metadata": {
      "needs_background": "light"
     },
     "output_type": "display_data"
    }
   ],
   "source": [
    "import seaborn as sns\n",
    "df2 = rfm_df.groupby('Customer_segment').Monetary.count().sort_values(ascending = False).reset_index().head(10)\n",
    "#Visualisation with horizontal bar plot using seaborn\n",
    "fig, ax = plt.subplots(figsize = (10, 8))\n",
    "sns.barplot(x = \"Monetary\", y = \"Customer_segment\", linewidth=1, data=df2)\n",
    "plt.xlabel('Amount of monetary', size = 15)\n",
    "plt.ylabel('Customer Segment', size = 15)\n",
    "plt.title('Customers spending',  size = 18)\n",
    "plt.show()"
   ]
  },
  {
   "cell_type": "code",
   "execution_count": 53,
   "metadata": {
    "colab": {
     "base_uri": "https://localhost:8080/",
     "height": 526
    },
    "id": "6FgRu8DHtczH",
    "outputId": "fc8adf42-8374-4b99-d726-d9d8f971b25e"
   },
   "outputs": [
    {
     "data": {
      "image/png": "[encoded data removed]",
      "text/plain": [
       "<Figure size 720x576 with 1 Axes>"
      ]
     },
     "metadata": {
      "needs_background": "light"
     },
     "output_type": "display_data"
    }
   ],
   "source": [
    "df3 = rfm_df.groupby('Customer_segment').Monetary.count().sort_values(ascending = False).reset_index().head(10)\n",
    "#Visualisation with horizontal bar plot using seaborn\n",
    "fig, ax = plt.subplots(figsize = (10, 8))\n",
    "sns.barplot(x = \"Monetary\", y = \"Customer_segment\", linewidth=1, data=df3)\n",
    "plt.xlabel('Total frequency', size = 20)\n",
    "plt.ylabel('Customer Segment', size = 20)\n",
    "plt.title('Frequency of maden transactions',  size = 18)\n",
    "plt.show()"
   ]
  },
  {
   "cell_type": "code",
   "execution_count": 54,
   "metadata": {
    "colab": {
     "base_uri": "https://localhost:8080/",
     "height": 630
    },
    "id": "ugg54xnCtfMH",
    "outputId": "c6cb94b7-0957-487d-d736-e14c2f564f20"
   },
   "outputs": [
    {
     "data": {
      "image/png": "[encoded data removed]",
      "text/plain": [
       "<Figure size 1080x720 with 1 Axes>"
      ]
     },
     "metadata": {
      "needs_background": "light"
     },
     "output_type": "display_data"
    }
   ],
   "source": [
    "df4 = rfm_df.groupby('Customer_segment').Recency.count().sort_values(ascending = False).reset_index()\n",
    "fig, ax = plt.subplots(figsize = (15, 10))\n",
    "sns.barplot(x = \"Customer_segment\", y = \"Recency\", linewidth=1, data=df4)\n",
    "plt.xlabel('Customer segment', size = 15)\n",
    "plt.ylabel('Total recency ', size = 15)\n",
    "plt.title('Total recency of each segment',  size = 18)\n",
    "plt.show()"
   ]
  },
  {
   "cell_type": "markdown",
   "metadata": {
    "id": "aoW7wciIQFc3"
   },
   "source": [
    "# Part 4. Supervised learning. Build model for prediction the gender of the clients.Decision Trees, KNN, Random Forest. Tune the hyper parameters, grid search, cross validation etc. Visualization of the models etc\n"
   ]
  },
  {
   "cell_type": "markdown",
   "metadata": {
    "id": "fDJ2lBIibRqI"
   },
   "source": [
    "### Preparing datasets"
   ]
  },
  {
   "cell_type": "code",
   "execution_count": 55,
   "metadata": {
    "colab": {
     "base_uri": "https://localhost:8080/",
     "height": 780
    },
    "id": "wad15ouEQg8v",
    "outputId": "b7812acd-7307-4355-daf3-7b25f811cdda"
   },
   "outputs": [
    {
     "data": {
      "text/html": [
       "<div>\n",
       "<style scoped>\n",
       "    .dataframe tbody tr th:only-of-type {\n",
       "        vertical-align: middle;\n",
       "    }\n",
       "\n",
       "    .dataframe tbody tr th {\n",
       "        vertical-align: top;\n",
       "    }\n",
       "\n",
       "    .dataframe thead th {\n",
       "        text-align: right;\n",
       "    }\n",
       "</style>\n",
       "<table border=\"1\" class=\"dataframe\">\n",
       "  <thead>\n",
       "    <tr style=\"text-align: right;\">\n",
       "      <th></th>\n",
       "      <th>client_id</th>\n",
       "      <th>target</th>\n",
       "      <th>datetime</th>\n",
       "      <th>code</th>\n",
       "      <th>type</th>\n",
       "      <th>sum</th>\n",
       "      <th>type_description</th>\n",
       "      <th>code_description</th>\n",
       "      <th>Time</th>\n",
       "      <th>income</th>\n",
       "      <th>spending</th>\n",
       "    </tr>\n",
       "  </thead>\n",
       "  <tbody>\n",
       "    <tr>\n",
       "      <th>0</th>\n",
       "      <td>75063019</td>\n",
       "      <td>0</td>\n",
       "      <td>397 20:05:07</td>\n",
       "      <td>4814</td>\n",
       "      <td>1030</td>\n",
       "      <td>-4491.83</td>\n",
       "      <td>Оплата услуги. Банкоматы</td>\n",
       "      <td>Звонки с использованием телефонов, считывающих...</td>\n",
       "      <td>2020-11-03</td>\n",
       "      <td>0.00</td>\n",
       "      <td>-4491.83</td>\n",
       "    </tr>\n",
       "    <tr>\n",
       "      <th>1</th>\n",
       "      <td>75063019</td>\n",
       "      <td>0</td>\n",
       "      <td>86 20:29:50</td>\n",
       "      <td>6010</td>\n",
       "      <td>7070</td>\n",
       "      <td>4491.83</td>\n",
       "      <td>Перевод на карту (с карты) через Мобильный бан...</td>\n",
       "      <td>Финансовые институты — снятие наличности вручную</td>\n",
       "      <td>2019-12-28</td>\n",
       "      <td>4491.83</td>\n",
       "      <td>0.00</td>\n",
       "    </tr>\n",
       "    <tr>\n",
       "      <th>2</th>\n",
       "      <td>75063019</td>\n",
       "      <td>0</td>\n",
       "      <td>375 16:00:33</td>\n",
       "      <td>4814</td>\n",
       "      <td>1030</td>\n",
       "      <td>-3144.28</td>\n",
       "      <td>Оплата услуги. Банкоматы</td>\n",
       "      <td>Звонки с использованием телефонов, считывающих...</td>\n",
       "      <td>2020-10-12</td>\n",
       "      <td>0.00</td>\n",
       "      <td>-3144.28</td>\n",
       "    </tr>\n",
       "    <tr>\n",
       "      <th>3</th>\n",
       "      <td>75063019</td>\n",
       "      <td>0</td>\n",
       "      <td>136 17:10:60</td>\n",
       "      <td>5411</td>\n",
       "      <td>1010</td>\n",
       "      <td>-3930.35</td>\n",
       "      <td>Покупка. POS</td>\n",
       "      <td>Бакалейные магазины, супермаркеты</td>\n",
       "      <td>2020-02-16</td>\n",
       "      <td>0.00</td>\n",
       "      <td>-3930.35</td>\n",
       "    </tr>\n",
       "    <tr>\n",
       "      <th>4</th>\n",
       "      <td>75063019</td>\n",
       "      <td>0</td>\n",
       "      <td>378 13:01:51</td>\n",
       "      <td>6011</td>\n",
       "      <td>2010</td>\n",
       "      <td>-4491.83</td>\n",
       "      <td>Выдача наличных в АТМ</td>\n",
       "      <td>Финансовые институты — снятие наличности автом...</td>\n",
       "      <td>2020-10-15</td>\n",
       "      <td>0.00</td>\n",
       "      <td>-4491.83</td>\n",
       "    </tr>\n",
       "    <tr>\n",
       "      <th>...</th>\n",
       "      <td>...</td>\n",
       "      <td>...</td>\n",
       "      <td>...</td>\n",
       "      <td>...</td>\n",
       "      <td>...</td>\n",
       "      <td>...</td>\n",
       "      <td>...</td>\n",
       "      <td>...</td>\n",
       "      <td>...</td>\n",
       "      <td>...</td>\n",
       "      <td>...</td>\n",
       "    </tr>\n",
       "    <tr>\n",
       "      <th>91802</th>\n",
       "      <td>1846496</td>\n",
       "      <td>0</td>\n",
       "      <td>452 00:00:00</td>\n",
       "      <td>5999</td>\n",
       "      <td>1100</td>\n",
       "      <td>-2243.45</td>\n",
       "      <td>Покупка.</td>\n",
       "      <td>Плавательные бассейны — распродажа</td>\n",
       "      <td>2020-12-28</td>\n",
       "      <td>0.00</td>\n",
       "      <td>-2243.45</td>\n",
       "    </tr>\n",
       "    <tr>\n",
       "      <th>91803</th>\n",
       "      <td>1846496</td>\n",
       "      <td>0</td>\n",
       "      <td>196 13:59:07</td>\n",
       "      <td>5411</td>\n",
       "      <td>1010</td>\n",
       "      <td>-4783.80</td>\n",
       "      <td>Покупка. POS</td>\n",
       "      <td>Бакалейные магазины, супермаркеты</td>\n",
       "      <td>2020-04-16</td>\n",
       "      <td>0.00</td>\n",
       "      <td>-4783.80</td>\n",
       "    </tr>\n",
       "    <tr>\n",
       "      <th>91804</th>\n",
       "      <td>1846496</td>\n",
       "      <td>0</td>\n",
       "      <td>186 13:38:15</td>\n",
       "      <td>5732</td>\n",
       "      <td>1010</td>\n",
       "      <td>-112273.33</td>\n",
       "      <td>Покупка. POS</td>\n",
       "      <td>Продажа электронного оборудования</td>\n",
       "      <td>2020-04-06</td>\n",
       "      <td>0.00</td>\n",
       "      <td>-112273.33</td>\n",
       "    </tr>\n",
       "    <tr>\n",
       "      <th>91805</th>\n",
       "      <td>1846496</td>\n",
       "      <td>0</td>\n",
       "      <td>440 16:02:57</td>\n",
       "      <td>6010</td>\n",
       "      <td>7030</td>\n",
       "      <td>168443.68</td>\n",
       "      <td>Перевод на карту (с карты) через АТМ (в предел...</td>\n",
       "      <td>Финансовые институты — снятие наличности вручную</td>\n",
       "      <td>2020-12-16</td>\n",
       "      <td>168443.68</td>\n",
       "      <td>0.00</td>\n",
       "    </tr>\n",
       "    <tr>\n",
       "      <th>91806</th>\n",
       "      <td>1846496</td>\n",
       "      <td>0</td>\n",
       "      <td>148 15:56:18</td>\n",
       "      <td>5411</td>\n",
       "      <td>1010</td>\n",
       "      <td>-23634.89</td>\n",
       "      <td>Покупка. POS</td>\n",
       "      <td>Бакалейные магазины, супермаркеты</td>\n",
       "      <td>2020-02-28</td>\n",
       "      <td>0.00</td>\n",
       "      <td>-23634.89</td>\n",
       "    </tr>\n",
       "  </tbody>\n",
       "</table>\n",
       "<p>91732 rows × 11 columns</p>\n",
       "</div>"
      ],
      "text/plain": [
       "       client_id  target      datetime  code  type        sum  \\\n",
       "0       75063019       0  397 20:05:07  4814  1030   -4491.83   \n",
       "1       75063019       0   86 20:29:50  6010  7070    4491.83   \n",
       "2       75063019       0  375 16:00:33  4814  1030   -3144.28   \n",
       "3       75063019       0  136 17:10:60  5411  1010   -3930.35   \n",
       "4       75063019       0  378 13:01:51  6011  2010   -4491.83   \n",
       "...          ...     ...           ...   ...   ...        ...   \n",
       "91802    1846496       0  452 00:00:00  5999  1100   -2243.45   \n",
       "91803    1846496       0  196 13:59:07  5411  1010   -4783.80   \n",
       "91804    1846496       0  186 13:38:15  5732  1010 -112273.33   \n",
       "91805    1846496       0  440 16:02:57  6010  7030  168443.68   \n",
       "91806    1846496       0  148 15:56:18  5411  1010  -23634.89   \n",
       "\n",
       "                                        type_description  \\\n",
       "0                               Оплата услуги. Банкоматы   \n",
       "1      Перевод на карту (с карты) через Мобильный бан...   \n",
       "2                               Оплата услуги. Банкоматы   \n",
       "3                                          Покупка. POS    \n",
       "4                                  Выдача наличных в АТМ   \n",
       "...                                                  ...   \n",
       "91802                                           Покупка.   \n",
       "91803                                      Покупка. POS    \n",
       "91804                                      Покупка. POS    \n",
       "91805  Перевод на карту (с карты) через АТМ (в предел...   \n",
       "91806                                      Покупка. POS    \n",
       "\n",
       "                                        code_description       Time  \\\n",
       "0      Звонки с использованием телефонов, считывающих... 2020-11-03   \n",
       "1       Финансовые институты — снятие наличности вручную 2019-12-28   \n",
       "2      Звонки с использованием телефонов, считывающих... 2020-10-12   \n",
       "3                      Бакалейные магазины, супермаркеты 2020-02-16   \n",
       "4      Финансовые институты — снятие наличности автом... 2020-10-15   \n",
       "...                                                  ...        ...   \n",
       "91802                 Плавательные бассейны — распродажа 2020-12-28   \n",
       "91803                  Бакалейные магазины, супермаркеты 2020-04-16   \n",
       "91804                  Продажа электронного оборудования 2020-04-06   \n",
       "91805   Финансовые институты — снятие наличности вручную 2020-12-16   \n",
       "91806                  Бакалейные магазины, супермаркеты 2020-02-28   \n",
       "\n",
       "          income   spending  \n",
       "0           0.00   -4491.83  \n",
       "1        4491.83       0.00  \n",
       "2           0.00   -3144.28  \n",
       "3           0.00   -3930.35  \n",
       "4           0.00   -4491.83  \n",
       "...          ...        ...  \n",
       "91802       0.00   -2243.45  \n",
       "91803       0.00   -4783.80  \n",
       "91804       0.00 -112273.33  \n",
       "91805  168443.68       0.00  \n",
       "91806       0.00  -23634.89  \n",
       "\n",
       "[91732 rows x 11 columns]"
      ]
     },
     "execution_count": 55,
     "metadata": {},
     "output_type": "execute_result"
    }
   ],
   "source": [
    "df_merged"
   ]
  },
  {
   "cell_type": "code",
   "execution_count": 56,
   "metadata": {
    "colab": {
     "base_uri": "https://localhost:8080/",
     "height": 423
    },
    "id": "4ECuNgzpUo5t",
    "outputId": "eb56380d-39a0-4782-e021-36fe927a8e8a",
    "scrolled": true
   },
   "outputs": [
    {
     "data": {
      "text/html": [
       "<div>\n",
       "<style scoped>\n",
       "    .dataframe tbody tr th:only-of-type {\n",
       "        vertical-align: middle;\n",
       "    }\n",
       "\n",
       "    .dataframe tbody tr th {\n",
       "        vertical-align: top;\n",
       "    }\n",
       "\n",
       "    .dataframe thead th {\n",
       "        text-align: right;\n",
       "    }\n",
       "</style>\n",
       "<table border=\"1\" class=\"dataframe\">\n",
       "  <thead>\n",
       "    <tr style=\"text-align: right;\">\n",
       "      <th></th>\n",
       "      <th>client_id</th>\n",
       "      <th>gender</th>\n",
       "      <th>code</th>\n",
       "      <th>type</th>\n",
       "      <th>sum</th>\n",
       "      <th>income</th>\n",
       "      <th>spending</th>\n",
       "    </tr>\n",
       "  </thead>\n",
       "  <tbody>\n",
       "    <tr>\n",
       "      <th>0</th>\n",
       "      <td>75063019</td>\n",
       "      <td>0</td>\n",
       "      <td>4814</td>\n",
       "      <td>1030</td>\n",
       "      <td>-4491.83</td>\n",
       "      <td>0.00</td>\n",
       "      <td>-4491.83</td>\n",
       "    </tr>\n",
       "    <tr>\n",
       "      <th>1</th>\n",
       "      <td>75063019</td>\n",
       "      <td>0</td>\n",
       "      <td>6010</td>\n",
       "      <td>7070</td>\n",
       "      <td>4491.83</td>\n",
       "      <td>4491.83</td>\n",
       "      <td>0.00</td>\n",
       "    </tr>\n",
       "    <tr>\n",
       "      <th>2</th>\n",
       "      <td>75063019</td>\n",
       "      <td>0</td>\n",
       "      <td>4814</td>\n",
       "      <td>1030</td>\n",
       "      <td>-3144.28</td>\n",
       "      <td>0.00</td>\n",
       "      <td>-3144.28</td>\n",
       "    </tr>\n",
       "    <tr>\n",
       "      <th>3</th>\n",
       "      <td>75063019</td>\n",
       "      <td>0</td>\n",
       "      <td>5411</td>\n",
       "      <td>1010</td>\n",
       "      <td>-3930.35</td>\n",
       "      <td>0.00</td>\n",
       "      <td>-3930.35</td>\n",
       "    </tr>\n",
       "    <tr>\n",
       "      <th>4</th>\n",
       "      <td>75063019</td>\n",
       "      <td>0</td>\n",
       "      <td>6011</td>\n",
       "      <td>2010</td>\n",
       "      <td>-4491.83</td>\n",
       "      <td>0.00</td>\n",
       "      <td>-4491.83</td>\n",
       "    </tr>\n",
       "    <tr>\n",
       "      <th>...</th>\n",
       "      <td>...</td>\n",
       "      <td>...</td>\n",
       "      <td>...</td>\n",
       "      <td>...</td>\n",
       "      <td>...</td>\n",
       "      <td>...</td>\n",
       "      <td>...</td>\n",
       "    </tr>\n",
       "    <tr>\n",
       "      <th>91802</th>\n",
       "      <td>1846496</td>\n",
       "      <td>0</td>\n",
       "      <td>5999</td>\n",
       "      <td>1100</td>\n",
       "      <td>-2243.45</td>\n",
       "      <td>0.00</td>\n",
       "      <td>-2243.45</td>\n",
       "    </tr>\n",
       "    <tr>\n",
       "      <th>91803</th>\n",
       "      <td>1846496</td>\n",
       "      <td>0</td>\n",
       "      <td>5411</td>\n",
       "      <td>1010</td>\n",
       "      <td>-4783.80</td>\n",
       "      <td>0.00</td>\n",
       "      <td>-4783.80</td>\n",
       "    </tr>\n",
       "    <tr>\n",
       "      <th>91804</th>\n",
       "      <td>1846496</td>\n",
       "      <td>0</td>\n",
       "      <td>5732</td>\n",
       "      <td>1010</td>\n",
       "      <td>-112273.33</td>\n",
       "      <td>0.00</td>\n",
       "      <td>-112273.33</td>\n",
       "    </tr>\n",
       "    <tr>\n",
       "      <th>91805</th>\n",
       "      <td>1846496</td>\n",
       "      <td>0</td>\n",
       "      <td>6010</td>\n",
       "      <td>7030</td>\n",
       "      <td>168443.68</td>\n",
       "      <td>168443.68</td>\n",
       "      <td>0.00</td>\n",
       "    </tr>\n",
       "    <tr>\n",
       "      <th>91806</th>\n",
       "      <td>1846496</td>\n",
       "      <td>0</td>\n",
       "      <td>5411</td>\n",
       "      <td>1010</td>\n",
       "      <td>-23634.89</td>\n",
       "      <td>0.00</td>\n",
       "      <td>-23634.89</td>\n",
       "    </tr>\n",
       "  </tbody>\n",
       "</table>\n",
       "<p>91732 rows × 7 columns</p>\n",
       "</div>"
      ],
      "text/plain": [
       "       client_id  gender  code  type        sum     income   spending\n",
       "0       75063019       0  4814  1030   -4491.83       0.00   -4491.83\n",
       "1       75063019       0  6010  7070    4491.83    4491.83       0.00\n",
       "2       75063019       0  4814  1030   -3144.28       0.00   -3144.28\n",
       "3       75063019       0  5411  1010   -3930.35       0.00   -3930.35\n",
       "4       75063019       0  6011  2010   -4491.83       0.00   -4491.83\n",
       "...          ...     ...   ...   ...        ...        ...        ...\n",
       "91802    1846496       0  5999  1100   -2243.45       0.00   -2243.45\n",
       "91803    1846496       0  5411  1010   -4783.80       0.00   -4783.80\n",
       "91804    1846496       0  5732  1010 -112273.33       0.00 -112273.33\n",
       "91805    1846496       0  6010  7030  168443.68  168443.68       0.00\n",
       "91806    1846496       0  5411  1010  -23634.89       0.00  -23634.89\n",
       "\n",
       "[91732 rows x 7 columns]"
      ]
     },
     "execution_count": 56,
     "metadata": {},
     "output_type": "execute_result"
    }
   ],
   "source": [
    "train_df  = df_merged.drop(['datetime', 'type_description', 'code_description', 'Time'], axis = 1)\n",
    "train_df = train_df.rename(columns={'target': 'gender'})\n",
    "train_df"
   ]
  },
  {
   "cell_type": "code",
   "execution_count": 57,
   "metadata": {
    "colab": {
     "base_uri": "https://localhost:8080/",
     "height": 423
    },
    "id": "mCUopu_GbRqJ",
    "outputId": "074be263-88ea-4468-a645-f327991193f0"
   },
   "outputs": [
    {
     "data": {
      "text/html": [
       "<div>\n",
       "<style scoped>\n",
       "    .dataframe tbody tr th:only-of-type {\n",
       "        vertical-align: middle;\n",
       "    }\n",
       "\n",
       "    .dataframe tbody tr th {\n",
       "        vertical-align: top;\n",
       "    }\n",
       "\n",
       "    .dataframe thead th {\n",
       "        text-align: right;\n",
       "    }\n",
       "</style>\n",
       "<table border=\"1\" class=\"dataframe\">\n",
       "  <thead>\n",
       "    <tr style=\"text-align: right;\">\n",
       "      <th></th>\n",
       "      <th>client_id</th>\n",
       "      <th>code</th>\n",
       "      <th>type</th>\n",
       "      <th>sum</th>\n",
       "      <th>income</th>\n",
       "      <th>spending</th>\n",
       "    </tr>\n",
       "  </thead>\n",
       "  <tbody>\n",
       "    <tr>\n",
       "      <th>0</th>\n",
       "      <td>75063019</td>\n",
       "      <td>4814</td>\n",
       "      <td>1030</td>\n",
       "      <td>-4491.83</td>\n",
       "      <td>0.00</td>\n",
       "      <td>-4491.83</td>\n",
       "    </tr>\n",
       "    <tr>\n",
       "      <th>1</th>\n",
       "      <td>75063019</td>\n",
       "      <td>6010</td>\n",
       "      <td>7070</td>\n",
       "      <td>4491.83</td>\n",
       "      <td>4491.83</td>\n",
       "      <td>0.00</td>\n",
       "    </tr>\n",
       "    <tr>\n",
       "      <th>2</th>\n",
       "      <td>75063019</td>\n",
       "      <td>4814</td>\n",
       "      <td>1030</td>\n",
       "      <td>-3144.28</td>\n",
       "      <td>0.00</td>\n",
       "      <td>-3144.28</td>\n",
       "    </tr>\n",
       "    <tr>\n",
       "      <th>3</th>\n",
       "      <td>75063019</td>\n",
       "      <td>5411</td>\n",
       "      <td>1010</td>\n",
       "      <td>-3930.35</td>\n",
       "      <td>0.00</td>\n",
       "      <td>-3930.35</td>\n",
       "    </tr>\n",
       "    <tr>\n",
       "      <th>4</th>\n",
       "      <td>75063019</td>\n",
       "      <td>6011</td>\n",
       "      <td>2010</td>\n",
       "      <td>-4491.83</td>\n",
       "      <td>0.00</td>\n",
       "      <td>-4491.83</td>\n",
       "    </tr>\n",
       "    <tr>\n",
       "      <th>...</th>\n",
       "      <td>...</td>\n",
       "      <td>...</td>\n",
       "      <td>...</td>\n",
       "      <td>...</td>\n",
       "      <td>...</td>\n",
       "      <td>...</td>\n",
       "    </tr>\n",
       "    <tr>\n",
       "      <th>91802</th>\n",
       "      <td>1846496</td>\n",
       "      <td>5999</td>\n",
       "      <td>1100</td>\n",
       "      <td>-2243.45</td>\n",
       "      <td>0.00</td>\n",
       "      <td>-2243.45</td>\n",
       "    </tr>\n",
       "    <tr>\n",
       "      <th>91803</th>\n",
       "      <td>1846496</td>\n",
       "      <td>5411</td>\n",
       "      <td>1010</td>\n",
       "      <td>-4783.80</td>\n",
       "      <td>0.00</td>\n",
       "      <td>-4783.80</td>\n",
       "    </tr>\n",
       "    <tr>\n",
       "      <th>91804</th>\n",
       "      <td>1846496</td>\n",
       "      <td>5732</td>\n",
       "      <td>1010</td>\n",
       "      <td>-112273.33</td>\n",
       "      <td>0.00</td>\n",
       "      <td>-112273.33</td>\n",
       "    </tr>\n",
       "    <tr>\n",
       "      <th>91805</th>\n",
       "      <td>1846496</td>\n",
       "      <td>6010</td>\n",
       "      <td>7030</td>\n",
       "      <td>168443.68</td>\n",
       "      <td>168443.68</td>\n",
       "      <td>0.00</td>\n",
       "    </tr>\n",
       "    <tr>\n",
       "      <th>91806</th>\n",
       "      <td>1846496</td>\n",
       "      <td>5411</td>\n",
       "      <td>1010</td>\n",
       "      <td>-23634.89</td>\n",
       "      <td>0.00</td>\n",
       "      <td>-23634.89</td>\n",
       "    </tr>\n",
       "  </tbody>\n",
       "</table>\n",
       "<p>91732 rows × 6 columns</p>\n",
       "</div>"
      ],
      "text/plain": [
       "       client_id  code  type        sum     income   spending\n",
       "0       75063019  4814  1030   -4491.83       0.00   -4491.83\n",
       "1       75063019  6010  7070    4491.83    4491.83       0.00\n",
       "2       75063019  4814  1030   -3144.28       0.00   -3144.28\n",
       "3       75063019  5411  1010   -3930.35       0.00   -3930.35\n",
       "4       75063019  6011  2010   -4491.83       0.00   -4491.83\n",
       "...          ...   ...   ...        ...        ...        ...\n",
       "91802    1846496  5999  1100   -2243.45       0.00   -2243.45\n",
       "91803    1846496  5411  1010   -4783.80       0.00   -4783.80\n",
       "91804    1846496  5732  1010 -112273.33       0.00 -112273.33\n",
       "91805    1846496  6010  7030  168443.68  168443.68       0.00\n",
       "91806    1846496  5411  1010  -23634.89       0.00  -23634.89\n",
       "\n",
       "[91732 rows x 6 columns]"
      ]
     },
     "execution_count": 57,
     "metadata": {},
     "output_type": "execute_result"
    }
   ],
   "source": [
    "X = train_df.drop(\"gender\", axis=1)\n",
    "y = train_df[\"gender\"]\n",
    "X"
   ]
  },
  {
   "cell_type": "code",
   "execution_count": 58,
   "metadata": {
    "id": "vQbNrVZ-bRqJ"
   },
   "outputs": [],
   "source": [
    "X_train, X_test, y_train, y_test = train_test_split(X, y, test_size=0.33, random_state=42)  "
   ]
  },
  {
   "cell_type": "code",
   "execution_count": 59,
   "metadata": {
    "colab": {
     "base_uri": "https://localhost:8080/",
     "height": 423
    },
    "id": "-Qc6L-C1bRqJ",
    "outputId": "e97877bd-b29e-4840-cbdd-3a680453fbe5"
   },
   "outputs": [
    {
     "data": {
      "text/html": [
       "<div>\n",
       "<style scoped>\n",
       "    .dataframe tbody tr th:only-of-type {\n",
       "        vertical-align: middle;\n",
       "    }\n",
       "\n",
       "    .dataframe tbody tr th {\n",
       "        vertical-align: top;\n",
       "    }\n",
       "\n",
       "    .dataframe thead th {\n",
       "        text-align: right;\n",
       "    }\n",
       "</style>\n",
       "<table border=\"1\" class=\"dataframe\">\n",
       "  <thead>\n",
       "    <tr style=\"text-align: right;\">\n",
       "      <th></th>\n",
       "      <th>client_id</th>\n",
       "      <th>code</th>\n",
       "      <th>type</th>\n",
       "      <th>sum</th>\n",
       "      <th>income</th>\n",
       "      <th>spending</th>\n",
       "    </tr>\n",
       "  </thead>\n",
       "  <tbody>\n",
       "    <tr>\n",
       "      <th>12633</th>\n",
       "      <td>46095038</td>\n",
       "      <td>6011</td>\n",
       "      <td>7010</td>\n",
       "      <td>561478.94</td>\n",
       "      <td>561478.94</td>\n",
       "      <td>0.00</td>\n",
       "    </tr>\n",
       "    <tr>\n",
       "      <th>58221</th>\n",
       "      <td>21276897</td>\n",
       "      <td>5641</td>\n",
       "      <td>1110</td>\n",
       "      <td>-105558.04</td>\n",
       "      <td>0.00</td>\n",
       "      <td>-105558.04</td>\n",
       "    </tr>\n",
       "    <tr>\n",
       "      <th>48079</th>\n",
       "      <td>49760703</td>\n",
       "      <td>6011</td>\n",
       "      <td>7010</td>\n",
       "      <td>4491.83</td>\n",
       "      <td>4491.83</td>\n",
       "      <td>0.00</td>\n",
       "    </tr>\n",
       "    <tr>\n",
       "      <th>7666</th>\n",
       "      <td>87252636</td>\n",
       "      <td>6011</td>\n",
       "      <td>2010</td>\n",
       "      <td>-1257712.83</td>\n",
       "      <td>0.00</td>\n",
       "      <td>-1257712.83</td>\n",
       "    </tr>\n",
       "    <tr>\n",
       "      <th>8593</th>\n",
       "      <td>32508028</td>\n",
       "      <td>5411</td>\n",
       "      <td>1110</td>\n",
       "      <td>-1010.66</td>\n",
       "      <td>0.00</td>\n",
       "      <td>-1010.66</td>\n",
       "    </tr>\n",
       "    <tr>\n",
       "      <th>...</th>\n",
       "      <td>...</td>\n",
       "      <td>...</td>\n",
       "      <td>...</td>\n",
       "      <td>...</td>\n",
       "      <td>...</td>\n",
       "      <td>...</td>\n",
       "    </tr>\n",
       "    <tr>\n",
       "      <th>49604</th>\n",
       "      <td>48463492</td>\n",
       "      <td>5411</td>\n",
       "      <td>1110</td>\n",
       "      <td>-2910.71</td>\n",
       "      <td>0.00</td>\n",
       "      <td>-2910.71</td>\n",
       "    </tr>\n",
       "    <tr>\n",
       "      <th>42497</th>\n",
       "      <td>53854864</td>\n",
       "      <td>4829</td>\n",
       "      <td>2370</td>\n",
       "      <td>-2099.48</td>\n",
       "      <td>0.00</td>\n",
       "      <td>-2099.48</td>\n",
       "    </tr>\n",
       "    <tr>\n",
       "      <th>3948</th>\n",
       "      <td>63557480</td>\n",
       "      <td>6011</td>\n",
       "      <td>2010</td>\n",
       "      <td>-4491.83</td>\n",
       "      <td>0.00</td>\n",
       "      <td>-4491.83</td>\n",
       "    </tr>\n",
       "    <tr>\n",
       "      <th>65227</th>\n",
       "      <td>38691781</td>\n",
       "      <td>6010</td>\n",
       "      <td>7070</td>\n",
       "      <td>15079.53</td>\n",
       "      <td>15079.53</td>\n",
       "      <td>0.00</td>\n",
       "    </tr>\n",
       "    <tr>\n",
       "      <th>71164</th>\n",
       "      <td>90923818</td>\n",
       "      <td>6010</td>\n",
       "      <td>7031</td>\n",
       "      <td>58393.81</td>\n",
       "      <td>58393.81</td>\n",
       "      <td>0.00</td>\n",
       "    </tr>\n",
       "  </tbody>\n",
       "</table>\n",
       "<p>30272 rows × 6 columns</p>\n",
       "</div>"
      ],
      "text/plain": [
       "       client_id  code  type         sum     income    spending\n",
       "12633   46095038  6011  7010   561478.94  561478.94        0.00\n",
       "58221   21276897  5641  1110  -105558.04       0.00  -105558.04\n",
       "48079   49760703  6011  7010     4491.83    4491.83        0.00\n",
       "7666    87252636  6011  2010 -1257712.83       0.00 -1257712.83\n",
       "8593    32508028  5411  1110    -1010.66       0.00    -1010.66\n",
       "...          ...   ...   ...         ...        ...         ...\n",
       "49604   48463492  5411  1110    -2910.71       0.00    -2910.71\n",
       "42497   53854864  4829  2370    -2099.48       0.00    -2099.48\n",
       "3948    63557480  6011  2010    -4491.83       0.00    -4491.83\n",
       "65227   38691781  6010  7070    15079.53   15079.53        0.00\n",
       "71164   90923818  6010  7031    58393.81   58393.81        0.00\n",
       "\n",
       "[30272 rows x 6 columns]"
      ]
     },
     "execution_count": 59,
     "metadata": {},
     "output_type": "execute_result"
    }
   ],
   "source": [
    "X_test"
   ]
  },
  {
   "cell_type": "code",
   "execution_count": 60,
   "metadata": {
    "colab": {
     "base_uri": "https://localhost:8080/"
    },
    "id": "T5wxU_lqbRqJ",
    "outputId": "c45f59bd-00aa-40e6-ad80-6498988d2814"
   },
   "outputs": [
    {
     "data": {
      "text/plain": [
       "12633    1\n",
       "58221    1\n",
       "48079    1\n",
       "7666     1\n",
       "8593     1\n",
       "        ..\n",
       "49604    0\n",
       "42497    0\n",
       "3948     0\n",
       "65227    0\n",
       "71164    0\n",
       "Name: gender, Length: 30272, dtype: int64"
      ]
     },
     "execution_count": 60,
     "metadata": {},
     "output_type": "execute_result"
    }
   ],
   "source": [
    "y_test"
   ]
  },
  {
   "cell_type": "code",
   "execution_count": 61,
   "metadata": {
    "id": "MwbXefaFUoB1"
   },
   "outputs": [],
   "source": [
    "#X_train = train_df.drop(\"target\", axis=1)\n",
    "#Y_train = train_df[\"target\"]"
   ]
  },
  {
   "cell_type": "code",
   "execution_count": 62,
   "metadata": {
    "id": "Le3sFyVPZOOf"
   },
   "outputs": [],
   "source": [
    "#X_test  = train_df.drop(\"client_id\", axis=1).copy()"
   ]
  },
  {
   "cell_type": "markdown",
   "metadata": {
    "id": "KnzR4iR-bRqK"
   },
   "source": [
    "### K-Nearest Neighboors"
   ]
  },
  {
   "cell_type": "code",
   "execution_count": 63,
   "metadata": {
    "id": "hDL-32-NZqV0"
   },
   "outputs": [],
   "source": [
    "knn = KNeighborsClassifier(n_neighbors = 3) \n",
    "knn.fit(X, y)  \n",
    "y_pred = knn.predict(X_test)  \n",
    "acc_knn = round(knn.score(X, y) * 100, 2)"
   ]
  },
  {
   "cell_type": "code",
   "execution_count": 64,
   "metadata": {
    "colab": {
     "base_uri": "https://localhost:8080/"
    },
    "id": "Se76xS1EZ9H2",
    "outputId": "f86a1fbf-2f8f-462f-e36a-63439dfdfb90"
   },
   "outputs": [
    {
     "data": {
      "text/plain": [
       "94.39"
      ]
     },
     "execution_count": 64,
     "metadata": {},
     "output_type": "execute_result"
    }
   ],
   "source": [
    "acc_knn"
   ]
  },
  {
   "cell_type": "code",
   "execution_count": 65,
   "metadata": {
    "colab": {
     "base_uri": "https://localhost:8080/",
     "height": 423
    },
    "id": "RFznWRiYbRqK",
    "outputId": "63d5762e-1907-4e80-8320-6839305f424a"
   },
   "outputs": [
    {
     "data": {
      "text/html": [
       "<div>\n",
       "<style scoped>\n",
       "    .dataframe tbody tr th:only-of-type {\n",
       "        vertical-align: middle;\n",
       "    }\n",
       "\n",
       "    .dataframe tbody tr th {\n",
       "        vertical-align: top;\n",
       "    }\n",
       "\n",
       "    .dataframe thead th {\n",
       "        text-align: right;\n",
       "    }\n",
       "</style>\n",
       "<table border=\"1\" class=\"dataframe\">\n",
       "  <thead>\n",
       "    <tr style=\"text-align: right;\">\n",
       "      <th></th>\n",
       "      <th>gender</th>\n",
       "      <th>predicted_gender</th>\n",
       "    </tr>\n",
       "  </thead>\n",
       "  <tbody>\n",
       "    <tr>\n",
       "      <th>12633</th>\n",
       "      <td>1</td>\n",
       "      <td>0</td>\n",
       "    </tr>\n",
       "    <tr>\n",
       "      <th>58221</th>\n",
       "      <td>1</td>\n",
       "      <td>1</td>\n",
       "    </tr>\n",
       "    <tr>\n",
       "      <th>48079</th>\n",
       "      <td>1</td>\n",
       "      <td>1</td>\n",
       "    </tr>\n",
       "    <tr>\n",
       "      <th>7666</th>\n",
       "      <td>1</td>\n",
       "      <td>1</td>\n",
       "    </tr>\n",
       "    <tr>\n",
       "      <th>8593</th>\n",
       "      <td>1</td>\n",
       "      <td>1</td>\n",
       "    </tr>\n",
       "    <tr>\n",
       "      <th>...</th>\n",
       "      <td>...</td>\n",
       "      <td>...</td>\n",
       "    </tr>\n",
       "    <tr>\n",
       "      <th>49604</th>\n",
       "      <td>0</td>\n",
       "      <td>0</td>\n",
       "    </tr>\n",
       "    <tr>\n",
       "      <th>42497</th>\n",
       "      <td>0</td>\n",
       "      <td>0</td>\n",
       "    </tr>\n",
       "    <tr>\n",
       "      <th>3948</th>\n",
       "      <td>0</td>\n",
       "      <td>0</td>\n",
       "    </tr>\n",
       "    <tr>\n",
       "      <th>65227</th>\n",
       "      <td>0</td>\n",
       "      <td>0</td>\n",
       "    </tr>\n",
       "    <tr>\n",
       "      <th>71164</th>\n",
       "      <td>0</td>\n",
       "      <td>0</td>\n",
       "    </tr>\n",
       "  </tbody>\n",
       "</table>\n",
       "<p>30272 rows × 2 columns</p>\n",
       "</div>"
      ],
      "text/plain": [
       "       gender  predicted_gender\n",
       "12633       1                 0\n",
       "58221       1                 1\n",
       "48079       1                 1\n",
       "7666        1                 1\n",
       "8593        1                 1\n",
       "...       ...               ...\n",
       "49604       0                 0\n",
       "42497       0                 0\n",
       "3948        0                 0\n",
       "65227       0                 0\n",
       "71164       0                 0\n",
       "\n",
       "[30272 rows x 2 columns]"
      ]
     },
     "execution_count": 65,
     "metadata": {},
     "output_type": "execute_result"
    }
   ],
   "source": [
    "result = pd.DataFrame(data = y_test)\n",
    "result[\"predicted_gender\"] = knn.predict(X_test)\n",
    "result"
   ]
  },
  {
   "cell_type": "markdown",
   "metadata": {
    "id": "6SEzj_1gbRqK"
   },
   "source": [
    "### Random Forest"
   ]
  },
  {
   "cell_type": "code",
   "execution_count": 66,
   "metadata": {
    "colab": {
     "base_uri": "https://localhost:8080/"
    },
    "id": "VAGTIqoqVknM",
    "outputId": "ea0f316d-1616-4580-9322-8f977163b8f8"
   },
   "outputs": [
    {
     "data": {
      "text/plain": [
       "RandomForestClassifier()"
      ]
     },
     "execution_count": 66,
     "metadata": {},
     "output_type": "execute_result"
    }
   ],
   "source": [
    "random_forest = RandomForestClassifier(n_estimators=100)\n",
    "random_forest.fit(X, y)"
   ]
  },
  {
   "cell_type": "markdown",
   "metadata": {
    "colab": {
     "base_uri": "https://localhost:8080/"
    },
    "id": "pkRsYBetaB7D",
    "outputId": "7aeb580e-72e9-4766-f863-14db61f108d5"
   },
   "source": [
    "Y_prediction = random_forest.predict(X_test)\n",
    "Y_prediction"
   ]
  },
  {
   "cell_type": "code",
   "execution_count": 67,
   "metadata": {
    "colab": {
     "base_uri": "https://localhost:8080/"
    },
    "id": "QGv9abHcbRqK",
    "outputId": "9309132b-e4b0-43c9-de9d-c0e35cc49ac3"
   },
   "outputs": [
    {
     "data": {
      "text/plain": [
       "99.99"
      ]
     },
     "execution_count": 67,
     "metadata": {},
     "output_type": "execute_result"
    }
   ],
   "source": [
    "random_forest.score(X, y)\n",
    "acc_random_forest = round(random_forest.score(X, y) * 100, 2)\n",
    "acc_random_forest"
   ]
  },
  {
   "cell_type": "code",
   "execution_count": 68,
   "metadata": {},
   "outputs": [
    {
     "data": {
      "text/html": [
       "<div>\n",
       "<style scoped>\n",
       "    .dataframe tbody tr th:only-of-type {\n",
       "        vertical-align: middle;\n",
       "    }\n",
       "\n",
       "    .dataframe tbody tr th {\n",
       "        vertical-align: top;\n",
       "    }\n",
       "\n",
       "    .dataframe thead th {\n",
       "        text-align: right;\n",
       "    }\n",
       "</style>\n",
       "<table border=\"1\" class=\"dataframe\">\n",
       "  <thead>\n",
       "    <tr style=\"text-align: right;\">\n",
       "      <th></th>\n",
       "      <th>gender</th>\n",
       "      <th>predicted_class</th>\n",
       "    </tr>\n",
       "  </thead>\n",
       "  <tbody>\n",
       "    <tr>\n",
       "      <th>12633</th>\n",
       "      <td>1</td>\n",
       "      <td>1</td>\n",
       "    </tr>\n",
       "    <tr>\n",
       "      <th>58221</th>\n",
       "      <td>1</td>\n",
       "      <td>1</td>\n",
       "    </tr>\n",
       "    <tr>\n",
       "      <th>48079</th>\n",
       "      <td>1</td>\n",
       "      <td>1</td>\n",
       "    </tr>\n",
       "    <tr>\n",
       "      <th>7666</th>\n",
       "      <td>1</td>\n",
       "      <td>1</td>\n",
       "    </tr>\n",
       "    <tr>\n",
       "      <th>8593</th>\n",
       "      <td>1</td>\n",
       "      <td>1</td>\n",
       "    </tr>\n",
       "    <tr>\n",
       "      <th>...</th>\n",
       "      <td>...</td>\n",
       "      <td>...</td>\n",
       "    </tr>\n",
       "    <tr>\n",
       "      <th>49604</th>\n",
       "      <td>0</td>\n",
       "      <td>0</td>\n",
       "    </tr>\n",
       "    <tr>\n",
       "      <th>42497</th>\n",
       "      <td>0</td>\n",
       "      <td>0</td>\n",
       "    </tr>\n",
       "    <tr>\n",
       "      <th>3948</th>\n",
       "      <td>0</td>\n",
       "      <td>0</td>\n",
       "    </tr>\n",
       "    <tr>\n",
       "      <th>65227</th>\n",
       "      <td>0</td>\n",
       "      <td>0</td>\n",
       "    </tr>\n",
       "    <tr>\n",
       "      <th>71164</th>\n",
       "      <td>0</td>\n",
       "      <td>0</td>\n",
       "    </tr>\n",
       "  </tbody>\n",
       "</table>\n",
       "<p>30272 rows × 2 columns</p>\n",
       "</div>"
      ],
      "text/plain": [
       "       gender  predicted_class\n",
       "12633       1                1\n",
       "58221       1                1\n",
       "48079       1                1\n",
       "7666        1                1\n",
       "8593        1                1\n",
       "...       ...              ...\n",
       "49604       0                0\n",
       "42497       0                0\n",
       "3948        0                0\n",
       "65227       0                0\n",
       "71164       0                0\n",
       "\n",
       "[30272 rows x 2 columns]"
      ]
     },
     "execution_count": 68,
     "metadata": {},
     "output_type": "execute_result"
    }
   ],
   "source": [
    "result = pd.DataFrame(data = y_test)\n",
    "result[\"predicted_class\"] = random_forest.predict(X_test)\n",
    "result"
   ]
  },
  {
   "cell_type": "markdown",
   "metadata": {
    "id": "nUziCuNzbRqK"
   },
   "source": [
    "### Desicion Tree"
   ]
  },
  {
   "cell_type": "code",
   "execution_count": 69,
   "metadata": {
    "colab": {
     "base_uri": "https://localhost:8080/"
    },
    "id": "9pD-X9HdaEYt",
    "outputId": "c0d1157e-ebe3-47a8-c564-c10afa88dad9"
   },
   "outputs": [
    {
     "data": {
      "text/plain": [
       "DecisionTreeClassifier()"
      ]
     },
     "execution_count": 69,
     "metadata": {},
     "output_type": "execute_result"
    }
   ],
   "source": [
    "decision_tree = DecisionTreeClassifier() \n",
    "decision_tree.fit(X, y)  \n"
   ]
  },
  {
   "cell_type": "code",
   "execution_count": 70,
   "metadata": {
    "colab": {
     "base_uri": "https://localhost:8080/"
    },
    "id": "-3YGp6S-bRqL",
    "outputId": "d56e215c-da0c-4a41-bae8-dc909dac8129"
   },
   "outputs": [
    {
     "data": {
      "text/plain": [
       "array([1, 1, 1, ..., 0, 0, 0], dtype=int64)"
      ]
     },
     "execution_count": 70,
     "metadata": {},
     "output_type": "execute_result"
    }
   ],
   "source": [
    "y_pred = decision_tree.predict(X_test)  \n",
    "y_pred"
   ]
  },
  {
   "cell_type": "code",
   "execution_count": 71,
   "metadata": {
    "colab": {
     "base_uri": "https://localhost:8080/"
    },
    "id": "TX-9ytGObRqL",
    "outputId": "aa6ee204-b46f-4630-e400-a03257cf06e6"
   },
   "outputs": [
    {
     "data": {
      "text/plain": [
       "100.0"
      ]
     },
     "execution_count": 71,
     "metadata": {},
     "output_type": "execute_result"
    }
   ],
   "source": [
    "acc_decision_tree = round(decision_tree.score(X, y) * 100, 2)\n",
    "acc_decision_tree"
   ]
  },
  {
   "cell_type": "code",
   "execution_count": 72,
   "metadata": {},
   "outputs": [
    {
     "data": {
      "text/html": [
       "<div>\n",
       "<style scoped>\n",
       "    .dataframe tbody tr th:only-of-type {\n",
       "        vertical-align: middle;\n",
       "    }\n",
       "\n",
       "    .dataframe tbody tr th {\n",
       "        vertical-align: top;\n",
       "    }\n",
       "\n",
       "    .dataframe thead th {\n",
       "        text-align: right;\n",
       "    }\n",
       "</style>\n",
       "<table border=\"1\" class=\"dataframe\">\n",
       "  <thead>\n",
       "    <tr style=\"text-align: right;\">\n",
       "      <th></th>\n",
       "      <th>gender</th>\n",
       "      <th>predicted_gender</th>\n",
       "    </tr>\n",
       "  </thead>\n",
       "  <tbody>\n",
       "    <tr>\n",
       "      <th>12633</th>\n",
       "      <td>1</td>\n",
       "      <td>1</td>\n",
       "    </tr>\n",
       "    <tr>\n",
       "      <th>58221</th>\n",
       "      <td>1</td>\n",
       "      <td>1</td>\n",
       "    </tr>\n",
       "    <tr>\n",
       "      <th>48079</th>\n",
       "      <td>1</td>\n",
       "      <td>1</td>\n",
       "    </tr>\n",
       "    <tr>\n",
       "      <th>7666</th>\n",
       "      <td>1</td>\n",
       "      <td>1</td>\n",
       "    </tr>\n",
       "    <tr>\n",
       "      <th>8593</th>\n",
       "      <td>1</td>\n",
       "      <td>1</td>\n",
       "    </tr>\n",
       "    <tr>\n",
       "      <th>...</th>\n",
       "      <td>...</td>\n",
       "      <td>...</td>\n",
       "    </tr>\n",
       "    <tr>\n",
       "      <th>49604</th>\n",
       "      <td>0</td>\n",
       "      <td>0</td>\n",
       "    </tr>\n",
       "    <tr>\n",
       "      <th>42497</th>\n",
       "      <td>0</td>\n",
       "      <td>0</td>\n",
       "    </tr>\n",
       "    <tr>\n",
       "      <th>3948</th>\n",
       "      <td>0</td>\n",
       "      <td>0</td>\n",
       "    </tr>\n",
       "    <tr>\n",
       "      <th>65227</th>\n",
       "      <td>0</td>\n",
       "      <td>0</td>\n",
       "    </tr>\n",
       "    <tr>\n",
       "      <th>71164</th>\n",
       "      <td>0</td>\n",
       "      <td>0</td>\n",
       "    </tr>\n",
       "  </tbody>\n",
       "</table>\n",
       "<p>30272 rows × 2 columns</p>\n",
       "</div>"
      ],
      "text/plain": [
       "       gender  predicted_gender\n",
       "12633       1                 1\n",
       "58221       1                 1\n",
       "48079       1                 1\n",
       "7666        1                 1\n",
       "8593        1                 1\n",
       "...       ...               ...\n",
       "49604       0                 0\n",
       "42497       0                 0\n",
       "3948        0                 0\n",
       "65227       0                 0\n",
       "71164       0                 0\n",
       "\n",
       "[30272 rows x 2 columns]"
      ]
     },
     "execution_count": 72,
     "metadata": {},
     "output_type": "execute_result"
    }
   ],
   "source": [
    "result = pd.DataFrame(data = y_test)\n",
    "result[\"predicted_gender\"] = decision_tree.predict(X_test)\n",
    "result"
   ]
  },
  {
   "cell_type": "markdown",
   "metadata": {},
   "source": [
    "from sklearn.tree import plot_tree \n",
    "%matplotlib inline\n",
    "\n",
    "plot_tree(decision_tree, feature_names = X.columns)"
   ]
  },
  {
   "cell_type": "markdown",
   "metadata": {
    "id": "Ij1Bo_GHyTht"
   },
   "source": [
    "### Logistic Regression\n"
   ]
  },
  {
   "cell_type": "code",
   "execution_count": 73,
   "metadata": {
    "id": "SROtXeS-yPYI"
   },
   "outputs": [],
   "source": [
    "logreg = LogisticRegression()\n",
    "logreg.fit(X, y)\n",
    "\n",
    "Y_pred = logreg.predict(X_test)\n",
    "\n",
    "acc_log = round(logreg.score(X, y) * 100, 2)"
   ]
  },
  {
   "cell_type": "markdown",
   "metadata": {
    "id": "HMG5xb8VykyM"
   },
   "source": [
    "### Stochastic Gradient Descent (SGD)\n"
   ]
  },
  {
   "cell_type": "code",
   "execution_count": 74,
   "metadata": {
    "id": "J1akcTzcyjbl"
   },
   "outputs": [],
   "source": [
    "sgd = linear_model.SGDClassifier(max_iter=5, tol=None)\n",
    "sgd.fit(X, y)\n",
    "Y_pred = sgd.predict(X_test)\n",
    "\n",
    "sgd.score(X, y)\n",
    "\n",
    "acc_sgd = round(sgd.score(X, y) * 100, 2)"
   ]
  },
  {
   "cell_type": "markdown",
   "metadata": {
    "id": "c18jXcJDbRqL"
   },
   "source": [
    "### Defining best model"
   ]
  },
  {
   "cell_type": "code",
   "execution_count": 75,
   "metadata": {
    "colab": {
     "base_uri": "https://localhost:8080/",
     "height": 237
    },
    "id": "JKDpY3_nah3t",
    "outputId": "ef5de268-4931-4ec6-c9ff-15ddd5bd3784",
    "scrolled": true
   },
   "outputs": [
    {
     "data": {
      "text/html": [
       "<div>\n",
       "<style scoped>\n",
       "    .dataframe tbody tr th:only-of-type {\n",
       "        vertical-align: middle;\n",
       "    }\n",
       "\n",
       "    .dataframe tbody tr th {\n",
       "        vertical-align: top;\n",
       "    }\n",
       "\n",
       "    .dataframe thead th {\n",
       "        text-align: right;\n",
       "    }\n",
       "</style>\n",
       "<table border=\"1\" class=\"dataframe\">\n",
       "  <thead>\n",
       "    <tr style=\"text-align: right;\">\n",
       "      <th></th>\n",
       "      <th>Model</th>\n",
       "    </tr>\n",
       "    <tr>\n",
       "      <th>Score</th>\n",
       "      <th></th>\n",
       "    </tr>\n",
       "  </thead>\n",
       "  <tbody>\n",
       "    <tr>\n",
       "      <th>100.00</th>\n",
       "      <td>Decision Tree</td>\n",
       "    </tr>\n",
       "    <tr>\n",
       "      <th>99.99</th>\n",
       "      <td>Random Forest</td>\n",
       "    </tr>\n",
       "    <tr>\n",
       "      <th>94.39</th>\n",
       "      <td>KNN</td>\n",
       "    </tr>\n",
       "    <tr>\n",
       "      <th>52.00</th>\n",
       "      <td>Logistic Regression</td>\n",
       "    </tr>\n",
       "    <tr>\n",
       "      <th>49.12</th>\n",
       "      <td>SGD</td>\n",
       "    </tr>\n",
       "  </tbody>\n",
       "</table>\n",
       "</div>"
      ],
      "text/plain": [
       "                      Model\n",
       "Score                      \n",
       "100.00        Decision Tree\n",
       "99.99         Random Forest\n",
       "94.39                   KNN\n",
       "52.00   Logistic Regression\n",
       "49.12                   SGD"
      ]
     },
     "execution_count": 75,
     "metadata": {},
     "output_type": "execute_result"
    }
   ],
   "source": [
    "results = pd.DataFrame({\n",
    "    'Model': ['Decision Tree', 'KNN',\n",
    "              'Random Forest', 'Logistic Regression', 'SGD'],\n",
    "    'Score': [acc_decision_tree, acc_knn,\n",
    "              acc_random_forest, acc_log, acc_sgd]})\n",
    "result_df = results.sort_values(by='Score', ascending=False)\n",
    "result_df = result_df.set_index('Score')\n",
    "result_df.head(9)"
   ]
  },
  {
   "cell_type": "markdown",
   "metadata": {
    "id": "_gkawc14bRqL"
   },
   "source": [
    "### K Fold cross validation"
   ]
  },
  {
   "cell_type": "code",
   "execution_count": 76,
   "metadata": {
    "id": "upGWwe6Ba_dT"
   },
   "outputs": [],
   "source": [
    "from sklearn.model_selection import cross_val_score\n",
    "rf = RandomForestClassifier(n_estimators=100)\n"
   ]
  },
  {
   "cell_type": "code",
   "execution_count": 77,
   "metadata": {
    "id": "AZpyruSRbRqL",
    "outputId": "fc16f417-0c28-48fb-9dbf-8bc0e4bcd4e0"
   },
   "outputs": [
    {
     "name": "stdout",
     "output_type": "stream",
     "text": [
      "Scores: [0.48408546 0.50632221 0.5258912  0.51738799 0.51215524 0.64112068\n",
      " 0.54769432 0.51575275 0.53265017 0.538428  ]\n",
      "Mean: 0.5321488018350173\n",
      "Standard Deviation: 0.04007358584979801\n"
     ]
    }
   ],
   "source": [
    "scores = cross_val_score(rf, X, y, cv=10, scoring = \"accuracy\")\n",
    "print(\"Scores:\", scores)\n",
    "print(\"Mean:\", scores.mean())\n",
    "print(\"Standard Deviation:\", scores.std())"
   ]
  },
  {
   "cell_type": "markdown",
   "metadata": {},
   "source": [
    "### Random Forest retraining"
   ]
  },
  {
   "cell_type": "code",
   "execution_count": 78,
   "metadata": {},
   "outputs": [
    {
     "data": {
      "text/html": [
       "<div>\n",
       "<style scoped>\n",
       "    .dataframe tbody tr th:only-of-type {\n",
       "        vertical-align: middle;\n",
       "    }\n",
       "\n",
       "    .dataframe tbody tr th {\n",
       "        vertical-align: top;\n",
       "    }\n",
       "\n",
       "    .dataframe thead th {\n",
       "        text-align: right;\n",
       "    }\n",
       "</style>\n",
       "<table border=\"1\" class=\"dataframe\">\n",
       "  <thead>\n",
       "    <tr style=\"text-align: right;\">\n",
       "      <th></th>\n",
       "      <th>importance</th>\n",
       "    </tr>\n",
       "    <tr>\n",
       "      <th>feature</th>\n",
       "      <th></th>\n",
       "    </tr>\n",
       "  </thead>\n",
       "  <tbody>\n",
       "    <tr>\n",
       "      <th>client_id</th>\n",
       "      <td>0.593</td>\n",
       "    </tr>\n",
       "    <tr>\n",
       "      <th>sum</th>\n",
       "      <td>0.154</td>\n",
       "    </tr>\n",
       "    <tr>\n",
       "      <th>spending</th>\n",
       "      <td>0.131</td>\n",
       "    </tr>\n",
       "    <tr>\n",
       "      <th>code</th>\n",
       "      <td>0.059</td>\n",
       "    </tr>\n",
       "    <tr>\n",
       "      <th>type</th>\n",
       "      <td>0.038</td>\n",
       "    </tr>\n",
       "    <tr>\n",
       "      <th>income</th>\n",
       "      <td>0.025</td>\n",
       "    </tr>\n",
       "  </tbody>\n",
       "</table>\n",
       "</div>"
      ],
      "text/plain": [
       "           importance\n",
       "feature              \n",
       "client_id       0.593\n",
       "sum             0.154\n",
       "spending        0.131\n",
       "code            0.059\n",
       "type            0.038\n",
       "income          0.025"
      ]
     },
     "execution_count": 78,
     "metadata": {},
     "output_type": "execute_result"
    }
   ],
   "source": [
    "importances = pd.DataFrame({'feature':X.columns,'importance':np.round(random_forest.feature_importances_,3)})\n",
    "importances = importances.sort_values('importance',ascending=False).set_index('feature')\n",
    "importances.head(15)"
   ]
  },
  {
   "cell_type": "code",
   "execution_count": 97,
   "metadata": {},
   "outputs": [
    {
     "name": "stdout",
     "output_type": "stream",
     "text": [
      "100.0 %\n"
     ]
    }
   ],
   "source": [
    "random_forest = RandomForestClassifier(n_estimators=100, oob_score = True)\n",
    "random_forest.fit(X_train, y_train)\n",
    "Y_prediction = random_forest.predict(X_test)\n",
    "\n",
    "random_forest.score(X_train, y_train)\n",
    "\n",
    "acc_random_forest = round(random_forest.score(X_train, y_train) * 100, 2)\n",
    "print(round(acc_random_forest,2,), \"%\")"
   ]
  },
  {
   "cell_type": "markdown",
   "metadata": {
    "id": "g_O0MxdYbRqL"
   },
   "source": [
    "### Hyper Parameter Tuning "
   ]
  },
  {
   "cell_type": "code",
   "execution_count": 82,
   "metadata": {
    "id": "VGJEx1tJbRqL"
   },
   "outputs": [],
   "source": [
    "param_grid = { \"criterion\" : [\"gini\", \"entropy\"], \n",
    "              \"min_samples_leaf\" : [1, 5, 10, 25, 50, 70], \n",
    "              \"min_samples_split\" : [2, 4, 10, 12, 16, 18, 25, 35], \n",
    "              \"n_estimators\": [100, 400, 700, 1000, 1500]}\n"
   ]
  },
  {
   "cell_type": "code",
   "execution_count": 101,
   "metadata": {},
   "outputs": [],
   "source": [
    "from sklearn.model_selection import GridSearchCV, cross_val_score\n",
    "rf = RandomForestClassifier(n_estimators=10, max_features='auto', oob_score=True, random_state=1, n_jobs=-1)\n",
    "\n",
    "clf = GridSearchCV(estimator=rf, \n",
    "                   param_grid=param_grid, \n",
    "                   n_jobs=-1)\n"
   ]
  },
  {
   "cell_type": "markdown",
   "metadata": {
    "id": "3szRmmFAbRqM"
   },
   "source": [
    "clf.fit(X, y)\n"
   ]
  },
  {
   "cell_type": "markdown",
   "metadata": {
    "id": "xz2o8LA9bRqM"
   },
   "source": [
    "rf_best=clf.bestparams\n",
    "rf_best"
   ]
  },
  {
   "cell_type": "markdown",
   "metadata": {
    "id": "UPbaGZf2bRqM"
   },
   "source": [
    "from sklearn.tree import plot_tree\n",
    "plt.figure(figsize=(80,40))\n",
    "\n",
    "plot_tree(rf_best.estimators_[5], \n",
    "          feature_names = cancer.feature_names, \n",
    "          class_names=cancer.target_names\n",
    "          ,filled=True);"
   ]
  },
  {
   "cell_type": "markdown",
   "metadata": {
    "id": "R5AHlxrMbRqM"
   },
   "source": [
    "random_forest = RandomForestClassifier(criterion = \"gini\", \n",
    "                                       min_samples_leaf = 1, \n",
    "                                       min_samples_split = 10,   \n",
    "                                       n_estimators=100, \n",
    "                                       max_features='auto', \n",
    "                                       oob_score=True, \n",
    "                                       random_state=1, \n",
    "                                       n_jobs=-1)\n",
    "\n",
    "random_forest.fit(X, y)\n",
    "Y_prediction = random_forest.predict(X_test)\n",
    "\n",
    "random_forest.score(X, y)\n",
    "\n",
    "print(\"oob score:\", round(random_forest.oob_score_, 4)*100, \"%\")"
   ]
  },
  {
   "cell_type": "markdown",
   "metadata": {
    "id": "ltzNJK8RUrBn"
   },
   "source": [
    "# Part 5 Analyze models, Result comparison, ROC/AUC, precision and recall curves, deep analyzing.\n"
   ]
  },
  {
   "cell_type": "markdown",
   "metadata": {
    "id": "o_FbZK5MbRqM"
   },
   "source": [
    "### Confusion Matrix"
   ]
  },
  {
   "cell_type": "code",
   "execution_count": 85,
   "metadata": {
    "id": "BKmXDz0AbRqM",
    "outputId": "44458ded-c6d7-451b-9a9d-b1164f1b43d2"
   },
   "outputs": [
    {
     "data": {
      "text/plain": [
       "array([[26583, 20091],\n",
       "       [24762, 20296]], dtype=int64)"
      ]
     },
     "execution_count": 85,
     "metadata": {},
     "output_type": "execute_result"
    }
   ],
   "source": [
    "from sklearn.model_selection import cross_val_predict\n",
    "from sklearn.metrics import confusion_matrix\n",
    "predictions = cross_val_predict(random_forest, X, y, cv=3)\n",
    "confusion_matrix(y, predictions)\n"
   ]
  },
  {
   "cell_type": "markdown",
   "metadata": {
    "id": "aEsh3-oLbRqM"
   },
   "source": [
    "#### Precision and Recall"
   ]
  },
  {
   "cell_type": "code",
   "execution_count": 86,
   "metadata": {
    "id": "V88gfdXobRqM",
    "outputId": "8770b5ac-ceaf-4349-c876-850b13b78916"
   },
   "outputs": [
    {
     "name": "stdout",
     "output_type": "stream",
     "text": [
      "Precision: 0.5025379453784634\n",
      "Recall: 0.4504416529806028\n"
     ]
    }
   ],
   "source": [
    "### Precision and Recall\n",
    "from sklearn.metrics import precision_score, recall_score\n",
    "\n",
    "print(\"Precision:\", precision_score(y, predictions))\n",
    "print(\"Recall:\",recall_score(y, predictions))"
   ]
  },
  {
   "cell_type": "markdown",
   "metadata": {
    "id": "WZKQ5QiZbRqM"
   },
   "source": [
    "#### F-score"
   ]
  },
  {
   "cell_type": "code",
   "execution_count": 87,
   "metadata": {
    "id": "L4Osd5IEbRqN",
    "outputId": "6123799c-0568-4634-9390-2b8c3b6da87b"
   },
   "outputs": [
    {
     "data": {
      "text/plain": [
       "0.4750658318216397"
      ]
     },
     "execution_count": 87,
     "metadata": {},
     "output_type": "execute_result"
    }
   ],
   "source": [
    "from sklearn.metrics import f1_score\n",
    "f1_score(y, predictions)"
   ]
  },
  {
   "cell_type": "markdown",
   "metadata": {
    "id": "t3HgLIx3bRqN"
   },
   "source": [
    "### Precision Recall Curves"
   ]
  },
  {
   "cell_type": "code",
   "execution_count": 88,
   "metadata": {
    "colab": {
     "base_uri": "https://localhost:8080/",
     "height": 455
    },
    "id": "DaJSQphGgddY",
    "outputId": "73cc2d65-6c3e-4f94-cd3d-949aae177a53"
   },
   "outputs": [
    {
     "data": {
      "image/png": "[encoded data removed]",
      "text/plain": [
       "<Figure size 1008x504 with 1 Axes>"
      ]
     },
     "metadata": {
      "needs_background": "light"
     },
     "output_type": "display_data"
    }
   ],
   "source": [
    "from sklearn.metrics import precision_recall_curve\n",
    "\n",
    "# getting the probabilities of our predictions\n",
    "y_scores = random_forest.predict_proba(X)\n",
    "y_scores = y_scores[:,1]\n",
    "\n",
    "precision, recall, threshold = precision_recall_curve(y, y_scores)\n",
    "def plot_precision_and_recall(precision, recall, threshold):\n",
    "    plt.plot(threshold, precision[:-1], \"r-\", label=\"precision\", linewidth=5)\n",
    "    plt.plot(threshold, recall[:-1], \"b\", label=\"recall\", linewidth=5)\n",
    "    plt.xlabel(\"threshold\", fontsize=19)\n",
    "    plt.legend(loc=\"upper right\", fontsize=19)\n",
    "    plt.ylim([0, 1])\n",
    "\n",
    "plt.figure(figsize=(14, 7))\n",
    "plot_precision_and_recall(precision, recall, threshold)\n",
    "plt.show()"
   ]
  },
  {
   "cell_type": "code",
   "execution_count": 89,
   "metadata": {
    "colab": {
     "base_uri": "https://localhost:8080/",
     "height": 451
    },
    "id": "ypcU6BuHbRqN",
    "outputId": "4be6faf7-7f87-4e5e-b2b7-57821cb0fd33"
   },
   "outputs": [
    {
     "data": {
      "image/png": "[encoded data removed]",
      "text/plain": [
       "<Figure size 1008x504 with 1 Axes>"
      ]
     },
     "metadata": {
      "needs_background": "light"
     },
     "output_type": "display_data"
    }
   ],
   "source": [
    "def plot_precision_vs_recall(precision, recall):\n",
    "    plt.plot(recall, precision, \"g--\", linewidth=2.5)\n",
    "    plt.ylabel(\"recall\", fontsize=19)\n",
    "    plt.xlabel(\"precision\", fontsize=19)\n",
    "    plt.axis([0, 1.5, 0, 1.5])\n",
    "\n",
    "plt.figure(figsize=(14, 7))\n",
    "plot_precision_vs_recall(precision, recall)\n",
    "plt.show()"
   ]
  },
  {
   "cell_type": "markdown",
   "metadata": {
    "id": "j-fiQxuU02G4"
   },
   "source": [
    "### ROC AUC Score\n"
   ]
  },
  {
   "cell_type": "markdown",
   "metadata": {
    "id": "bI2ZTsYy0vcP"
   },
   "source": [
    "AUC-ROC is the valued metric used for evaluating the performance in classification models. The AUC-ROC metric clearly helps determine and tell us about the capability of a model in distinguishing the classes. The judging criteria being - Higher the AUC, better the model."
   ]
  },
  {
   "cell_type": "code",
   "execution_count": 92,
   "metadata": {
    "colab": {
     "base_uri": "https://localhost:8080/"
    },
    "id": "KSMyX2Nj0N3P",
    "outputId": "e19b2fab-8970-4b6e-c387-fd60df3997db"
   },
   "outputs": [],
   "source": [
    "from sklearn.linear_model import LogisticRegression\n",
    "from sklearn.metrics import roc_auc_score\n",
    "X_train, X_test, y_train, y_test = train_test_split(X, y, test_size=0.3, random_state=27)"
   ]
  },
  {
   "cell_type": "markdown",
   "metadata": {
    "id": "VJr3ZqOV07h3"
   },
   "source": [
    "### ROC AUC Curve\n"
   ]
  },
  {
   "cell_type": "code",
   "execution_count": 93,
   "metadata": {
    "colab": {
     "base_uri": "https://localhost:8080/",
     "height": 451
    },
    "id": "gyhkM_n50Dyu",
    "outputId": "0468b0a9-a80f-42bd-e8a7-6d806039e0f7"
   },
   "outputs": [],
   "source": [
    "from sklearn.linear_model import LogisticRegression\n",
    "from sklearn.neighbors import KNeighborsClassifier\n",
    "\n",
    "# logistic regression\n",
    "model1 = LogisticRegression()\n",
    "# knn\n",
    "model2 = KNeighborsClassifier(n_neighbors=4)\n",
    "\n",
    "# fit model\n",
    "model1.fit(X_train, y_train)\n",
    "model2.fit(X_train, y_train)\n",
    "\n",
    "# predict probabilities\n",
    "pred_prob1 = model1.predict_proba(X_test)\n",
    "pred_prob2 = model2.predict_proba(X_test)"
   ]
  },
  {
   "cell_type": "code",
   "execution_count": 94,
   "metadata": {},
   "outputs": [],
   "source": [
    "from sklearn.metrics import roc_curve\n",
    "\n",
    "# roc curve for models\n",
    "fpr1, tpr1, thresh1 = roc_curve(y_test, pred_prob1[:,1], pos_label=1)\n",
    "fpr2, tpr2, thresh2 = roc_curve(y_test, pred_prob2[:,1], pos_label=1)\n",
    "\n",
    "# roc curve for tpr = fpr \n",
    "random_probs = [0 for i in range(len(y_test))]\n",
    "p_fpr, p_tpr, _ = roc_curve(y_test, random_probs, pos_label=1)"
   ]
  },
  {
   "cell_type": "code",
   "execution_count": 95,
   "metadata": {},
   "outputs": [
    {
     "name": "stdout",
     "output_type": "stream",
     "text": [
      "0.5105761973829777 0.9312914606528386\n"
     ]
    }
   ],
   "source": [
    "from sklearn.metrics import roc_auc_score\n",
    "\n",
    "# auc scores\n",
    "auc_score1 = roc_auc_score(y_test, pred_prob1[:,1])\n",
    "auc_score2 = roc_auc_score(y_test, pred_prob2[:,1])\n",
    "\n",
    "print(auc_score1, auc_score2)"
   ]
  },
  {
   "cell_type": "code",
   "execution_count": 96,
   "metadata": {},
   "outputs": [
    {
     "data": {
      "image/png": "[encoded data removed]",
      "text/plain": [
       "<Figure size 576x396 with 1 Axes>"
      ]
     },
     "metadata": {},
     "output_type": "display_data"
    }
   ],
   "source": [
    "import matplotlib.pyplot as plt\n",
    "plt.style.use('seaborn')\n",
    "\n",
    "# plot roc curves\n",
    "plt.plot(fpr1, tpr1, linestyle='--',color='orange', label='Logistic Regression')\n",
    "plt.plot(fpr2, tpr2, linestyle='--',color='green', label='KNN')\n",
    "plt.plot(p_fpr, p_tpr, linestyle='--', color='blue')\n",
    "# title\n",
    "plt.title('ROC curve')\n",
    "# x label\n",
    "plt.xlabel('False Positive Rate')\n",
    "# y label\n",
    "plt.ylabel('True Positive rate')\n",
    "\n",
    "plt.legend(loc='best')\n",
    "plt.savefig('ROC',dpi=300)\n",
    "plt.show();"
   ]
  },
  {
   "cell_type": "markdown",
   "metadata": {
    "id": "TLjbdUctotpG"
   },
   "source": [
    "We analyzed 4 datasets that were combined into one merged dataset\n",
    "We checked each dataset for duplicates and Nulls and removed them if there were any.\n",
    "We determined the outliers of sum value , checked for balance of target value, determined the distribution of out client's sum and plotted them.\n",
    "Next, we added feature engineering, defined Mutual information , their scores , then we make date parsing with our merged dataframe . Using RFM principle we get 4 separated types of clients 'Top Value', 'High value', 'Medium Value' and 'Low value' clients. "
   ]
  },
  {
   "cell_type": "markdown",
   "metadata": {
    "id": "hQwiti9QotpG"
   },
   "source": [
    "# Part 6 Conclusion"
   ]
  },
  {
   "cell_type": "markdown",
   "metadata": {
    "id": "36jNwlHtotpG"
   },
   "source": [
    "We have used different methods to explore and get informaiton about transactions in bank account. With Python functionality and other modules we analyzed 4 datasets that were combined into one merged dataset. We have also visualized the transactions.\n",
    "Data science is about knowing the right tools to use for a job, and often we need to go beyond accuracy when developing classification models. Knowing about recall, precision, F1, and the ROC curve allows us to assess classification models and should make us think skeptically about anyone touting only the accuracy of a model, especially for imbalanced problems."
   ]
  }
 ],
 "metadata": {
  "colab": {
   "collapsed_sections": [],
   "name": "Assignment_for_second_attestation_(4)_(1)_(3)_(1).ipynb",
   "provenance": [],
   "toc_visible": true
  },
  "kernelspec": {
   "display_name": "Python 3 (ipykernel)",
   "language": "python",
   "name": "python3"
  },
  "language_info": {
   "codemirror_mode": {
    "name": "ipython",
    "version": 3
   },
   "file_extension": ".py",
   "mimetype": "text/x-python",
   "name": "python",
   "nbconvert_exporter": "python",
   "pygments_lexer": "ipython3",
   "version": "3.9.7"
  }
 },
 "nbformat": 4,
 "nbformat_minor": 1
}
